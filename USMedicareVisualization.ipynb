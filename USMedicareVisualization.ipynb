{
 "cells": [
  {
   "cell_type": "code",
   "execution_count": null,
   "metadata": {},
   "outputs": [],
   "source": [
    "import plotly.graph_objects as go\n",
    "import pandas as pd\n",
    "import os"
   ]
  },
  {
   "cell_type": "code",
   "execution_count": null,
   "metadata": {},
   "outputs": [],
   "source": [
    "partB_df = pd.read_csv('labeled-data-v1')"
   ]
  },
  {
   "cell_type": "code",
   "execution_count": null,
   "metadata": {},
   "outputs": [],
   "source": [
    "# Get # of fraudulent services\n",
    "partB_df['fraud_line_srvc_cnt'] = partB_df['line_srvc_cnt']*partB_df['fraudulent']"
   ]
  },
  {
   "cell_type": "code",
   "execution_count": null,
   "metadata": {},
   "outputs": [],
   "source": [
    "# Aggregate by state\n",
    "state_df = partB_df.groupby('nppes_provider_state').agg({\n",
    "    'line_srvc_cnt':[('total_services_count','sum')],\n",
    "    'fraud_line_srvc_cnt':[('total_fraud_services_count','sum')]\n",
    "}).reset_index()\n",
    "\n",
    "# Drop multi-index\n",
    "state_df.columns = ['_'.join(col) for col in state_df.columns]"
   ]
  },
  {
   "cell_type": "code",
   "execution_count": null,
   "metadata": {},
   "outputs": [],
   "source": [
    "state_df.columns = ['provider_state', 'total_services_count', 'fraud_services_count']"
   ]
  },
  {
   "cell_type": "code",
   "execution_count": null,
   "metadata": {},
   "outputs": [],
   "source": [
    "# Get % fraud\n",
    "state_df['fraud_services_pct'] = state_df['fraud_services_count']/state_df['total_services_count']\n",
    "state_df.head()"
   ]
  },
  {
   "cell_type": "code",
   "execution_count": null,
   "metadata": {},
   "outputs": [],
   "source": [
    "fig = go.Figure(data=go.Choropleth(\n",
    "    locations=state_df['provider_state'],\n",
    "    z = np.log(state_df['fraud_services_pct'].astype(float))+0.0000000001, #log-scale\n",
    "    locationmode = 'USA-states',\n",
    "    colorscale = 'Reds',\n",
    "    colorbar_title = \"Logged %\",\n",
    "    marker_line_color='white'\n",
    "))\n",
    "\n",
    "fig.update_layout(\n",
    "    title_text = '2012-2016 Medicare Fraud Percentage by State',\n",
    "    geo_scope='usa',\n",
    ")\n",
    "\n",
    "fig.show()"
   ]
  }
 ],
 "metadata": {
  "kernelspec": {
   "display_name": "Python 3",
   "language": "python",
   "name": "python3"
  },
  "language_info": {
   "codemirror_mode": {
    "name": "ipython",
    "version": 3
   },
   "file_extension": ".py",
   "mimetype": "text/x-python",
   "name": "python",
   "nbconvert_exporter": "python",
   "pygments_lexer": "ipython3",
   "version": "3.7.3"
  }
 },
 "nbformat": 4,
 "nbformat_minor": 2
}
