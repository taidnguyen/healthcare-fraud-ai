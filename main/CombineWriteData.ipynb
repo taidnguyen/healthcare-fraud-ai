{
 "cells": [
  {
   "cell_type": "markdown",
   "metadata": {},
   "source": [
    "## Combined and Write Training Data"
   ]
  },
  {
   "cell_type": "code",
   "execution_count": null,
   "metadata": {},
   "outputs": [],
   "source": [
    "import os\n",
    "import types\n",
    "import pandas as pd"
   ]
  },
  {
   "cell_type": "code",
   "execution_count": null,
   "metadata": {},
   "outputs": [],
   "source": [
    "# Set up data directory\n",
    "CWD = os.getcwd()\n",
    "cms_data_dir = os.path.join(CWD, 'CMSData')"
   ]
  },
  {
   "cell_type": "code",
   "execution_count": null,
   "metadata": {},
   "outputs": [],
   "source": [
    "# Some years columns are capitalized and other years the columns are lowercase:\n",
    "capitalization_dict = {\n",
    "    '2012': str.upper,\n",
    "    '2013': str.upper,\n",
    "    '2014': str.lower,\n",
    "    '2015': str.lower,\n",
    "    '2016': str.upper,\n",
    "    '2017': str.lower,\n",
    "}"
   ]
  },
  {
   "cell_type": "markdown",
   "metadata": {},
   "source": [
    "### 1. CMS Part B dataset"
   ]
  },
  {
   "cell_type": "code",
   "execution_count": null,
   "metadata": {},
   "outputs": [],
   "source": [
    "# Set dtypes based on https://www.cms.gov/Research-Statistics-Data-and-Systems/Statistics-Trends-and-Reports/...\n",
    "#Medicare-Provider-Charge-Data/Physician-and-Other-Supplier2017\n",
    "partB_dtypes = {\n",
    "    'npi': 'int64',\n",
    "    'nppes_provider_last_org_name': 'str',\n",
    "    'nppes_provider_first_name': 'str',\n",
    "    'nppes_provider_mi': 'str',\n",
    "    'nppes_credentials': 'str',\n",
    "    'nppes_provider_gender': 'str',\n",
    "    'nppes_entity_code': 'str',\n",
    "    'nppes_provider_street1': 'str',\n",
    "    'nppes_provider_street2': 'str',\n",
    "    'nppes_provider_city': 'str',\n",
    "    'nppes_provider_zip': 'str',\n",
    "    'nppes_provider_state': 'str',\n",
    "    'nppes_provider_country': 'str',\n",
    "    'provider_type': 'str',\n",
    "    'medicare_participation_indicator': 'str',\n",
    "    'place_of_service': 'str',\n",
    "    'hcpcs_code': 'str',\n",
    "    'hcpcs_description': 'str',\n",
    "    'hcpcs_drug_indicator': 'str',\n",
    "    'line_srvc_cnt': 'float64',\n",
    "    'bene_unique_cnt': 'float64',    \n",
    "    'bene_day_srvc_cnt': 'float64',\n",
    "    'average_medicare_allowed_amt': 'float64',\n",
    "    'average_submitted_chrg_amt': 'float64',\n",
    "    'average_medicare_payment_amt': 'float64',\n",
    "    'average_medicare_standard_amt': 'float64',\n",
    "}"
   ]
  },
  {
   "cell_type": "code",
   "execution_count": null,
   "metadata": {},
   "outputs": [],
   "source": [
    "# Get dfs for all years - TAKE A FEW MINUTES\n",
    "years = ['2012','2013','2014','2015','2016','2017']\n",
    "dfs   = []\n",
    "\n",
    "for year in years:\n",
    "    file = os.path.join(cms_data_dir, f'cms{year}.txt')\n",
    "    dtypes = dict(zip(list(map(capitalization_dict[year], partB_dtypes.keys())), list(partB_dtypes.values()))) #get correct column capitalization and dtype\n",
    "    df = pd.read_csv(file, delimiter='\\t', dtype=dtypes)\n",
    "    df.columns = map(str.lower, df.columns)  # make all variable names lowercase\n",
    "    df['year'] = year #add Year column \n",
    "    dfs.append(df)"
   ]
  },
  {
   "cell_type": "code",
   "execution_count": null,
   "metadata": {},
   "outputs": [],
   "source": [
    "# Concatenate\n",
    "partB_df = pd.concat(dfs, axis=0, ignore_index=True, sort=False)\n",
    "partB_df.shape"
   ]
  },
  {
   "cell_type": "code",
   "execution_count": null,
   "metadata": {},
   "outputs": [],
   "source": [
    "# Drop missing NPI and HCPCS - \"Medicare fraud detection using neural networks\" (Johnson, Khoshgoftaar 2019)\n",
    "partB_df = partB_df.dropna(subset = ['npi','hcpcs_code'])\n",
    "partB_df.shape"
   ]
  },
  {
   "cell_type": "code",
   "execution_count": null,
   "metadata": {},
   "outputs": [],
   "source": [
    "# Remove rows corresponding to drugs because LINE_SRVC_CNT for them is not a desirable count\n",
    "partB_df = partB_df[(partB_df['hcpcs_drug_indicator'] == 'N')]\n",
    "partB_df.shape"
   ]
  },
  {
   "cell_type": "code",
   "execution_count": null,
   "metadata": {},
   "outputs": [],
   "source": [
    "# Keep variables based on \"Medicare fraud detection using neural networks\" (Johnson, Khoshgoftaar 2019)\n",
    "partB_variables_to_keep = [\n",
    "    'npi',\n",
    "    'provider_type',\n",
    "    'nppes_provider_city', # keep\n",
    "    'nppes_provider_zip', # keep\n",
    "    'nppes_provider_state', # keep\n",
    "    'nppes_provider_country', # keep\n",
    "    'hcpcs_code',  # not in paper but kept\n",
    "    'hcpcs_description',  # not in paper but kept\n",
    "    'hcpcs_drug_indicator',  # not in paper but kept\n",
    "    'place_of_service',  # not in paper but kept\n",
    "    'nppes_provider_gender',\n",
    "    'line_srvc_cnt',\n",
    "    'bene_unique_cnt',\n",
    "    'bene_day_srvc_cnt',\n",
    "    'average_submitted_chrg_amt',\n",
    "    'average_medicare_payment_amt',\n",
    "    'year' # need Year for labeling\n",
    "]\n",
    "partB_df = partB_df[partB_variables_to_keep]"
   ]
  },
  {
   "cell_type": "code",
   "execution_count": null,
   "metadata": {},
   "outputs": [],
   "source": [
    "partB_df.head()"
   ]
  },
  {
   "cell_type": "code",
   "execution_count": null,
   "metadata": {},
   "outputs": [],
   "source": [
    "partB_df.loc[partB_df['npi'] == 1003000142][['npi',\n",
    "                                             'provider_type',\n",
    "                                             'place_of_service',\n",
    "                                             'line_srvc_cnt',\n",
    "                                             'average_submitted_chrg_amt']][:5]"
   ]
  },
  {
   "cell_type": "code",
   "execution_count": null,
   "metadata": {},
   "outputs": [],
   "source": [
    "partB_df['year'].value_counts()"
   ]
  },
  {
   "cell_type": "code",
   "execution_count": null,
   "metadata": {},
   "outputs": [],
   "source": [
    "# Write all combined CMS to csv\n",
    "#partB_df.to_csv('combined-partB-data-v2')"
   ]
  },
  {
   "cell_type": "markdown",
   "metadata": {},
   "source": [
    "### 2. LEIE Dataset"
   ]
  },
  {
   "cell_type": "code",
   "execution_count": null,
   "metadata": {},
   "outputs": [],
   "source": [
    "leie_data_dir = os.path.join(CWD, 'LEIEData')"
   ]
  },
  {
   "cell_type": "code",
   "execution_count": null,
   "metadata": {},
   "outputs": [],
   "source": [
    "leie_dtypes = {\n",
    "    'LASTNAME': 'str',\n",
    "    'FIRSTNAME': 'str',\n",
    "    'MIDNAME': 'str',\n",
    "    'BUSNAME' : 'str',\n",
    "    'GENERAL': 'str',\n",
    "    'SPECIALTY': 'str',\n",
    "    'UPIN': 'str',\n",
    "    'NPI': 'int64',\n",
    "    'DOB': 'str',\n",
    "    'ADDRESS': 'str',\n",
    "    'CITY': 'str',\n",
    "    'STATE': 'str',\n",
    "    'ZIP': 'str',\n",
    "    'EXCLTYPE': 'str',\n",
    "    'EXCLDATE': 'int64',\n",
    "    'REINDATE': 'int64',\n",
    "    'WAIVERDATE': 'int64',\n",
    "    'WVRSTATE': 'str',\n",
    "}"
   ]
  },
  {
   "cell_type": "code",
   "execution_count": null,
   "metadata": {},
   "outputs": [],
   "source": [
    "#LEIE data is monthly between 01/2018 (1801) - 12/2019 (1912)\n",
    "year_months = ['1801','1802','1803','1804','1805','1806','1807','1808','1809','1810','1811','1812',\n",
    "            '1901','1902','1903','1904','1905','1906','1907','1908','1909','1910','1911','1912']\n",
    "dfs = []\n",
    "\n",
    "for year_month in year_months:\n",
    "    file = os.path.join(leie_data_dir, f'leie{year_month}-excl.csv')\n",
    "    df   = pd.read_csv(file, dtype=leie_dtypes)\n",
    "    df.columns = map(str.lower, df.columns)\n",
    "    dfs.append(df)"
   ]
  },
  {
   "cell_type": "code",
   "execution_count": null,
   "metadata": {},
   "outputs": [],
   "source": [
    "# Concatenate\n",
    "leie_df = pd.concat(dfs, axis=0, ignore_index=True, sort=False)\n",
    "leie_df.shape"
   ]
  },
  {
   "cell_type": "code",
   "execution_count": null,
   "metadata": {},
   "outputs": [],
   "source": [
    "leie_df.head()"
   ]
  },
  {
   "cell_type": "code",
   "execution_count": null,
   "metadata": {},
   "outputs": [],
   "source": [
    "# Drop NPI = 0, which means missing - A LOT ARE MISSING, which is a problem for the data\n",
    "leie_df = leie_df[leie_df['npi'] != 0]\n",
    "leie_df.shape"
   ]
  },
  {
   "cell_type": "code",
   "execution_count": null,
   "metadata": {},
   "outputs": [],
   "source": [
    "# Keep exclusions most related to Fraud\n",
    "exclusions_to_keep = [\n",
    "    '1128a1',\n",
    "    '1128a2',\n",
    "    '1128a3',\n",
    "    '1128b4',\n",
    "    '1128b7',\n",
    "    '1128c3Gi',\n",
    "    '1128c3gii',\n",
    "]\n",
    "leie_df = leie_df[leie_df['excltype'].isin(exclusions_to_keep)]\n",
    "leie_df.shape"
   ]
  },
  {
   "cell_type": "code",
   "execution_count": null,
   "metadata": {},
   "outputs": [],
   "source": [
    "leie_df['excltype'].value_counts()"
   ]
  },
  {
   "cell_type": "code",
   "execution_count": null,
   "metadata": {},
   "outputs": [],
   "source": [
    "# Write all combined LEIE to csv\n",
    "#partB_df.to_csv('combined-leie-data')"
   ]
  },
  {
   "cell_type": "markdown",
   "metadata": {},
   "source": [
    "### 3. Combine/Label Data"
   ]
  },
  {
   "cell_type": "code",
   "execution_count": null,
   "metadata": {},
   "outputs": [],
   "source": [
    "from datetime import datetime, timedelta\n",
    "import numpy as np"
   ]
  },
  {
   "cell_type": "code",
   "execution_count": null,
   "metadata": {},
   "outputs": [],
   "source": [
    "# Convert to datetime\n",
    "leie_df['excldate'] = pd.to_datetime(leie_df['excldate'], format='%Y%m%d', errors ='ignore')"
   ]
  },
  {
   "cell_type": "code",
   "execution_count": null,
   "metadata": {},
   "outputs": [],
   "source": [
    "# Round excl date to the nearest year Johnson & Khoshgoftaar (2019)\n",
    "def round_to_year(dt=None):\n",
    "    year = dt.year\n",
    "    month = dt.month\n",
    "    if month >= 6:\n",
    "        year = year + 1\n",
    "    return datetime(year=year,month=1,day=1)\n",
    "\n",
    "leie_df['excl_year'] = leie_df.excldate.apply(lambda x: round_to_year(x))"
   ]
  },
  {
   "cell_type": "code",
   "execution_count": null,
   "metadata": {},
   "outputs": [],
   "source": [
    "# Make exclusion dict \n",
    "# 1215053665 has 2 exclusions, so sort df to get latest year\n",
    "excl_year_dict = dict([npi, year] for npi, year in zip(leie_df.sort_values(by='excl_year').npi, leie_df.sort_values(by='excl_year').excl_year))"
   ]
  },
  {
   "cell_type": "code",
   "execution_count": null,
   "metadata": {
    "scrolled": true
   },
   "outputs": [],
   "source": [
    "# Get label as 0 or 1\n",
    "partB_df['excl_year'] = partB_df['npi'].map(excl_year_dict)\n",
    "partB_df['excl_year'] = partB_df['excl_year'].fillna(datetime(year=1900,month=1,day=1)) # fill NaN, physicians without exclusion, with year 1900\n",
    "\n",
    "partB_df['year'] = pd.to_datetime(partB_df['year'].astype(str), format='%Y', errors ='ignore')\n",
    "partB_df['fraudulent'] = np.where(partB_df['year'] < partB_df['excl_year'], 1, 0) # compare year vs. exclusion year to get Fraudulent"
   ]
  },
  {
   "cell_type": "markdown",
   "metadata": {},
   "source": [
    "### 4. Prep Visualization + Training Data"
   ]
  },
  {
   "cell_type": "markdown",
   "metadata": {},
   "source": [
    "- Aggregate data following paper's method\n",
    "- Write data for visualization (including state, city, zip)\n",
    "- Normalize predictors\n",
    "- One hot encoding\n",
    "- Write data for training (excluding state, city, zip)"
   ]
  },
  {
   "cell_type": "code",
   "execution_count": null,
   "metadata": {},
   "outputs": [],
   "source": [
    "new_variables_to_keep = [\n",
    "    'year',\n",
    "    'npi',\n",
    "    'provider_type',\n",
    "    'nppes_provider_city',   #only keep for visualization\n",
    "    'nppes_provider_state',  #only keep for visualization\n",
    "    'nppes_provider_country',#only keep for visualization\n",
    "    'nppes_provider_gender',\n",
    "    'line_srvc_cnt',\n",
    "    'bene_unique_cnt',\n",
    "    'bene_day_srvc_cnt',\n",
    "    'average_submitted_chrg_amt',\n",
    "    'average_medicare_payment_amt',\n",
    "    'fraudulent'\n",
    "]"
   ]
  },
  {
   "cell_type": "code",
   "execution_count": null,
   "metadata": {},
   "outputs": [],
   "source": [
    "#group by\n",
    "temp_df = partB_df[new_variables_to_keep]\n",
    "\n",
    "#agg by npi - provider_type and get sum stats\n",
    "agg_partB_df = temp_df.groupby(by=['year','npi','provider_type','nppes_provider_city',\n",
    "                      'nppes_provider_state','nppes_provider_country','nppes_provider_gender']).agg(\n",
    "                    {\n",
    "                    'line_srvc_cnt':[\"mean\",\"median\",\"std\", min,max,sum],\n",
    "                    'bene_unique_cnt':[\"mean\",\"median\",\"std\", min,max,sum],\n",
    "                    'bene_day_srvc_cnt':[\"mean\",\"median\",\"std\", min,max,sum],\n",
    "                    'average_submitted_chrg_amt':[\"mean\",\"median\",\"std\", min,max,sum],\n",
    "                    'average_medicare_payment_amt':[\"mean\",\"median\",\"std\", min,max,sum],\n",
    "                    'fraudulent':[\"mean\"],\n",
    "                    }).reset_index()\n",
    "\n",
    "agg_partB_df.columns = [\"_\".join(x) for x in agg_partB_df.columns.ravel()] #unravel to get rid of multi-index column names"
   ]
  },
  {
   "cell_type": "code",
   "execution_count": 97,
   "metadata": {},
   "outputs": [
    {
     "data": {
      "text/html": [
       "<div>\n",
       "<style scoped>\n",
       "    .dataframe tbody tr th:only-of-type {\n",
       "        vertical-align: middle;\n",
       "    }\n",
       "\n",
       "    .dataframe tbody tr th {\n",
       "        vertical-align: top;\n",
       "    }\n",
       "\n",
       "    .dataframe thead th {\n",
       "        text-align: right;\n",
       "    }\n",
       "</style>\n",
       "<table border=\"1\" class=\"dataframe\">\n",
       "  <thead>\n",
       "    <tr style=\"text-align: right;\">\n",
       "      <th></th>\n",
       "      <th>year_</th>\n",
       "      <th>npi_</th>\n",
       "      <th>provider_type_</th>\n",
       "      <th>nppes_provider_city_</th>\n",
       "      <th>nppes_provider_state_</th>\n",
       "      <th>nppes_provider_country_</th>\n",
       "      <th>nppes_provider_gender_</th>\n",
       "      <th>line_srvc_cnt_mean</th>\n",
       "      <th>line_srvc_cnt_median</th>\n",
       "      <th>line_srvc_cnt_std</th>\n",
       "      <th>...</th>\n",
       "      <th>average_submitted_chrg_amt_min</th>\n",
       "      <th>average_submitted_chrg_amt_max</th>\n",
       "      <th>average_submitted_chrg_amt_sum</th>\n",
       "      <th>average_medicare_payment_amt_mean</th>\n",
       "      <th>average_medicare_payment_amt_median</th>\n",
       "      <th>average_medicare_payment_amt_std</th>\n",
       "      <th>average_medicare_payment_amt_min</th>\n",
       "      <th>average_medicare_payment_amt_max</th>\n",
       "      <th>average_medicare_payment_amt_sum</th>\n",
       "      <th>fraudulent_mean</th>\n",
       "    </tr>\n",
       "  </thead>\n",
       "  <tbody>\n",
       "    <tr>\n",
       "      <th>0</th>\n",
       "      <td>2012-01-01</td>\n",
       "      <td>1003000126</td>\n",
       "      <td>Internal Medicine</td>\n",
       "      <td>CUMBERLAND</td>\n",
       "      <td>MD</td>\n",
       "      <td>US</td>\n",
       "      <td>M</td>\n",
       "      <td>174.857143</td>\n",
       "      <td>111.0</td>\n",
       "      <td>166.951518</td>\n",
       "      <td>...</td>\n",
       "      <td>58.000000</td>\n",
       "      <td>291.000000</td>\n",
       "      <td>1060.000000</td>\n",
       "      <td>82.218697</td>\n",
       "      <td>81.390000</td>\n",
       "      <td>41.942570</td>\n",
       "      <td>30.720721</td>\n",
       "      <td>158.870000</td>\n",
       "      <td>575.530877</td>\n",
       "      <td>0</td>\n",
       "    </tr>\n",
       "    <tr>\n",
       "      <th>1</th>\n",
       "      <td>2012-01-01</td>\n",
       "      <td>1003000134</td>\n",
       "      <td>Pathology</td>\n",
       "      <td>EVANSTON</td>\n",
       "      <td>IL</td>\n",
       "      <td>US</td>\n",
       "      <td>M</td>\n",
       "      <td>959.125000</td>\n",
       "      <td>223.0</td>\n",
       "      <td>2076.546889</td>\n",
       "      <td>...</td>\n",
       "      <td>39.000000</td>\n",
       "      <td>263.000000</td>\n",
       "      <td>1065.000000</td>\n",
       "      <td>26.053306</td>\n",
       "      <td>25.187934</td>\n",
       "      <td>18.836154</td>\n",
       "      <td>7.815385</td>\n",
       "      <td>64.015735</td>\n",
       "      <td>208.426446</td>\n",
       "      <td>0</td>\n",
       "    </tr>\n",
       "    <tr>\n",
       "      <th>2</th>\n",
       "      <td>2012-01-01</td>\n",
       "      <td>1003000142</td>\n",
       "      <td>Anesthesiology</td>\n",
       "      <td>TOLEDO</td>\n",
       "      <td>OH</td>\n",
       "      <td>US</td>\n",
       "      <td>M</td>\n",
       "      <td>26.000000</td>\n",
       "      <td>26.0</td>\n",
       "      <td>2.828427</td>\n",
       "      <td>...</td>\n",
       "      <td>111.000000</td>\n",
       "      <td>216.571429</td>\n",
       "      <td>327.571429</td>\n",
       "      <td>88.930000</td>\n",
       "      <td>88.930000</td>\n",
       "      <td>48.295393</td>\n",
       "      <td>54.780000</td>\n",
       "      <td>123.080000</td>\n",
       "      <td>177.860000</td>\n",
       "      <td>0</td>\n",
       "    </tr>\n",
       "    <tr>\n",
       "      <th>3</th>\n",
       "      <td>2012-01-01</td>\n",
       "      <td>1003000381</td>\n",
       "      <td>Physical Therapist</td>\n",
       "      <td>LADY LAKE</td>\n",
       "      <td>FL</td>\n",
       "      <td>US</td>\n",
       "      <td>M</td>\n",
       "      <td>166.800000</td>\n",
       "      <td>137.0</td>\n",
       "      <td>159.703475</td>\n",
       "      <td>...</td>\n",
       "      <td>35.000000</td>\n",
       "      <td>96.956522</td>\n",
       "      <td>274.965652</td>\n",
       "      <td>24.315331</td>\n",
       "      <td>19.488837</td>\n",
       "      <td>19.937615</td>\n",
       "      <td>8.767883</td>\n",
       "      <td>58.643913</td>\n",
       "      <td>121.576654</td>\n",
       "      <td>0</td>\n",
       "    </tr>\n",
       "    <tr>\n",
       "      <th>4</th>\n",
       "      <td>2012-01-01</td>\n",
       "      <td>1003000407</td>\n",
       "      <td>Family Practice</td>\n",
       "      <td>PATTON</td>\n",
       "      <td>PA</td>\n",
       "      <td>US</td>\n",
       "      <td>M</td>\n",
       "      <td>154.437500</td>\n",
       "      <td>63.5</td>\n",
       "      <td>180.288276</td>\n",
       "      <td>...</td>\n",
       "      <td>55.214521</td>\n",
       "      <td>510.000000</td>\n",
       "      <td>2343.821257</td>\n",
       "      <td>77.469027</td>\n",
       "      <td>77.795000</td>\n",
       "      <td>35.981435</td>\n",
       "      <td>29.930000</td>\n",
       "      <td>153.106164</td>\n",
       "      <td>1239.504432</td>\n",
       "      <td>0</td>\n",
       "    </tr>\n",
       "  </tbody>\n",
       "</table>\n",
       "<p>5 rows × 38 columns</p>\n",
       "</div>"
      ],
      "text/plain": [
       "        year_        npi_      provider_type_ nppes_provider_city_  \\\n",
       "0  2012-01-01  1003000126   Internal Medicine           CUMBERLAND   \n",
       "1  2012-01-01  1003000134           Pathology             EVANSTON   \n",
       "2  2012-01-01  1003000142      Anesthesiology               TOLEDO   \n",
       "3  2012-01-01  1003000381  Physical Therapist            LADY LAKE   \n",
       "4  2012-01-01  1003000407     Family Practice               PATTON   \n",
       "\n",
       "  nppes_provider_state_ nppes_provider_country_ nppes_provider_gender_  \\\n",
       "0                    MD                      US                      M   \n",
       "1                    IL                      US                      M   \n",
       "2                    OH                      US                      M   \n",
       "3                    FL                      US                      M   \n",
       "4                    PA                      US                      M   \n",
       "\n",
       "   line_srvc_cnt_mean  line_srvc_cnt_median  line_srvc_cnt_std  ...  \\\n",
       "0          174.857143                 111.0         166.951518  ...   \n",
       "1          959.125000                 223.0        2076.546889  ...   \n",
       "2           26.000000                  26.0           2.828427  ...   \n",
       "3          166.800000                 137.0         159.703475  ...   \n",
       "4          154.437500                  63.5         180.288276  ...   \n",
       "\n",
       "   average_submitted_chrg_amt_min  average_submitted_chrg_amt_max  \\\n",
       "0                       58.000000                      291.000000   \n",
       "1                       39.000000                      263.000000   \n",
       "2                      111.000000                      216.571429   \n",
       "3                       35.000000                       96.956522   \n",
       "4                       55.214521                      510.000000   \n",
       "\n",
       "   average_submitted_chrg_amt_sum  average_medicare_payment_amt_mean  \\\n",
       "0                     1060.000000                          82.218697   \n",
       "1                     1065.000000                          26.053306   \n",
       "2                      327.571429                          88.930000   \n",
       "3                      274.965652                          24.315331   \n",
       "4                     2343.821257                          77.469027   \n",
       "\n",
       "   average_medicare_payment_amt_median  average_medicare_payment_amt_std  \\\n",
       "0                            81.390000                         41.942570   \n",
       "1                            25.187934                         18.836154   \n",
       "2                            88.930000                         48.295393   \n",
       "3                            19.488837                         19.937615   \n",
       "4                            77.795000                         35.981435   \n",
       "\n",
       "   average_medicare_payment_amt_min  average_medicare_payment_amt_max  \\\n",
       "0                         30.720721                        158.870000   \n",
       "1                          7.815385                         64.015735   \n",
       "2                         54.780000                        123.080000   \n",
       "3                          8.767883                         58.643913   \n",
       "4                         29.930000                        153.106164   \n",
       "\n",
       "   average_medicare_payment_amt_sum  fraudulent_mean  \n",
       "0                        575.530877                0  \n",
       "1                        208.426446                0  \n",
       "2                        177.860000                0  \n",
       "3                        121.576654                0  \n",
       "4                       1239.504432                0  \n",
       "\n",
       "[5 rows x 38 columns]"
      ]
     },
     "execution_count": 97,
     "metadata": {},
     "output_type": "execute_result"
    }
   ],
   "source": [
    "agg_partB_df.head()"
   ]
  },
  {
   "cell_type": "code",
   "execution_count": 56,
   "metadata": {},
   "outputs": [
    {
     "data": {
      "text/plain": [
       "0    3521673\n",
       "1        703\n",
       "Name: fraudulent_mean, dtype: int64"
      ]
     },
     "metadata": {},
     "output_type": "display_data"
    },
    {
     "name": "stdout",
     "output_type": "stream",
     "text": [
      "Fraudulent physicians are: 0.019962% of all data\n"
     ]
    }
   ],
   "source": [
    "a = agg_partB_df.fraudulent_mean.value_counts()\n",
    "display(a)\n",
    "print('Fraudulent physicians are: {0}% of all data'.format(str(np.round((a[1]/a[0])*100,decimals = 6)))) "
   ]
  },
  {
   "cell_type": "code",
   "execution_count": null,
   "metadata": {},
   "outputs": [],
   "source": [
    "# Write data for visualization before going further\n",
    "%timeit agg_partB_df.to_csv('labeled-data-visualization-v1')"
   ]
  },
  {
   "cell_type": "code",
   "execution_count": 6,
   "metadata": {},
   "outputs": [],
   "source": [
    "# Normalize predictors to [0,1] min-max scale\n",
    "from sklearn import preprocessing\n",
    "\n",
    "# first, get predictors (x's) scaled\n",
    "df = agg_partB_df.iloc[:,7:(agg_partB_df.shape[1]-1)] \n",
    "x  = df.values #returns a numpy array\n",
    "min_max_scaler = preprocessing.MinMaxScaler()\n",
    "x_scaled = min_max_scaler.fit_transform(x)\n",
    "df = pd.DataFrame(x_scaled, columns=df.columns, index=df.index)"
   ]
  },
  {
   "cell_type": "code",
   "execution_count": 7,
   "metadata": {},
   "outputs": [],
   "source": [
    "# merge back in with npi and label\n",
    "agg_partB_df['npi_'] = agg_partB_df['npi_'].astype(str)\n",
    "agg_partB_df['year_']=agg_partB_df['year_'].astype(str).str[:4]\n",
    "\n",
    "agg_partB_df = pd.concat([ agg_partB_df.iloc[:,[0,1,2,6,37]], df ], axis=1)"
   ]
  },
  {
   "cell_type": "code",
   "execution_count": 8,
   "metadata": {},
   "outputs": [],
   "source": [
    "# One-hot encoding\n",
    "for col in ['year_','nppes_provider_gender_','provider_type_']:\n",
    "    agg_partB_df = pd.concat([agg_partB_df, pd.get_dummies(agg_partB_df[col])], axis=1)\n",
    "    agg_partB_df = agg_partB_df.drop(col, 1) #drop old column that's been encoded"
   ]
  },
  {
   "cell_type": "code",
   "execution_count": 9,
   "metadata": {},
   "outputs": [
    {
     "data": {
      "text/plain": [
       "(3522376, 147)"
      ]
     },
     "metadata": {},
     "output_type": "display_data"
    },
    {
     "name": "stdout",
     "output_type": "stream",
     "text": [
      "There are 146 predictors.\n"
     ]
    }
   ],
   "source": [
    "display(agg_partB_df.shape)\n",
    "print('There are {0} predictors.'.format(agg_partB_df.shape[1]-1)) "
   ]
  },
  {
   "cell_type": "code",
   "execution_count": null,
   "metadata": {
    "scrolled": true
   },
   "outputs": [],
   "source": [
    "# Write data for training\n",
    "%timeit agg_partB_df.to_csv('labeled-data-training-v1')"
   ]
  }
 ],
 "metadata": {
  "kernelspec": {
   "display_name": "Python 3",
   "language": "python",
   "name": "python3"
  },
  "language_info": {
   "codemirror_mode": {
    "name": "ipython",
    "version": 3
   },
   "file_extension": ".py",
   "mimetype": "text/x-python",
   "name": "python",
   "nbconvert_exporter": "python",
   "pygments_lexer": "ipython3",
   "version": "3.7.4"
  }
 },
 "nbformat": 4,
 "nbformat_minor": 2
}
