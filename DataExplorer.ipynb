{
 "cells": [
  {
   "cell_type": "markdown",
   "metadata": {},
   "source": [
    "## Combined and Write Training Data"
   ]
  },
  {
   "cell_type": "markdown",
   "metadata": {},
   "source": [
    "- Combining all years for CMS (2012-2017) and LEIE (01/2018-12/2019).\n",
    "\n",
    "- Follow directions from Johnson & Khoshgoftaar (2019) to clean both sets.\n",
    "\n",
    "- Classify each row as fraudulent (1) or not (0) based on exclusion dates.\n",
    "\n",
    "(COS API did not work great, so all files were written in from local then uploaded to COS.)"
   ]
  },
  {
   "cell_type": "code",
   "execution_count": 18,
   "metadata": {},
   "outputs": [],
   "source": [
    "import os\n",
    "import types\n",
    "import pandas as pd\n",
    "from botocore.client import Config\n",
    "import ibm_boto3"
   ]
  },
  {
   "cell_type": "code",
   "execution_count": 19,
   "metadata": {},
   "outputs": [],
   "source": [
    "# # @hidden_cell\n",
    "# # The following code accesses a file in your IBM Cloud Object Storage. It includes your credentials.\n",
    "# # You might want to remove those credentials before you share the notebook.\n",
    "# client_2c96a895be1c4c6fbdb974fb06084271 = ibm_boto3.client(service_name='s3',\n",
    "#     ibm_api_key_id='rixfgKn8meWFMo9bgKuWqszB1oKlUhKx-t1WnKbo-saT',\n",
    "#     ibm_auth_endpoint=\"https://iam.ng.bluemix.net/oidc/token\",\n",
    "#     config=Config(signature_version='oauth'),\n",
    "#     endpoint_url='https://s3.us-south.cloud-object-storage.appdomain.cloud')\n",
    "\n",
    "# def __iter__(self): return 0\n",
    "# body = client_2c96a895be1c4c6fbdb974fb06084271.get_object(Bucket='healthlock-ai-data-cos',Key=f'CMSData/cms2012.txt')['Body']\n",
    "# # add missing __iter__ method, so pandas accepts body as file-like object\n",
    "# if not hasattr(body, \"__iter__\"): body.__iter__ = types.MethodType( __iter__, body )\n",
    "\n",
    "# df = pd.read_csv(body, delimiter='\\t')"
   ]
  },
  {
   "cell_type": "code",
   "execution_count": 20,
   "metadata": {},
   "outputs": [],
   "source": [
    "# Set up data directory\n",
    "CWD = os.getcwd()\n",
    "cms_data_dir = os.path.join(CWD, 'CMSData')"
   ]
  },
  {
   "cell_type": "code",
   "execution_count": 21,
   "metadata": {},
   "outputs": [],
   "source": [
    "# Some years columns are capitalized and other years the columns are lowercase:\n",
    "capitalization_dict = {\n",
    "    '2012': str.upper,\n",
    "    '2013': str.upper,\n",
    "    '2014': str.lower,\n",
    "    '2015': str.lower,\n",
    "    '2016': str.upper,\n",
    "    '2017': str.lower,\n",
    "}"
   ]
  },
  {
   "cell_type": "markdown",
   "metadata": {},
   "source": [
    "### 1. CMS Part B dataset"
   ]
  },
  {
   "cell_type": "code",
   "execution_count": 22,
   "metadata": {},
   "outputs": [],
   "source": [
    "# Set dtypes based on https://www.cms.gov/Research-Statistics-Data-and-Systems/Statistics-Trends-and-Reports/...\n",
    "#Medicare-Provider-Charge-Data/Physician-and-Other-Supplier2017\n",
    "partB_dtypes = {\n",
    "    'npi': 'int64',\n",
    "    'nppes_provider_last_org_name': 'str',\n",
    "    'nppes_provider_first_name': 'str',\n",
    "    'nppes_provider_mi': 'str',\n",
    "    'nppes_credentials': 'str',\n",
    "    'nppes_provider_gender': 'str',\n",
    "    'nppes_entity_code': 'str',\n",
    "    'nppes_provider_street1': 'str',\n",
    "    'nppes_provider_street2': 'str',\n",
    "    'nppes_provider_city': 'str',\n",
    "    'nppes_provider_zip': 'str',\n",
    "    'nppes_provider_state': 'str',\n",
    "    'nppes_provider_country': 'str',\n",
    "    'provider_type': 'str',\n",
    "    'medicare_participation_indicator': 'str',\n",
    "    'place_of_service': 'str',\n",
    "    'hcpcs_code': 'str',\n",
    "    'hcpcs_description': 'str',\n",
    "    'hcpcs_drug_indicator': 'str',\n",
    "    'line_srvc_cnt': 'float64',\n",
    "    'bene_unique_cnt': 'float64',    \n",
    "    'bene_day_srvc_cnt': 'float64',\n",
    "    'average_medicare_allowed_amt': 'float64',\n",
    "    'average_submitted_chrg_amt': 'float64',\n",
    "    'average_medicare_payment_amt': 'float64',\n",
    "    'average_medicare_standard_amt': 'float64',\n",
    "}"
   ]
  },
  {
   "cell_type": "code",
   "execution_count": 23,
   "metadata": {},
   "outputs": [],
   "source": [
    "# Get dfs for all years - TAKE A FEW MINUTES\n",
    "years = ['2012','2013','2014','2015','2016','2017']\n",
    "dfs   = []\n",
    "\n",
    "for year in years:\n",
    "    file = os.path.join(cms_data_dir, f'cms{year}.txt')\n",
    "    dtypes = dict(zip(list(map(capitalization_dict[year], partB_dtypes.keys())), list(partB_dtypes.values()))) #get correct column capitalization and dtype\n",
    "    df = pd.read_csv(file, delimiter='\\t', dtype=dtypes)\n",
    "    df.columns = map(str.lower, df.columns)  # make all variable names lowercase\n",
    "    df['year'] = year #add Year column \n",
    "    dfs.append(df)"
   ]
  },
  {
   "cell_type": "code",
   "execution_count": 24,
   "metadata": {},
   "outputs": [
    {
     "data": {
      "text/plain": [
       "(39729303, 86)"
      ]
     },
     "execution_count": 24,
     "metadata": {},
     "output_type": "execute_result"
    }
   ],
   "source": [
    "# Concatenate\n",
    "partB_df = pd.concat(dfs, axis=0, ignore_index=True, sort=False)\n",
    "partB_df.shape"
   ]
  },
  {
   "cell_type": "code",
   "execution_count": 25,
   "metadata": {},
   "outputs": [
    {
     "data": {
      "text/plain": [
       "(37653935, 86)"
      ]
     },
     "execution_count": 25,
     "metadata": {},
     "output_type": "execute_result"
    }
   ],
   "source": [
    "# Drop missing NPI and HCPCS - \"Medicare fraud detection using neural networks\" (Johnson, Khoshgoftaar 2019)\n",
    "partB_df = partB_df.dropna(subset = ['npi','hcpcs_code'])\n",
    "partB_df.shape"
   ]
  },
  {
   "cell_type": "code",
   "execution_count": 26,
   "metadata": {},
   "outputs": [
    {
     "data": {
      "text/plain": [
       "(35368294, 86)"
      ]
     },
     "execution_count": 26,
     "metadata": {},
     "output_type": "execute_result"
    }
   ],
   "source": [
    "# Remove rows corresponding to drugs because LINE_SRVC_CNT for them is not a desirable count\n",
    "partB_df = partB_df[(partB_df['hcpcs_drug_indicator'] == 'N')]\n",
    "partB_df.shape"
   ]
  },
  {
   "cell_type": "code",
   "execution_count": 27,
   "metadata": {},
   "outputs": [],
   "source": [
    "# Keep variables based on \"Medicare fraud detection using neural networks\" (Johnson, Khoshgoftaar 2019)\n",
    "partB_variables_to_keep = [\n",
    "    'npi',\n",
    "    'provider_type',\n",
    "    'nppes_provider_city', # keep\n",
    "    'nppes_provider_zip', # keep\n",
    "    'nppes_provider_state', # keep\n",
    "    'nppes_provider_country', # keep\n",
    "    'hcpcs_code',  # not in paper but kept\n",
    "    'hcpcs_description',  # not in paper but kept\n",
    "    'hcpcs_drug_indicator',  # not in paper but kept\n",
    "    'place_of_service',  # not in paper but kept\n",
    "    'nppes_provider_gender',\n",
    "    'line_srvc_cnt',\n",
    "    'bene_unique_cnt',\n",
    "    'bene_day_srvc_cnt',\n",
    "    'average_submitted_chrg_amt',\n",
    "    'average_medicare_payment_amt',\n",
    "    'year' # need Year for labeling\n",
    "]\n",
    "partB_df = partB_df[partB_variables_to_keep]"
   ]
  },
  {
   "cell_type": "code",
   "execution_count": 28,
   "metadata": {},
   "outputs": [
    {
     "data": {
      "text/html": [
       "<div>\n",
       "<style scoped>\n",
       "    .dataframe tbody tr th:only-of-type {\n",
       "        vertical-align: middle;\n",
       "    }\n",
       "\n",
       "    .dataframe tbody tr th {\n",
       "        vertical-align: top;\n",
       "    }\n",
       "\n",
       "    .dataframe thead th {\n",
       "        text-align: right;\n",
       "    }\n",
       "</style>\n",
       "<table border=\"1\" class=\"dataframe\">\n",
       "  <thead>\n",
       "    <tr style=\"text-align: right;\">\n",
       "      <th></th>\n",
       "      <th>npi</th>\n",
       "      <th>provider_type</th>\n",
       "      <th>nppes_provider_city</th>\n",
       "      <th>nppes_provider_zip</th>\n",
       "      <th>nppes_provider_state</th>\n",
       "      <th>nppes_provider_country</th>\n",
       "      <th>hcpcs_code</th>\n",
       "      <th>hcpcs_description</th>\n",
       "      <th>hcpcs_drug_indicator</th>\n",
       "      <th>place_of_service</th>\n",
       "      <th>nppes_provider_gender</th>\n",
       "      <th>line_srvc_cnt</th>\n",
       "      <th>bene_unique_cnt</th>\n",
       "      <th>bene_day_srvc_cnt</th>\n",
       "      <th>average_submitted_chrg_amt</th>\n",
       "      <th>average_medicare_payment_amt</th>\n",
       "      <th>year</th>\n",
       "    </tr>\n",
       "  </thead>\n",
       "  <tbody>\n",
       "    <tr>\n",
       "      <th>1</th>\n",
       "      <td>1003000126</td>\n",
       "      <td>Internal Medicine</td>\n",
       "      <td>CUMBERLAND</td>\n",
       "      <td>215021854</td>\n",
       "      <td>MD</td>\n",
       "      <td>US</td>\n",
       "      <td>99222</td>\n",
       "      <td>Initial hospital inpatient care, typically 50 ...</td>\n",
       "      <td>N</td>\n",
       "      <td>F</td>\n",
       "      <td>M</td>\n",
       "      <td>115.0</td>\n",
       "      <td>112.0</td>\n",
       "      <td>115.0</td>\n",
       "      <td>199.0</td>\n",
       "      <td>108.115652</td>\n",
       "      <td>2012</td>\n",
       "    </tr>\n",
       "    <tr>\n",
       "      <th>2</th>\n",
       "      <td>1003000126</td>\n",
       "      <td>Internal Medicine</td>\n",
       "      <td>CUMBERLAND</td>\n",
       "      <td>215021854</td>\n",
       "      <td>MD</td>\n",
       "      <td>US</td>\n",
       "      <td>99223</td>\n",
       "      <td>Initial hospital inpatient care, typically 70 ...</td>\n",
       "      <td>N</td>\n",
       "      <td>F</td>\n",
       "      <td>M</td>\n",
       "      <td>93.0</td>\n",
       "      <td>88.0</td>\n",
       "      <td>93.0</td>\n",
       "      <td>291.0</td>\n",
       "      <td>158.870000</td>\n",
       "      <td>2012</td>\n",
       "    </tr>\n",
       "    <tr>\n",
       "      <th>3</th>\n",
       "      <td>1003000126</td>\n",
       "      <td>Internal Medicine</td>\n",
       "      <td>CUMBERLAND</td>\n",
       "      <td>215021854</td>\n",
       "      <td>MD</td>\n",
       "      <td>US</td>\n",
       "      <td>99231</td>\n",
       "      <td>Subsequent hospital inpatient care, typically ...</td>\n",
       "      <td>N</td>\n",
       "      <td>F</td>\n",
       "      <td>M</td>\n",
       "      <td>111.0</td>\n",
       "      <td>83.0</td>\n",
       "      <td>111.0</td>\n",
       "      <td>58.0</td>\n",
       "      <td>30.720721</td>\n",
       "      <td>2012</td>\n",
       "    </tr>\n",
       "    <tr>\n",
       "      <th>4</th>\n",
       "      <td>1003000126</td>\n",
       "      <td>Internal Medicine</td>\n",
       "      <td>CUMBERLAND</td>\n",
       "      <td>215021854</td>\n",
       "      <td>MD</td>\n",
       "      <td>US</td>\n",
       "      <td>99232</td>\n",
       "      <td>Subsequent hospital inpatient care, typically ...</td>\n",
       "      <td>N</td>\n",
       "      <td>F</td>\n",
       "      <td>M</td>\n",
       "      <td>544.0</td>\n",
       "      <td>295.0</td>\n",
       "      <td>544.0</td>\n",
       "      <td>105.0</td>\n",
       "      <td>56.655662</td>\n",
       "      <td>2012</td>\n",
       "    </tr>\n",
       "    <tr>\n",
       "      <th>5</th>\n",
       "      <td>1003000126</td>\n",
       "      <td>Internal Medicine</td>\n",
       "      <td>CUMBERLAND</td>\n",
       "      <td>215021854</td>\n",
       "      <td>MD</td>\n",
       "      <td>US</td>\n",
       "      <td>99233</td>\n",
       "      <td>Subsequent hospital inpatient care, typically ...</td>\n",
       "      <td>N</td>\n",
       "      <td>F</td>\n",
       "      <td>M</td>\n",
       "      <td>75.0</td>\n",
       "      <td>55.0</td>\n",
       "      <td>75.0</td>\n",
       "      <td>150.0</td>\n",
       "      <td>81.390000</td>\n",
       "      <td>2012</td>\n",
       "    </tr>\n",
       "  </tbody>\n",
       "</table>\n",
       "</div>"
      ],
      "text/plain": [
       "          npi      provider_type nppes_provider_city nppes_provider_zip  \\\n",
       "1  1003000126  Internal Medicine          CUMBERLAND          215021854   \n",
       "2  1003000126  Internal Medicine          CUMBERLAND          215021854   \n",
       "3  1003000126  Internal Medicine          CUMBERLAND          215021854   \n",
       "4  1003000126  Internal Medicine          CUMBERLAND          215021854   \n",
       "5  1003000126  Internal Medicine          CUMBERLAND          215021854   \n",
       "\n",
       "  nppes_provider_state nppes_provider_country hcpcs_code  \\\n",
       "1                   MD                     US      99222   \n",
       "2                   MD                     US      99223   \n",
       "3                   MD                     US      99231   \n",
       "4                   MD                     US      99232   \n",
       "5                   MD                     US      99233   \n",
       "\n",
       "                                   hcpcs_description hcpcs_drug_indicator  \\\n",
       "1  Initial hospital inpatient care, typically 50 ...                    N   \n",
       "2  Initial hospital inpatient care, typically 70 ...                    N   \n",
       "3  Subsequent hospital inpatient care, typically ...                    N   \n",
       "4  Subsequent hospital inpatient care, typically ...                    N   \n",
       "5  Subsequent hospital inpatient care, typically ...                    N   \n",
       "\n",
       "  place_of_service nppes_provider_gender  line_srvc_cnt  bene_unique_cnt  \\\n",
       "1                F                     M          115.0            112.0   \n",
       "2                F                     M           93.0             88.0   \n",
       "3                F                     M          111.0             83.0   \n",
       "4                F                     M          544.0            295.0   \n",
       "5                F                     M           75.0             55.0   \n",
       "\n",
       "   bene_day_srvc_cnt  average_submitted_chrg_amt  \\\n",
       "1              115.0                       199.0   \n",
       "2               93.0                       291.0   \n",
       "3              111.0                        58.0   \n",
       "4              544.0                       105.0   \n",
       "5               75.0                       150.0   \n",
       "\n",
       "   average_medicare_payment_amt  year  \n",
       "1                    108.115652  2012  \n",
       "2                    158.870000  2012  \n",
       "3                     30.720721  2012  \n",
       "4                     56.655662  2012  \n",
       "5                     81.390000  2012  "
      ]
     },
     "execution_count": 28,
     "metadata": {},
     "output_type": "execute_result"
    }
   ],
   "source": [
    "partB_df.head()"
   ]
  },
  {
   "cell_type": "code",
   "execution_count": 29,
   "metadata": {},
   "outputs": [
    {
     "data": {
      "text/html": [
       "<div>\n",
       "<style scoped>\n",
       "    .dataframe tbody tr th:only-of-type {\n",
       "        vertical-align: middle;\n",
       "    }\n",
       "\n",
       "    .dataframe tbody tr th {\n",
       "        vertical-align: top;\n",
       "    }\n",
       "\n",
       "    .dataframe thead th {\n",
       "        text-align: right;\n",
       "    }\n",
       "</style>\n",
       "<table border=\"1\" class=\"dataframe\">\n",
       "  <thead>\n",
       "    <tr style=\"text-align: right;\">\n",
       "      <th></th>\n",
       "      <th>npi</th>\n",
       "      <th>provider_type</th>\n",
       "      <th>place_of_service</th>\n",
       "      <th>line_srvc_cnt</th>\n",
       "      <th>average_submitted_chrg_amt</th>\n",
       "    </tr>\n",
       "  </thead>\n",
       "  <tbody>\n",
       "    <tr>\n",
       "      <th>16</th>\n",
       "      <td>1003000142</td>\n",
       "      <td>Anesthesiology</td>\n",
       "      <td>O</td>\n",
       "      <td>28.0</td>\n",
       "      <td>216.571429</td>\n",
       "    </tr>\n",
       "    <tr>\n",
       "      <th>17</th>\n",
       "      <td>1003000142</td>\n",
       "      <td>Anesthesiology</td>\n",
       "      <td>O</td>\n",
       "      <td>24.0</td>\n",
       "      <td>111.000000</td>\n",
       "    </tr>\n",
       "    <tr>\n",
       "      <th>9153288</th>\n",
       "      <td>1003000142</td>\n",
       "      <td>Anesthesiology</td>\n",
       "      <td>F</td>\n",
       "      <td>56.0</td>\n",
       "      <td>483.000000</td>\n",
       "    </tr>\n",
       "    <tr>\n",
       "      <th>9153289</th>\n",
       "      <td>1003000142</td>\n",
       "      <td>Anesthesiology</td>\n",
       "      <td>F</td>\n",
       "      <td>16.0</td>\n",
       "      <td>1105.000000</td>\n",
       "    </tr>\n",
       "    <tr>\n",
       "      <th>9153290</th>\n",
       "      <td>1003000142</td>\n",
       "      <td>Anesthesiology</td>\n",
       "      <td>F</td>\n",
       "      <td>22.0</td>\n",
       "      <td>709.136364</td>\n",
       "    </tr>\n",
       "  </tbody>\n",
       "</table>\n",
       "</div>"
      ],
      "text/plain": [
       "                npi   provider_type place_of_service  line_srvc_cnt  \\\n",
       "16       1003000142  Anesthesiology                O           28.0   \n",
       "17       1003000142  Anesthesiology                O           24.0   \n",
       "9153288  1003000142  Anesthesiology                F           56.0   \n",
       "9153289  1003000142  Anesthesiology                F           16.0   \n",
       "9153290  1003000142  Anesthesiology                F           22.0   \n",
       "\n",
       "         average_submitted_chrg_amt  \n",
       "16                       216.571429  \n",
       "17                       111.000000  \n",
       "9153288                  483.000000  \n",
       "9153289                 1105.000000  \n",
       "9153290                  709.136364  "
      ]
     },
     "execution_count": 29,
     "metadata": {},
     "output_type": "execute_result"
    }
   ],
   "source": [
    "partB_df.loc[partB_df['npi'] == 1003000142][['npi',\n",
    "                                             'provider_type',\n",
    "                                             'place_of_service',\n",
    "                                             'line_srvc_cnt',\n",
    "                                             'average_submitted_chrg_amt']][:5]"
   ]
  },
  {
   "cell_type": "code",
   "execution_count": 30,
   "metadata": {},
   "outputs": [
    {
     "data": {
      "text/plain": [
       "2016    9104337\n",
       "2015    8904316\n",
       "2013    8732934\n",
       "2012    8626707\n",
       "Name: year, dtype: int64"
      ]
     },
     "execution_count": 30,
     "metadata": {},
     "output_type": "execute_result"
    }
   ],
   "source": [
    "partB_df['year'].value_counts()"
   ]
  },
  {
   "cell_type": "code",
   "execution_count": 31,
   "metadata": {},
   "outputs": [],
   "source": [
    "# Write all combined CMS to csv\n",
    "#partB_df.to_csv('combined-partB-data-v2')"
   ]
  },
  {
   "cell_type": "markdown",
   "metadata": {},
   "source": [
    "### 2. LEIE Dataset"
   ]
  },
  {
   "cell_type": "code",
   "execution_count": 32,
   "metadata": {},
   "outputs": [],
   "source": [
    "leie_data_dir = os.path.join(CWD, 'LEIEData')"
   ]
  },
  {
   "cell_type": "code",
   "execution_count": 33,
   "metadata": {},
   "outputs": [],
   "source": [
    "leie_dtypes = {\n",
    "    'LASTNAME': 'str',\n",
    "    'FIRSTNAME': 'str',\n",
    "    'MIDNAME': 'str',\n",
    "    'BUSNAME' : 'str',\n",
    "    'GENERAL': 'str',\n",
    "    'SPECIALTY': 'str',\n",
    "    'UPIN': 'str',\n",
    "    'NPI': 'int64',\n",
    "    'DOB': 'str',\n",
    "    'ADDRESS': 'str',\n",
    "    'CITY': 'str',\n",
    "    'STATE': 'str',\n",
    "    'ZIP': 'str',\n",
    "    'EXCLTYPE': 'str',\n",
    "    'EXCLDATE': 'int64',\n",
    "    'REINDATE': 'int64',\n",
    "    'WAIVERDATE': 'int64',\n",
    "    'WVRSTATE': 'str',\n",
    "}"
   ]
  },
  {
   "cell_type": "code",
   "execution_count": 34,
   "metadata": {},
   "outputs": [],
   "source": [
    "#LEIE data is monthly between 01/2018 (1801) - 12/2019 (1912)\n",
    "year_months = ['1801','1802','1803','1804','1805','1806','1807','1808','1809','1810','1811','1812',\n",
    "            '1901','1902','1903','1904','1905','1906','1907','1908','1909','1910','1911','1912']\n",
    "dfs = []\n",
    "\n",
    "for year_month in year_months:\n",
    "    file = os.path.join(leie_data_dir, f'leie{year_month}-excl.csv')\n",
    "    df   = pd.read_csv(file, dtype=leie_dtypes)\n",
    "    df.columns = map(str.lower, df.columns)\n",
    "    dfs.append(df)"
   ]
  },
  {
   "cell_type": "code",
   "execution_count": 35,
   "metadata": {},
   "outputs": [
    {
     "data": {
      "text/plain": [
       "(4983, 18)"
      ]
     },
     "execution_count": 35,
     "metadata": {},
     "output_type": "execute_result"
    }
   ],
   "source": [
    "# Concatenate\n",
    "leie_df = pd.concat(dfs, axis=0, ignore_index=True, sort=False)\n",
    "leie_df.shape"
   ]
  },
  {
   "cell_type": "code",
   "execution_count": 36,
   "metadata": {},
   "outputs": [
    {
     "data": {
      "text/html": [
       "<div>\n",
       "<style scoped>\n",
       "    .dataframe tbody tr th:only-of-type {\n",
       "        vertical-align: middle;\n",
       "    }\n",
       "\n",
       "    .dataframe tbody tr th {\n",
       "        vertical-align: top;\n",
       "    }\n",
       "\n",
       "    .dataframe thead th {\n",
       "        text-align: right;\n",
       "    }\n",
       "</style>\n",
       "<table border=\"1\" class=\"dataframe\">\n",
       "  <thead>\n",
       "    <tr style=\"text-align: right;\">\n",
       "      <th></th>\n",
       "      <th>lastname</th>\n",
       "      <th>firstname</th>\n",
       "      <th>midname</th>\n",
       "      <th>busname</th>\n",
       "      <th>general</th>\n",
       "      <th>specialty</th>\n",
       "      <th>upin</th>\n",
       "      <th>npi</th>\n",
       "      <th>dob</th>\n",
       "      <th>address</th>\n",
       "      <th>city</th>\n",
       "      <th>state</th>\n",
       "      <th>zip</th>\n",
       "      <th>excltype</th>\n",
       "      <th>excldate</th>\n",
       "      <th>reindate</th>\n",
       "      <th>waiverdate</th>\n",
       "      <th>wvrstate</th>\n",
       "    </tr>\n",
       "  </thead>\n",
       "  <tbody>\n",
       "    <tr>\n",
       "      <th>0</th>\n",
       "      <td>NaN</td>\n",
       "      <td>NaN</td>\n",
       "      <td></td>\n",
       "      <td>CHANGING STEPS TREATMENT CENTE</td>\n",
       "      <td>OTHER BUSINESS</td>\n",
       "      <td>COMMUNITY HLTH CTR (</td>\n",
       "      <td>NaN</td>\n",
       "      <td>1477704351</td>\n",
       "      <td>NaN</td>\n",
       "      <td>14540 HAMLIN ST, STE B</td>\n",
       "      <td>VAN NUYS</td>\n",
       "      <td>CA</td>\n",
       "      <td>91411</td>\n",
       "      <td>1128a1</td>\n",
       "      <td>20180220</td>\n",
       "      <td>0</td>\n",
       "      <td>0</td>\n",
       "      <td>NaN</td>\n",
       "    </tr>\n",
       "    <tr>\n",
       "      <th>1</th>\n",
       "      <td>NaN</td>\n",
       "      <td>NaN</td>\n",
       "      <td></td>\n",
       "      <td>OLIVE TREE FOSTER HOME</td>\n",
       "      <td>OTHER BUSINESS</td>\n",
       "      <td>ADULT HOME</td>\n",
       "      <td>NaN</td>\n",
       "      <td>0</td>\n",
       "      <td>NaN</td>\n",
       "      <td>94-245 PUPUKOAE STREET</td>\n",
       "      <td>HONOLULU</td>\n",
       "      <td>HI</td>\n",
       "      <td>96797</td>\n",
       "      <td>1128a1</td>\n",
       "      <td>20180220</td>\n",
       "      <td>0</td>\n",
       "      <td>0</td>\n",
       "      <td>NaN</td>\n",
       "    </tr>\n",
       "    <tr>\n",
       "      <th>2</th>\n",
       "      <td>AIRHART</td>\n",
       "      <td>LAURA</td>\n",
       "      <td>PAULINE</td>\n",
       "      <td>NaN</td>\n",
       "      <td>IND- LIC HC SERV PRO</td>\n",
       "      <td>NURSE/NURSES AIDE</td>\n",
       "      <td>NaN</td>\n",
       "      <td>0</td>\n",
       "      <td>19770704</td>\n",
       "      <td>7304 FULLER CIRCLE</td>\n",
       "      <td>FORT WORTH</td>\n",
       "      <td>TX</td>\n",
       "      <td>76133</td>\n",
       "      <td>1128b4</td>\n",
       "      <td>20180220</td>\n",
       "      <td>0</td>\n",
       "      <td>0</td>\n",
       "      <td>NaN</td>\n",
       "    </tr>\n",
       "    <tr>\n",
       "      <th>3</th>\n",
       "      <td>ALBERT</td>\n",
       "      <td>AMY</td>\n",
       "      <td></td>\n",
       "      <td>NaN</td>\n",
       "      <td>IND- LIC HC SERV PRO</td>\n",
       "      <td>PHYSICIAN'S ASSISTAN</td>\n",
       "      <td>NaN</td>\n",
       "      <td>1679639397</td>\n",
       "      <td>19770818</td>\n",
       "      <td>1124 GAINSBORO ROAD</td>\n",
       "      <td>LOWER MERION</td>\n",
       "      <td>PA</td>\n",
       "      <td>19004</td>\n",
       "      <td>1128b4</td>\n",
       "      <td>20180220</td>\n",
       "      <td>0</td>\n",
       "      <td>0</td>\n",
       "      <td>NaN</td>\n",
       "    </tr>\n",
       "    <tr>\n",
       "      <th>4</th>\n",
       "      <td>ALLEN</td>\n",
       "      <td>HEATHER</td>\n",
       "      <td>ANITRA</td>\n",
       "      <td>NaN</td>\n",
       "      <td>IND- LIC HC SERV PRO</td>\n",
       "      <td>NURSE/NURSES AIDE</td>\n",
       "      <td>NaN</td>\n",
       "      <td>0</td>\n",
       "      <td>19740326</td>\n",
       "      <td>1004 BINGHAM AVE</td>\n",
       "      <td>ROWAN</td>\n",
       "      <td>IA</td>\n",
       "      <td>50470</td>\n",
       "      <td>1128a3</td>\n",
       "      <td>20180220</td>\n",
       "      <td>0</td>\n",
       "      <td>0</td>\n",
       "      <td>NaN</td>\n",
       "    </tr>\n",
       "  </tbody>\n",
       "</table>\n",
       "</div>"
      ],
      "text/plain": [
       "  lastname firstname   midname                         busname  \\\n",
       "0      NaN       NaN            CHANGING STEPS TREATMENT CENTE   \n",
       "1      NaN       NaN                    OLIVE TREE FOSTER HOME   \n",
       "2  AIRHART     LAURA  PAULINE                              NaN   \n",
       "3   ALBERT       AMY                                       NaN   \n",
       "4    ALLEN   HEATHER   ANITRA                              NaN   \n",
       "\n",
       "                general             specialty upin         npi       dob  \\\n",
       "0        OTHER BUSINESS  COMMUNITY HLTH CTR (  NaN  1477704351       NaN   \n",
       "1        OTHER BUSINESS            ADULT HOME  NaN           0       NaN   \n",
       "2  IND- LIC HC SERV PRO     NURSE/NURSES AIDE  NaN           0  19770704   \n",
       "3  IND- LIC HC SERV PRO  PHYSICIAN'S ASSISTAN  NaN  1679639397  19770818   \n",
       "4  IND- LIC HC SERV PRO     NURSE/NURSES AIDE  NaN           0  19740326   \n",
       "\n",
       "                  address          city state    zip excltype  excldate  \\\n",
       "0  14540 HAMLIN ST, STE B      VAN NUYS    CA  91411   1128a1  20180220   \n",
       "1  94-245 PUPUKOAE STREET      HONOLULU    HI  96797   1128a1  20180220   \n",
       "2      7304 FULLER CIRCLE    FORT WORTH    TX  76133   1128b4  20180220   \n",
       "3     1124 GAINSBORO ROAD  LOWER MERION    PA  19004   1128b4  20180220   \n",
       "4        1004 BINGHAM AVE         ROWAN    IA  50470   1128a3  20180220   \n",
       "\n",
       "   reindate  waiverdate wvrstate  \n",
       "0         0           0      NaN  \n",
       "1         0           0      NaN  \n",
       "2         0           0      NaN  \n",
       "3         0           0      NaN  \n",
       "4         0           0      NaN  "
      ]
     },
     "execution_count": 36,
     "metadata": {},
     "output_type": "execute_result"
    }
   ],
   "source": [
    "leie_df.head()"
   ]
  },
  {
   "cell_type": "code",
   "execution_count": 37,
   "metadata": {},
   "outputs": [
    {
     "data": {
      "text/plain": [
       "(1009, 18)"
      ]
     },
     "execution_count": 37,
     "metadata": {},
     "output_type": "execute_result"
    }
   ],
   "source": [
    "# Drop NPI = 0, which means missing - A LOT ARE MISSING, which is a problem for the data\n",
    "leie_df = leie_df[leie_df['npi'] != 0]\n",
    "leie_df.shape"
   ]
  },
  {
   "cell_type": "code",
   "execution_count": 38,
   "metadata": {},
   "outputs": [
    {
     "data": {
      "text/plain": [
       "(669, 18)"
      ]
     },
     "execution_count": 38,
     "metadata": {},
     "output_type": "execute_result"
    }
   ],
   "source": [
    "# Keep exclusions most related to Fraud\n",
    "exclusions_to_keep = [\n",
    "    '1128a1',\n",
    "    '1128a2',\n",
    "    '1128a3',\n",
    "    '1128b4',\n",
    "    '1128b7',\n",
    "    '1128c3Gi',\n",
    "    '1128c3gii',\n",
    "]\n",
    "leie_df = leie_df[leie_df['excltype'].isin(exclusions_to_keep)]\n",
    "leie_df.shape"
   ]
  },
  {
   "cell_type": "code",
   "execution_count": 39,
   "metadata": {},
   "outputs": [
    {
     "data": {
      "text/plain": [
       "1128a1    362\n",
       "1128b4    154\n",
       "1128a3     77\n",
       "1128a2     44\n",
       "1128b7     32\n",
       "Name: excltype, dtype: int64"
      ]
     },
     "execution_count": 39,
     "metadata": {},
     "output_type": "execute_result"
    }
   ],
   "source": [
    "leie_df['excltype'].value_counts()"
   ]
  },
  {
   "cell_type": "code",
   "execution_count": 40,
   "metadata": {},
   "outputs": [],
   "source": [
    "# Write all combined LEIE to csv\n",
    "#partB_df.to_csv('combined-leie-data')"
   ]
  },
  {
   "cell_type": "markdown",
   "metadata": {},
   "source": [
    "### 3. Combine/Label Data"
   ]
  },
  {
   "cell_type": "code",
   "execution_count": 41,
   "metadata": {},
   "outputs": [],
   "source": [
    "from datetime import datetime, timedelta\n",
    "import numpy as np"
   ]
  },
  {
   "cell_type": "code",
   "execution_count": 42,
   "metadata": {},
   "outputs": [],
   "source": [
    "# Convert to datetime\n",
    "leie_df['excldate'] = pd.to_datetime(leie_df['excldate'], format='%Y%m%d', errors ='ignore')"
   ]
  },
  {
   "cell_type": "code",
   "execution_count": 43,
   "metadata": {},
   "outputs": [],
   "source": [
    "# Round excl date to the nearest year Johnson & Khoshgoftaar (2019)\n",
    "def round_to_year(dt=None):\n",
    "    year = dt.year\n",
    "    month = dt.month\n",
    "    if month >= 6:\n",
    "        year = year + 1\n",
    "    return datetime(year=year,month=1,day=1)\n",
    "\n",
    "leie_df['excl_year'] = leie_df.excldate.apply(lambda x: round_to_year(x))"
   ]
  },
  {
   "cell_type": "code",
   "execution_count": 44,
   "metadata": {},
   "outputs": [],
   "source": [
    "# Make exclusion dict \n",
    "# 1215053665 has 2 exclusions, so sort df to get latest year\n",
    "excl_year_dict = dict([npi, year] for npi, year in zip(leie_df.sort_values(by='excl_year').npi, leie_df.sort_values(by='excl_year').excl_year))"
   ]
  },
  {
   "cell_type": "code",
   "execution_count": 45,
   "metadata": {
    "scrolled": true
   },
   "outputs": [],
   "source": [
    "# Get label as 0 or 1\n",
    "partB_df['excl_year'] = partB_df['npi'].map(excl_year_dict)\n",
    "partB_df['excl_year'] = partB_df['excl_year'].fillna(datetime(year=1900,month=1,day=1)) # fill NaN, physicians without exclusion, with year 1900\n",
    "\n",
    "partB_df['year'] = pd.to_datetime(partB_df['year'].astype(str), format='%Y', errors ='ignore')\n",
    "partB_df['fraudulent'] = np.where(partB_df['year'] < partB_df['excl_year'], 1, 0) # compare year vs. exclusion year to get Fraudulent"
   ]
  },
  {
   "cell_type": "markdown",
   "metadata": {},
   "source": [
    "### 4. Draw Visualization"
   ]
  },
  {
   "cell_type": "code",
   "execution_count": 178,
   "metadata": {},
   "outputs": [],
   "source": [
    "%matplotlib inline\n",
    "import plotly.graph_objects as go\n",
    "from plotly.subplots import make_subplots"
   ]
  },
  {
   "cell_type": "code",
   "execution_count": 48,
   "metadata": {},
   "outputs": [],
   "source": [
    "# Get # of fraudulent services\n",
    "partB_df['fraud_line_srvc_cnt'] = partB_df['line_srvc_cnt']*partB_df['fraudulent']"
   ]
  },
  {
   "cell_type": "code",
   "execution_count": 49,
   "metadata": {},
   "outputs": [],
   "source": [
    "# Aggregate by state\n",
    "state_df = partB_df.groupby('nppes_provider_state').agg({\n",
    "    'line_srvc_cnt':[('total_services_count','sum')],\n",
    "    'fraud_line_srvc_cnt':[('total_fraud_services_count','sum')]\n",
    "}).reset_index()\n",
    "\n",
    "# Drop multi-index\n",
    "state_df.columns = ['_'.join(col) for col in state_df.columns]"
   ]
  },
  {
   "cell_type": "code",
   "execution_count": 50,
   "metadata": {},
   "outputs": [],
   "source": [
    "state_df.columns = ['provider_state', 'total_services_count', 'fraud_services_count']"
   ]
  },
  {
   "cell_type": "code",
   "execution_count": 51,
   "metadata": {},
   "outputs": [
    {
     "data": {
      "text/html": [
       "<div>\n",
       "<style scoped>\n",
       "    .dataframe tbody tr th:only-of-type {\n",
       "        vertical-align: middle;\n",
       "    }\n",
       "\n",
       "    .dataframe tbody tr th {\n",
       "        vertical-align: top;\n",
       "    }\n",
       "\n",
       "    .dataframe thead th {\n",
       "        text-align: right;\n",
       "    }\n",
       "</style>\n",
       "<table border=\"1\" class=\"dataframe\">\n",
       "  <thead>\n",
       "    <tr style=\"text-align: right;\">\n",
       "      <th></th>\n",
       "      <th>provider_state</th>\n",
       "      <th>total_services_count</th>\n",
       "      <th>fraud_services_count</th>\n",
       "      <th>fraud_services_pct</th>\n",
       "    </tr>\n",
       "  </thead>\n",
       "  <tbody>\n",
       "    <tr>\n",
       "      <th>0</th>\n",
       "      <td>AA</td>\n",
       "      <td>26875.0</td>\n",
       "      <td>0.0</td>\n",
       "      <td>0.000000</td>\n",
       "    </tr>\n",
       "    <tr>\n",
       "      <th>1</th>\n",
       "      <td>AE</td>\n",
       "      <td>45118.0</td>\n",
       "      <td>0.0</td>\n",
       "      <td>0.000000</td>\n",
       "    </tr>\n",
       "    <tr>\n",
       "      <th>2</th>\n",
       "      <td>AK</td>\n",
       "      <td>7096804.1</td>\n",
       "      <td>0.0</td>\n",
       "      <td>0.000000</td>\n",
       "    </tr>\n",
       "    <tr>\n",
       "      <th>3</th>\n",
       "      <td>AL</td>\n",
       "      <td>145179172.2</td>\n",
       "      <td>27972.0</td>\n",
       "      <td>0.000193</td>\n",
       "    </tr>\n",
       "    <tr>\n",
       "      <th>4</th>\n",
       "      <td>AP</td>\n",
       "      <td>35607.0</td>\n",
       "      <td>0.0</td>\n",
       "      <td>0.000000</td>\n",
       "    </tr>\n",
       "  </tbody>\n",
       "</table>\n",
       "</div>"
      ],
      "text/plain": [
       "  provider_state  total_services_count  fraud_services_count  \\\n",
       "0             AA               26875.0                   0.0   \n",
       "1             AE               45118.0                   0.0   \n",
       "2             AK             7096804.1                   0.0   \n",
       "3             AL           145179172.2               27972.0   \n",
       "4             AP               35607.0                   0.0   \n",
       "\n",
       "   fraud_services_pct  \n",
       "0            0.000000  \n",
       "1            0.000000  \n",
       "2            0.000000  \n",
       "3            0.000193  \n",
       "4            0.000000  "
      ]
     },
     "execution_count": 51,
     "metadata": {},
     "output_type": "execute_result"
    }
   ],
   "source": [
    "# Get % fraud\n",
    "state_df['fraud_services_pct'] = state_df['fraud_services_count']/state_df['total_services_count']\n",
    "state_df.head()"
   ]
  },
  {
   "cell_type": "code",
   "execution_count": 186,
   "metadata": {},
   "outputs": [
    {
     "data": {
      "application/vnd.plotly.v1+json": {
       "config": {
        "plotlyServerURL": "https://plot.ly"
       },
       "data": [
        {
         "colorbar": {
          "title": {
           "text": "Logged %"
          }
         },
         "colorscale": [
          [
           0,
           "rgb(255,245,240)"
          ],
          [
           0.125,
           "rgb(254,224,210)"
          ],
          [
           0.25,
           "rgb(252,187,161)"
          ],
          [
           0.375,
           "rgb(252,146,114)"
          ],
          [
           0.5,
           "rgb(251,106,74)"
          ],
          [
           0.625,
           "rgb(239,59,44)"
          ],
          [
           0.75,
           "rgb(203,24,29)"
          ],
          [
           0.875,
           "rgb(165,15,21)"
          ],
          [
           1,
           "rgb(103,0,13)"
          ]
         ],
         "locationmode": "USA-states",
         "locations": [
          "AA",
          "AE",
          "AK",
          "AL",
          "AP",
          "AR",
          "AS",
          "AZ",
          "CA",
          "CO",
          "CT",
          "DC",
          "DE",
          "FL",
          "GA",
          "GU",
          "HI",
          "IA",
          "ID",
          "IL",
          "IN",
          "KS",
          "KY",
          "LA",
          "MA",
          "MD",
          "ME",
          "MI",
          "MN",
          "MO",
          "MP",
          "MS",
          "MT",
          "NC",
          "ND",
          "NE",
          "NH",
          "NJ",
          "NM",
          "NV",
          "NY",
          "OH",
          "OK",
          "OR",
          "PA",
          "PR",
          "RI",
          "SC",
          "SD",
          "TN",
          "TX",
          "UT",
          "VA",
          "VI",
          "VT",
          "WA",
          "WI",
          "WV",
          "WY",
          "XX",
          "ZZ"
         ],
         "marker": {
          "line": {
           "color": "white"
          }
         },
         "type": "choropleth",
         "z": [
          null,
          null,
          null,
          -8.554518919093644,
          null,
          null,
          null,
          -9.417451919267593,
          -8.185802637382272,
          -7.58968898295499,
          -9.359965534653771,
          null,
          -10.147825292563217,
          -8.065290343889828,
          -8.928806622422027,
          null,
          -10.011767002253746,
          null,
          null,
          -8.14382607232372,
          -8.831571569466046,
          -8.202197585055668,
          -5.815057730146007,
          -6.104312643658957,
          -6.9328776460138775,
          -7.716100959832435,
          -8.866404041189956,
          -7.134573635558622,
          null,
          -8.341326252224755,
          null,
          -8.466789980680845,
          null,
          -11.426539796067722,
          null,
          -9.917166013314379,
          -10.853569038354042,
          -8.092875542334223,
          -8.34141494453048,
          -7.98458408964324,
          -7.5663353509794895,
          -6.101390927328862,
          -12.636805652355724,
          -8.884861337399043,
          -7.581524001121712,
          null,
          null,
          -10.57563131084475,
          null,
          -6.863073727846493,
          -4.833096800770206,
          -7.9597106097971375,
          -9.284769719263117,
          null,
          -8.189786129249558,
          -13.14315393305322,
          -7.977420202185979,
          null,
          -7.958931404170251,
          null,
          null
         ]
        }
       ],
       "layout": {
        "geo": {
         "scope": "usa"
        },
        "template": {
         "data": {
          "bar": [
           {
            "error_x": {
             "color": "#2a3f5f"
            },
            "error_y": {
             "color": "#2a3f5f"
            },
            "marker": {
             "line": {
              "color": "#E5ECF6",
              "width": 0.5
             }
            },
            "type": "bar"
           }
          ],
          "barpolar": [
           {
            "marker": {
             "line": {
              "color": "#E5ECF6",
              "width": 0.5
             }
            },
            "type": "barpolar"
           }
          ],
          "carpet": [
           {
            "aaxis": {
             "endlinecolor": "#2a3f5f",
             "gridcolor": "white",
             "linecolor": "white",
             "minorgridcolor": "white",
             "startlinecolor": "#2a3f5f"
            },
            "baxis": {
             "endlinecolor": "#2a3f5f",
             "gridcolor": "white",
             "linecolor": "white",
             "minorgridcolor": "white",
             "startlinecolor": "#2a3f5f"
            },
            "type": "carpet"
           }
          ],
          "choropleth": [
           {
            "colorbar": {
             "outlinewidth": 0,
             "ticks": ""
            },
            "type": "choropleth"
           }
          ],
          "contour": [
           {
            "colorbar": {
             "outlinewidth": 0,
             "ticks": ""
            },
            "colorscale": [
             [
              0,
              "#0d0887"
             ],
             [
              0.1111111111111111,
              "#46039f"
             ],
             [
              0.2222222222222222,
              "#7201a8"
             ],
             [
              0.3333333333333333,
              "#9c179e"
             ],
             [
              0.4444444444444444,
              "#bd3786"
             ],
             [
              0.5555555555555556,
              "#d8576b"
             ],
             [
              0.6666666666666666,
              "#ed7953"
             ],
             [
              0.7777777777777778,
              "#fb9f3a"
             ],
             [
              0.8888888888888888,
              "#fdca26"
             ],
             [
              1,
              "#f0f921"
             ]
            ],
            "type": "contour"
           }
          ],
          "contourcarpet": [
           {
            "colorbar": {
             "outlinewidth": 0,
             "ticks": ""
            },
            "type": "contourcarpet"
           }
          ],
          "heatmap": [
           {
            "colorbar": {
             "outlinewidth": 0,
             "ticks": ""
            },
            "colorscale": [
             [
              0,
              "#0d0887"
             ],
             [
              0.1111111111111111,
              "#46039f"
             ],
             [
              0.2222222222222222,
              "#7201a8"
             ],
             [
              0.3333333333333333,
              "#9c179e"
             ],
             [
              0.4444444444444444,
              "#bd3786"
             ],
             [
              0.5555555555555556,
              "#d8576b"
             ],
             [
              0.6666666666666666,
              "#ed7953"
             ],
             [
              0.7777777777777778,
              "#fb9f3a"
             ],
             [
              0.8888888888888888,
              "#fdca26"
             ],
             [
              1,
              "#f0f921"
             ]
            ],
            "type": "heatmap"
           }
          ],
          "heatmapgl": [
           {
            "colorbar": {
             "outlinewidth": 0,
             "ticks": ""
            },
            "colorscale": [
             [
              0,
              "#0d0887"
             ],
             [
              0.1111111111111111,
              "#46039f"
             ],
             [
              0.2222222222222222,
              "#7201a8"
             ],
             [
              0.3333333333333333,
              "#9c179e"
             ],
             [
              0.4444444444444444,
              "#bd3786"
             ],
             [
              0.5555555555555556,
              "#d8576b"
             ],
             [
              0.6666666666666666,
              "#ed7953"
             ],
             [
              0.7777777777777778,
              "#fb9f3a"
             ],
             [
              0.8888888888888888,
              "#fdca26"
             ],
             [
              1,
              "#f0f921"
             ]
            ],
            "type": "heatmapgl"
           }
          ],
          "histogram": [
           {
            "marker": {
             "colorbar": {
              "outlinewidth": 0,
              "ticks": ""
             }
            },
            "type": "histogram"
           }
          ],
          "histogram2d": [
           {
            "colorbar": {
             "outlinewidth": 0,
             "ticks": ""
            },
            "colorscale": [
             [
              0,
              "#0d0887"
             ],
             [
              0.1111111111111111,
              "#46039f"
             ],
             [
              0.2222222222222222,
              "#7201a8"
             ],
             [
              0.3333333333333333,
              "#9c179e"
             ],
             [
              0.4444444444444444,
              "#bd3786"
             ],
             [
              0.5555555555555556,
              "#d8576b"
             ],
             [
              0.6666666666666666,
              "#ed7953"
             ],
             [
              0.7777777777777778,
              "#fb9f3a"
             ],
             [
              0.8888888888888888,
              "#fdca26"
             ],
             [
              1,
              "#f0f921"
             ]
            ],
            "type": "histogram2d"
           }
          ],
          "histogram2dcontour": [
           {
            "colorbar": {
             "outlinewidth": 0,
             "ticks": ""
            },
            "colorscale": [
             [
              0,
              "#0d0887"
             ],
             [
              0.1111111111111111,
              "#46039f"
             ],
             [
              0.2222222222222222,
              "#7201a8"
             ],
             [
              0.3333333333333333,
              "#9c179e"
             ],
             [
              0.4444444444444444,
              "#bd3786"
             ],
             [
              0.5555555555555556,
              "#d8576b"
             ],
             [
              0.6666666666666666,
              "#ed7953"
             ],
             [
              0.7777777777777778,
              "#fb9f3a"
             ],
             [
              0.8888888888888888,
              "#fdca26"
             ],
             [
              1,
              "#f0f921"
             ]
            ],
            "type": "histogram2dcontour"
           }
          ],
          "mesh3d": [
           {
            "colorbar": {
             "outlinewidth": 0,
             "ticks": ""
            },
            "type": "mesh3d"
           }
          ],
          "parcoords": [
           {
            "line": {
             "colorbar": {
              "outlinewidth": 0,
              "ticks": ""
             }
            },
            "type": "parcoords"
           }
          ],
          "scatter": [
           {
            "marker": {
             "colorbar": {
              "outlinewidth": 0,
              "ticks": ""
             }
            },
            "type": "scatter"
           }
          ],
          "scatter3d": [
           {
            "line": {
             "colorbar": {
              "outlinewidth": 0,
              "ticks": ""
             }
            },
            "marker": {
             "colorbar": {
              "outlinewidth": 0,
              "ticks": ""
             }
            },
            "type": "scatter3d"
           }
          ],
          "scattercarpet": [
           {
            "marker": {
             "colorbar": {
              "outlinewidth": 0,
              "ticks": ""
             }
            },
            "type": "scattercarpet"
           }
          ],
          "scattergeo": [
           {
            "marker": {
             "colorbar": {
              "outlinewidth": 0,
              "ticks": ""
             }
            },
            "type": "scattergeo"
           }
          ],
          "scattergl": [
           {
            "marker": {
             "colorbar": {
              "outlinewidth": 0,
              "ticks": ""
             }
            },
            "type": "scattergl"
           }
          ],
          "scattermapbox": [
           {
            "marker": {
             "colorbar": {
              "outlinewidth": 0,
              "ticks": ""
             }
            },
            "type": "scattermapbox"
           }
          ],
          "scatterpolar": [
           {
            "marker": {
             "colorbar": {
              "outlinewidth": 0,
              "ticks": ""
             }
            },
            "type": "scatterpolar"
           }
          ],
          "scatterpolargl": [
           {
            "marker": {
             "colorbar": {
              "outlinewidth": 0,
              "ticks": ""
             }
            },
            "type": "scatterpolargl"
           }
          ],
          "scatterternary": [
           {
            "marker": {
             "colorbar": {
              "outlinewidth": 0,
              "ticks": ""
             }
            },
            "type": "scatterternary"
           }
          ],
          "surface": [
           {
            "colorbar": {
             "outlinewidth": 0,
             "ticks": ""
            },
            "colorscale": [
             [
              0,
              "#0d0887"
             ],
             [
              0.1111111111111111,
              "#46039f"
             ],
             [
              0.2222222222222222,
              "#7201a8"
             ],
             [
              0.3333333333333333,
              "#9c179e"
             ],
             [
              0.4444444444444444,
              "#bd3786"
             ],
             [
              0.5555555555555556,
              "#d8576b"
             ],
             [
              0.6666666666666666,
              "#ed7953"
             ],
             [
              0.7777777777777778,
              "#fb9f3a"
             ],
             [
              0.8888888888888888,
              "#fdca26"
             ],
             [
              1,
              "#f0f921"
             ]
            ],
            "type": "surface"
           }
          ],
          "table": [
           {
            "cells": {
             "fill": {
              "color": "#EBF0F8"
             },
             "line": {
              "color": "white"
             }
            },
            "header": {
             "fill": {
              "color": "#C8D4E3"
             },
             "line": {
              "color": "white"
             }
            },
            "type": "table"
           }
          ]
         },
         "layout": {
          "annotationdefaults": {
           "arrowcolor": "#2a3f5f",
           "arrowhead": 0,
           "arrowwidth": 1
          },
          "colorscale": {
           "diverging": [
            [
             0,
             "#8e0152"
            ],
            [
             0.1,
             "#c51b7d"
            ],
            [
             0.2,
             "#de77ae"
            ],
            [
             0.3,
             "#f1b6da"
            ],
            [
             0.4,
             "#fde0ef"
            ],
            [
             0.5,
             "#f7f7f7"
            ],
            [
             0.6,
             "#e6f5d0"
            ],
            [
             0.7,
             "#b8e186"
            ],
            [
             0.8,
             "#7fbc41"
            ],
            [
             0.9,
             "#4d9221"
            ],
            [
             1,
             "#276419"
            ]
           ],
           "sequential": [
            [
             0,
             "#0d0887"
            ],
            [
             0.1111111111111111,
             "#46039f"
            ],
            [
             0.2222222222222222,
             "#7201a8"
            ],
            [
             0.3333333333333333,
             "#9c179e"
            ],
            [
             0.4444444444444444,
             "#bd3786"
            ],
            [
             0.5555555555555556,
             "#d8576b"
            ],
            [
             0.6666666666666666,
             "#ed7953"
            ],
            [
             0.7777777777777778,
             "#fb9f3a"
            ],
            [
             0.8888888888888888,
             "#fdca26"
            ],
            [
             1,
             "#f0f921"
            ]
           ],
           "sequentialminus": [
            [
             0,
             "#0d0887"
            ],
            [
             0.1111111111111111,
             "#46039f"
            ],
            [
             0.2222222222222222,
             "#7201a8"
            ],
            [
             0.3333333333333333,
             "#9c179e"
            ],
            [
             0.4444444444444444,
             "#bd3786"
            ],
            [
             0.5555555555555556,
             "#d8576b"
            ],
            [
             0.6666666666666666,
             "#ed7953"
            ],
            [
             0.7777777777777778,
             "#fb9f3a"
            ],
            [
             0.8888888888888888,
             "#fdca26"
            ],
            [
             1,
             "#f0f921"
            ]
           ]
          },
          "colorway": [
           "#636efa",
           "#EF553B",
           "#00cc96",
           "#ab63fa",
           "#FFA15A",
           "#19d3f3",
           "#FF6692",
           "#B6E880",
           "#FF97FF",
           "#FECB52"
          ],
          "font": {
           "color": "#2a3f5f"
          },
          "geo": {
           "bgcolor": "white",
           "lakecolor": "white",
           "landcolor": "#E5ECF6",
           "showlakes": true,
           "showland": true,
           "subunitcolor": "white"
          },
          "hoverlabel": {
           "align": "left"
          },
          "hovermode": "closest",
          "mapbox": {
           "style": "light"
          },
          "paper_bgcolor": "white",
          "plot_bgcolor": "#E5ECF6",
          "polar": {
           "angularaxis": {
            "gridcolor": "white",
            "linecolor": "white",
            "ticks": ""
           },
           "bgcolor": "#E5ECF6",
           "radialaxis": {
            "gridcolor": "white",
            "linecolor": "white",
            "ticks": ""
           }
          },
          "scene": {
           "xaxis": {
            "backgroundcolor": "#E5ECF6",
            "gridcolor": "white",
            "gridwidth": 2,
            "linecolor": "white",
            "showbackground": true,
            "ticks": "",
            "zerolinecolor": "white"
           },
           "yaxis": {
            "backgroundcolor": "#E5ECF6",
            "gridcolor": "white",
            "gridwidth": 2,
            "linecolor": "white",
            "showbackground": true,
            "ticks": "",
            "zerolinecolor": "white"
           },
           "zaxis": {
            "backgroundcolor": "#E5ECF6",
            "gridcolor": "white",
            "gridwidth": 2,
            "linecolor": "white",
            "showbackground": true,
            "ticks": "",
            "zerolinecolor": "white"
           }
          },
          "shapedefaults": {
           "line": {
            "color": "#2a3f5f"
           }
          },
          "ternary": {
           "aaxis": {
            "gridcolor": "white",
            "linecolor": "white",
            "ticks": ""
           },
           "baxis": {
            "gridcolor": "white",
            "linecolor": "white",
            "ticks": ""
           },
           "bgcolor": "#E5ECF6",
           "caxis": {
            "gridcolor": "white",
            "linecolor": "white",
            "ticks": ""
           }
          },
          "title": {
           "x": 0.05
          },
          "xaxis": {
           "automargin": true,
           "gridcolor": "white",
           "linecolor": "white",
           "ticks": "",
           "zerolinecolor": "white",
           "zerolinewidth": 2
          },
          "yaxis": {
           "automargin": true,
           "gridcolor": "white",
           "linecolor": "white",
           "ticks": "",
           "zerolinecolor": "white",
           "zerolinewidth": 2
          }
         }
        },
        "title": {
         "text": "Logged Percentage of Medicare Fraudulent Service by US State (2012-2016)"
        }
       }
      },
      "text/html": [
       "<div>\n",
       "        \n",
       "        \n",
       "            <div id=\"12584990-d692-4c08-a0f3-644fdb25a263\" class=\"plotly-graph-div\" style=\"height:525px; width:100%;\"></div>\n",
       "            <script type=\"text/javascript\">\n",
       "                require([\"plotly\"], function(Plotly) {\n",
       "                    window.PLOTLYENV=window.PLOTLYENV || {};\n",
       "                    \n",
       "                if (document.getElementById(\"12584990-d692-4c08-a0f3-644fdb25a263\")) {\n",
       "                    Plotly.newPlot(\n",
       "                        '12584990-d692-4c08-a0f3-644fdb25a263',\n",
       "                        [{\"colorbar\": {\"title\": {\"text\": \"Logged %\"}}, \"colorscale\": [[0.0, \"rgb(255,245,240)\"], [0.125, \"rgb(254,224,210)\"], [0.25, \"rgb(252,187,161)\"], [0.375, \"rgb(252,146,114)\"], [0.5, \"rgb(251,106,74)\"], [0.625, \"rgb(239,59,44)\"], [0.75, \"rgb(203,24,29)\"], [0.875, \"rgb(165,15,21)\"], [1.0, \"rgb(103,0,13)\"]], \"locationmode\": \"USA-states\", \"locations\": [\"AA\", \"AE\", \"AK\", \"AL\", \"AP\", \"AR\", \"AS\", \"AZ\", \"CA\", \"CO\", \"CT\", \"DC\", \"DE\", \"FL\", \"GA\", \"GU\", \"HI\", \"IA\", \"ID\", \"IL\", \"IN\", \"KS\", \"KY\", \"LA\", \"MA\", \"MD\", \"ME\", \"MI\", \"MN\", \"MO\", \"MP\", \"MS\", \"MT\", \"NC\", \"ND\", \"NE\", \"NH\", \"NJ\", \"NM\", \"NV\", \"NY\", \"OH\", \"OK\", \"OR\", \"PA\", \"PR\", \"RI\", \"SC\", \"SD\", \"TN\", \"TX\", \"UT\", \"VA\", \"VI\", \"VT\", \"WA\", \"WI\", \"WV\", \"WY\", \"XX\", \"ZZ\"], \"marker\": {\"line\": {\"color\": \"white\"}}, \"type\": \"choropleth\", \"z\": [null, null, null, -8.554518919093644, null, null, null, -9.417451919267593, -8.185802637382272, -7.58968898295499, -9.359965534653771, null, -10.147825292563217, -8.065290343889828, -8.928806622422027, null, -10.011767002253746, null, null, -8.14382607232372, -8.831571569466046, -8.202197585055668, -5.815057730146007, -6.104312643658957, -6.9328776460138775, -7.716100959832435, -8.866404041189956, -7.134573635558622, null, -8.341326252224755, null, -8.466789980680845, null, -11.426539796067722, null, -9.917166013314379, -10.853569038354042, -8.092875542334223, -8.34141494453048, -7.98458408964324, -7.5663353509794895, -6.101390927328862, -12.636805652355724, -8.884861337399043, -7.581524001121712, null, null, -10.57563131084475, null, -6.863073727846493, -4.833096800770206, -7.9597106097971375, -9.284769719263117, null, -8.189786129249558, -13.14315393305322, -7.977420202185979, null, -7.958931404170251, null, null]}],\n",
       "                        {\"geo\": {\"scope\": \"usa\"}, \"template\": {\"data\": {\"bar\": [{\"error_x\": {\"color\": \"#2a3f5f\"}, \"error_y\": {\"color\": \"#2a3f5f\"}, \"marker\": {\"line\": {\"color\": \"#E5ECF6\", \"width\": 0.5}}, \"type\": \"bar\"}], \"barpolar\": [{\"marker\": {\"line\": {\"color\": \"#E5ECF6\", \"width\": 0.5}}, \"type\": \"barpolar\"}], \"carpet\": [{\"aaxis\": {\"endlinecolor\": \"#2a3f5f\", \"gridcolor\": \"white\", \"linecolor\": \"white\", \"minorgridcolor\": \"white\", \"startlinecolor\": \"#2a3f5f\"}, \"baxis\": {\"endlinecolor\": \"#2a3f5f\", \"gridcolor\": \"white\", \"linecolor\": \"white\", \"minorgridcolor\": \"white\", \"startlinecolor\": \"#2a3f5f\"}, \"type\": \"carpet\"}], \"choropleth\": [{\"colorbar\": {\"outlinewidth\": 0, \"ticks\": \"\"}, \"type\": \"choropleth\"}], \"contour\": [{\"colorbar\": {\"outlinewidth\": 0, \"ticks\": \"\"}, \"colorscale\": [[0.0, \"#0d0887\"], [0.1111111111111111, \"#46039f\"], [0.2222222222222222, \"#7201a8\"], [0.3333333333333333, \"#9c179e\"], [0.4444444444444444, \"#bd3786\"], [0.5555555555555556, \"#d8576b\"], [0.6666666666666666, \"#ed7953\"], [0.7777777777777778, \"#fb9f3a\"], [0.8888888888888888, \"#fdca26\"], [1.0, \"#f0f921\"]], \"type\": \"contour\"}], \"contourcarpet\": [{\"colorbar\": {\"outlinewidth\": 0, \"ticks\": \"\"}, \"type\": \"contourcarpet\"}], \"heatmap\": [{\"colorbar\": {\"outlinewidth\": 0, \"ticks\": \"\"}, \"colorscale\": [[0.0, \"#0d0887\"], [0.1111111111111111, \"#46039f\"], [0.2222222222222222, \"#7201a8\"], [0.3333333333333333, \"#9c179e\"], [0.4444444444444444, \"#bd3786\"], [0.5555555555555556, \"#d8576b\"], [0.6666666666666666, \"#ed7953\"], [0.7777777777777778, \"#fb9f3a\"], [0.8888888888888888, \"#fdca26\"], [1.0, \"#f0f921\"]], \"type\": \"heatmap\"}], \"heatmapgl\": [{\"colorbar\": {\"outlinewidth\": 0, \"ticks\": \"\"}, \"colorscale\": [[0.0, \"#0d0887\"], [0.1111111111111111, \"#46039f\"], [0.2222222222222222, \"#7201a8\"], [0.3333333333333333, \"#9c179e\"], [0.4444444444444444, \"#bd3786\"], [0.5555555555555556, \"#d8576b\"], [0.6666666666666666, \"#ed7953\"], [0.7777777777777778, \"#fb9f3a\"], [0.8888888888888888, \"#fdca26\"], [1.0, \"#f0f921\"]], \"type\": \"heatmapgl\"}], \"histogram\": [{\"marker\": {\"colorbar\": {\"outlinewidth\": 0, \"ticks\": \"\"}}, \"type\": \"histogram\"}], \"histogram2d\": [{\"colorbar\": {\"outlinewidth\": 0, \"ticks\": \"\"}, \"colorscale\": [[0.0, \"#0d0887\"], [0.1111111111111111, \"#46039f\"], [0.2222222222222222, \"#7201a8\"], [0.3333333333333333, \"#9c179e\"], [0.4444444444444444, \"#bd3786\"], [0.5555555555555556, \"#d8576b\"], [0.6666666666666666, \"#ed7953\"], [0.7777777777777778, \"#fb9f3a\"], [0.8888888888888888, \"#fdca26\"], [1.0, \"#f0f921\"]], \"type\": \"histogram2d\"}], \"histogram2dcontour\": [{\"colorbar\": {\"outlinewidth\": 0, \"ticks\": \"\"}, \"colorscale\": [[0.0, \"#0d0887\"], [0.1111111111111111, \"#46039f\"], [0.2222222222222222, \"#7201a8\"], [0.3333333333333333, \"#9c179e\"], [0.4444444444444444, \"#bd3786\"], [0.5555555555555556, \"#d8576b\"], [0.6666666666666666, \"#ed7953\"], [0.7777777777777778, \"#fb9f3a\"], [0.8888888888888888, \"#fdca26\"], [1.0, \"#f0f921\"]], \"type\": \"histogram2dcontour\"}], \"mesh3d\": [{\"colorbar\": {\"outlinewidth\": 0, \"ticks\": \"\"}, \"type\": \"mesh3d\"}], \"parcoords\": [{\"line\": {\"colorbar\": {\"outlinewidth\": 0, \"ticks\": \"\"}}, \"type\": \"parcoords\"}], \"scatter\": [{\"marker\": {\"colorbar\": {\"outlinewidth\": 0, \"ticks\": \"\"}}, \"type\": \"scatter\"}], \"scatter3d\": [{\"line\": {\"colorbar\": {\"outlinewidth\": 0, \"ticks\": \"\"}}, \"marker\": {\"colorbar\": {\"outlinewidth\": 0, \"ticks\": \"\"}}, \"type\": \"scatter3d\"}], \"scattercarpet\": [{\"marker\": {\"colorbar\": {\"outlinewidth\": 0, \"ticks\": \"\"}}, \"type\": \"scattercarpet\"}], \"scattergeo\": [{\"marker\": {\"colorbar\": {\"outlinewidth\": 0, \"ticks\": \"\"}}, \"type\": \"scattergeo\"}], \"scattergl\": [{\"marker\": {\"colorbar\": {\"outlinewidth\": 0, \"ticks\": \"\"}}, \"type\": \"scattergl\"}], \"scattermapbox\": [{\"marker\": {\"colorbar\": {\"outlinewidth\": 0, \"ticks\": \"\"}}, \"type\": \"scattermapbox\"}], \"scatterpolar\": [{\"marker\": {\"colorbar\": {\"outlinewidth\": 0, \"ticks\": \"\"}}, \"type\": \"scatterpolar\"}], \"scatterpolargl\": [{\"marker\": {\"colorbar\": {\"outlinewidth\": 0, \"ticks\": \"\"}}, \"type\": \"scatterpolargl\"}], \"scatterternary\": [{\"marker\": {\"colorbar\": {\"outlinewidth\": 0, \"ticks\": \"\"}}, \"type\": \"scatterternary\"}], \"surface\": [{\"colorbar\": {\"outlinewidth\": 0, \"ticks\": \"\"}, \"colorscale\": [[0.0, \"#0d0887\"], [0.1111111111111111, \"#46039f\"], [0.2222222222222222, \"#7201a8\"], [0.3333333333333333, \"#9c179e\"], [0.4444444444444444, \"#bd3786\"], [0.5555555555555556, \"#d8576b\"], [0.6666666666666666, \"#ed7953\"], [0.7777777777777778, \"#fb9f3a\"], [0.8888888888888888, \"#fdca26\"], [1.0, \"#f0f921\"]], \"type\": \"surface\"}], \"table\": [{\"cells\": {\"fill\": {\"color\": \"#EBF0F8\"}, \"line\": {\"color\": \"white\"}}, \"header\": {\"fill\": {\"color\": \"#C8D4E3\"}, \"line\": {\"color\": \"white\"}}, \"type\": \"table\"}]}, \"layout\": {\"annotationdefaults\": {\"arrowcolor\": \"#2a3f5f\", \"arrowhead\": 0, \"arrowwidth\": 1}, \"colorscale\": {\"diverging\": [[0, \"#8e0152\"], [0.1, \"#c51b7d\"], [0.2, \"#de77ae\"], [0.3, \"#f1b6da\"], [0.4, \"#fde0ef\"], [0.5, \"#f7f7f7\"], [0.6, \"#e6f5d0\"], [0.7, \"#b8e186\"], [0.8, \"#7fbc41\"], [0.9, \"#4d9221\"], [1, \"#276419\"]], \"sequential\": [[0.0, \"#0d0887\"], [0.1111111111111111, \"#46039f\"], [0.2222222222222222, \"#7201a8\"], [0.3333333333333333, \"#9c179e\"], [0.4444444444444444, \"#bd3786\"], [0.5555555555555556, \"#d8576b\"], [0.6666666666666666, \"#ed7953\"], [0.7777777777777778, \"#fb9f3a\"], [0.8888888888888888, \"#fdca26\"], [1.0, \"#f0f921\"]], \"sequentialminus\": [[0.0, \"#0d0887\"], [0.1111111111111111, \"#46039f\"], [0.2222222222222222, \"#7201a8\"], [0.3333333333333333, \"#9c179e\"], [0.4444444444444444, \"#bd3786\"], [0.5555555555555556, \"#d8576b\"], [0.6666666666666666, \"#ed7953\"], [0.7777777777777778, \"#fb9f3a\"], [0.8888888888888888, \"#fdca26\"], [1.0, \"#f0f921\"]]}, \"colorway\": [\"#636efa\", \"#EF553B\", \"#00cc96\", \"#ab63fa\", \"#FFA15A\", \"#19d3f3\", \"#FF6692\", \"#B6E880\", \"#FF97FF\", \"#FECB52\"], \"font\": {\"color\": \"#2a3f5f\"}, \"geo\": {\"bgcolor\": \"white\", \"lakecolor\": \"white\", \"landcolor\": \"#E5ECF6\", \"showlakes\": true, \"showland\": true, \"subunitcolor\": \"white\"}, \"hoverlabel\": {\"align\": \"left\"}, \"hovermode\": \"closest\", \"mapbox\": {\"style\": \"light\"}, \"paper_bgcolor\": \"white\", \"plot_bgcolor\": \"#E5ECF6\", \"polar\": {\"angularaxis\": {\"gridcolor\": \"white\", \"linecolor\": \"white\", \"ticks\": \"\"}, \"bgcolor\": \"#E5ECF6\", \"radialaxis\": {\"gridcolor\": \"white\", \"linecolor\": \"white\", \"ticks\": \"\"}}, \"scene\": {\"xaxis\": {\"backgroundcolor\": \"#E5ECF6\", \"gridcolor\": \"white\", \"gridwidth\": 2, \"linecolor\": \"white\", \"showbackground\": true, \"ticks\": \"\", \"zerolinecolor\": \"white\"}, \"yaxis\": {\"backgroundcolor\": \"#E5ECF6\", \"gridcolor\": \"white\", \"gridwidth\": 2, \"linecolor\": \"white\", \"showbackground\": true, \"ticks\": \"\", \"zerolinecolor\": \"white\"}, \"zaxis\": {\"backgroundcolor\": \"#E5ECF6\", \"gridcolor\": \"white\", \"gridwidth\": 2, \"linecolor\": \"white\", \"showbackground\": true, \"ticks\": \"\", \"zerolinecolor\": \"white\"}}, \"shapedefaults\": {\"line\": {\"color\": \"#2a3f5f\"}}, \"ternary\": {\"aaxis\": {\"gridcolor\": \"white\", \"linecolor\": \"white\", \"ticks\": \"\"}, \"baxis\": {\"gridcolor\": \"white\", \"linecolor\": \"white\", \"ticks\": \"\"}, \"bgcolor\": \"#E5ECF6\", \"caxis\": {\"gridcolor\": \"white\", \"linecolor\": \"white\", \"ticks\": \"\"}}, \"title\": {\"x\": 0.05}, \"xaxis\": {\"automargin\": true, \"gridcolor\": \"white\", \"linecolor\": \"white\", \"ticks\": \"\", \"zerolinecolor\": \"white\", \"zerolinewidth\": 2}, \"yaxis\": {\"automargin\": true, \"gridcolor\": \"white\", \"linecolor\": \"white\", \"ticks\": \"\", \"zerolinecolor\": \"white\", \"zerolinewidth\": 2}}}, \"title\": {\"text\": \"Logged Percentage of Medicare Fraudulent Service by US State (2012-2016)\"}},\n",
       "                        {\"responsive\": true}\n",
       "                    ).then(function(){\n",
       "                            \n",
       "var gd = document.getElementById('12584990-d692-4c08-a0f3-644fdb25a263');\n",
       "var x = new MutationObserver(function (mutations, observer) {{\n",
       "        var display = window.getComputedStyle(gd).display;\n",
       "        if (!display || display === 'none') {{\n",
       "            console.log([gd, 'removed!']);\n",
       "            Plotly.purge(gd);\n",
       "            observer.disconnect();\n",
       "        }}\n",
       "}});\n",
       "\n",
       "// Listen for the removal of the full notebook cells\n",
       "var notebookContainer = gd.closest('#notebook-container');\n",
       "if (notebookContainer) {{\n",
       "    x.observe(notebookContainer, {childList: true});\n",
       "}}\n",
       "\n",
       "// Listen for the clearing of the current output cell\n",
       "var outputEl = gd.closest('.output');\n",
       "if (outputEl) {{\n",
       "    x.observe(outputEl, {childList: true});\n",
       "}}\n",
       "\n",
       "                        })\n",
       "                };\n",
       "                });\n",
       "            </script>\n",
       "        </div>"
      ]
     },
     "metadata": {},
     "output_type": "display_data"
    }
   ],
   "source": [
    "np.seterr(divide = 'ignore') \n",
    "\n",
    "fig = go.Figure(data=go.Choropleth(\n",
    "    locations=state_df['provider_state'],\n",
    "    z = np.log(state_df['fraud_services_pct'].astype(float))+0.000001, #log-scale\n",
    "    locationmode = 'USA-states',\n",
    "    colorscale = 'Reds',\n",
    "    colorbar_title = \"Logged %\",\n",
    "    marker_line_color='white'\n",
    "))\n",
    "\n",
    "fig.update_layout(\n",
    "    title_text = 'Logged Percentage of Medicare Fraudulent Service by US State (2012-2016)',\n",
    "    geo_scope='usa',\n",
    ")\n",
    "\n",
    "fig.show()"
   ]
  },
  {
   "cell_type": "code",
   "execution_count": 93,
   "metadata": {},
   "outputs": [],
   "source": [
    "partB_df2 = pd.concat([partB_df, pd.get_dummies(partB_df['nppes_provider_gender'])], axis=1)"
   ]
  },
  {
   "cell_type": "code",
   "execution_count": 130,
   "metadata": {},
   "outputs": [
    {
     "data": {
      "text/plain": [
       "Index(['npi', 'provider_type', 'nppes_provider_city', 'nppes_provider_zip',\n",
       "       'nppes_provider_state', 'nppes_provider_country', 'hcpcs_code',\n",
       "       'hcpcs_description', 'hcpcs_drug_indicator', 'place_of_service',\n",
       "       'nppes_provider_gender', 'line_srvc_cnt', 'bene_unique_cnt',\n",
       "       'bene_day_srvc_cnt', 'average_submitted_chrg_amt',\n",
       "       'average_medicare_payment_amt', 'year', 'excl_year', 'fraudulent',\n",
       "       'fraud_line_srvc_cnt', 'F', 'M', 'male_fraud', 'female_fraud', 'male',\n",
       "       'female'],\n",
       "      dtype='object')"
      ]
     },
     "execution_count": 130,
     "metadata": {},
     "output_type": "execute_result"
    }
   ],
   "source": [
    "# Get # by provider gender\n",
    "partB_df2['male']   = partB_df2['line_srvc_cnt']*partB_df2['M']\n",
    "partB_df2['female'] = partB_df2['line_srvc_cnt']*partB_df2['F']\n",
    "\n",
    "partB_df2['male_fraud']   = partB_df2['line_srvc_cnt']*partB_df2['M']*partB_df2['fraudulent']\n",
    "partB_df2['female_fraud'] = partB_df2['line_srvc_cnt']*partB_df2['F']*partB_df2['fraudulent']\n",
    "partB_df2.columns"
   ]
  },
  {
   "cell_type": "code",
   "execution_count": 205,
   "metadata": {},
   "outputs": [],
   "source": [
    "# Aggregate by provider type\n",
    "type_df = partB_df2.groupby('provider_type').agg({\n",
    "    'line_srvc_cnt':[('total_services_count','sum')],\n",
    "    'fraud_line_srvc_cnt':[('total_fraud_services_count','sum')],\n",
    "    'male':[('male_count','sum')],\n",
    "    'female':[('female_count','sum')],   \n",
    "    'male_fraud':[('male_fraud_count','sum')],\n",
    "    'female_fraud':[('female_fraud_count','sum')],    \n",
    "}).reset_index()\n",
    "\n",
    "# Drop multi-index\n",
    "type_df.columns = ['_'.join(col) for col in type_df.columns]\n",
    "type_df.columns = ['provider_type', 'total_services_count', 'fraud_services_count','male_count','female_count',\n",
    "                   'male_fraud_count','female_fraud_count']"
   ]
  },
  {
   "cell_type": "code",
   "execution_count": 206,
   "metadata": {},
   "outputs": [
    {
     "data": {
      "text/html": [
       "<div>\n",
       "<style scoped>\n",
       "    .dataframe tbody tr th:only-of-type {\n",
       "        vertical-align: middle;\n",
       "    }\n",
       "\n",
       "    .dataframe tbody tr th {\n",
       "        vertical-align: top;\n",
       "    }\n",
       "\n",
       "    .dataframe thead th {\n",
       "        text-align: right;\n",
       "    }\n",
       "</style>\n",
       "<table border=\"1\" class=\"dataframe\">\n",
       "  <thead>\n",
       "    <tr style=\"text-align: right;\">\n",
       "      <th></th>\n",
       "      <th>provider_type</th>\n",
       "      <th>total_services_count</th>\n",
       "      <th>fraud_services_count</th>\n",
       "      <th>male_count</th>\n",
       "      <th>female_count</th>\n",
       "      <th>male_fraud_count</th>\n",
       "      <th>female_fraud_count</th>\n",
       "    </tr>\n",
       "  </thead>\n",
       "  <tbody>\n",
       "    <tr>\n",
       "      <th>0</th>\n",
       "      <td>Geriatric Medicine</td>\n",
       "      <td>10738563.3</td>\n",
       "      <td>52334.0</td>\n",
       "      <td>6937719.1</td>\n",
       "      <td>3800844.2</td>\n",
       "      <td>52334.0</td>\n",
       "      <td>0.0</td>\n",
       "    </tr>\n",
       "    <tr>\n",
       "      <th>1</th>\n",
       "      <td>Pain Management</td>\n",
       "      <td>14888967.2</td>\n",
       "      <td>96178.0</td>\n",
       "      <td>13592885.5</td>\n",
       "      <td>1296081.7</td>\n",
       "      <td>96178.0</td>\n",
       "      <td>0.0</td>\n",
       "    </tr>\n",
       "    <tr>\n",
       "      <th>2</th>\n",
       "      <td>General Practice</td>\n",
       "      <td>26465791.9</td>\n",
       "      <td>114533.0</td>\n",
       "      <td>22157422.8</td>\n",
       "      <td>4296622.1</td>\n",
       "      <td>114464.0</td>\n",
       "      <td>69.0</td>\n",
       "    </tr>\n",
       "    <tr>\n",
       "      <th>3</th>\n",
       "      <td>Anesthesiology</td>\n",
       "      <td>44806223.5</td>\n",
       "      <td>189943.0</td>\n",
       "      <td>38076787.9</td>\n",
       "      <td>6729435.6</td>\n",
       "      <td>189501.0</td>\n",
       "      <td>442.0</td>\n",
       "    </tr>\n",
       "    <tr>\n",
       "      <th>4</th>\n",
       "      <td>Neurology</td>\n",
       "      <td>54613299.3</td>\n",
       "      <td>108023.0</td>\n",
       "      <td>43772659.4</td>\n",
       "      <td>10840639.9</td>\n",
       "      <td>108023.0</td>\n",
       "      <td>0.0</td>\n",
       "    </tr>\n",
       "  </tbody>\n",
       "</table>\n",
       "</div>"
      ],
      "text/plain": [
       "        provider_type  total_services_count  fraud_services_count  male_count  \\\n",
       "0  Geriatric Medicine            10738563.3               52334.0   6937719.1   \n",
       "1     Pain Management            14888967.2               96178.0  13592885.5   \n",
       "2    General Practice            26465791.9              114533.0  22157422.8   \n",
       "3      Anesthesiology            44806223.5              189943.0  38076787.9   \n",
       "4           Neurology            54613299.3              108023.0  43772659.4   \n",
       "\n",
       "   female_count  male_fraud_count  female_fraud_count  \n",
       "0     3800844.2           52334.0                 0.0  \n",
       "1     1296081.7           96178.0                 0.0  \n",
       "2     4296622.1          114464.0                69.0  \n",
       "3     6729435.6          189501.0               442.0  \n",
       "4    10840639.9          108023.0                 0.0  "
      ]
     },
     "execution_count": 206,
     "metadata": {},
     "output_type": "execute_result"
    }
   ],
   "source": [
    "# Sorting\n",
    "type_df = type_df.sort_values('fraud_services_count',ascending=False)[:15] #get top 15 fraudulent types\n",
    "type_df = type_df.sort_values('total_services_count',ascending=True).reset_index(drop=True) #re-sort by total services\n",
    "type_df.head()"
   ]
  },
  {
   "cell_type": "code",
   "execution_count": 207,
   "metadata": {},
   "outputs": [],
   "source": [
    "# Add some fields\n",
    "type_df['non_fraud_services_count'] = type_df['total_services_count'] - type_df['fraud_services_count']\n",
    "type_df['fraud_services_pct'] = (type_df['fraud_services_count']/type_df['total_services_count'])*100"
   ]
  },
  {
   "cell_type": "code",
   "execution_count": 257,
   "metadata": {},
   "outputs": [
    {
     "data": {
      "application/vnd.plotly.v1+json": {
       "config": {
        "plotlyServerURL": "https://plot.ly"
       },
       "data": [
        {
         "marker": {
          "color": "rgba(50, 171, 96, 0.6)"
         },
         "name": "Non-fraud services",
         "orientation": "h",
         "type": "bar",
         "x": [
          10686229.299999999,
          14792789.2,
          26351258.899999995,
          44616280.500000015,
          54505276.30000001,
          105692523.39999992,
          124675884.09999998,
          139252530.39999977,
          160343446.79999945,
          225594588.69999984,
          261064050.39999986,
          419500699.50000304,
          480043104.7000009,
          645394859.2000034,
          1393908867.6999938
         ],
         "y": [
          "Geriatric Medicine",
          "Pain Management",
          "General Practice",
          "Anesthesiology",
          "Neurology",
          "Emergency Medicine",
          "Podiatry",
          "Nurse Practitioner",
          "Ambulance Service Provider",
          "Cardiology",
          "Physical Therapist",
          "Family Practice",
          "Ambulance Service Supplier",
          "Internal Medicine",
          "Clinical Laboratory"
         ]
        },
        {
         "marker": {
          "color": "rgb(255, 0, 0)"
         },
         "name": "Fraud services",
         "orientation": "h",
         "type": "bar",
         "x": [
          52334,
          96178,
          114533,
          189943,
          108023,
          50083,
          178229,
          57772,
          229442.2,
          76590,
          48922,
          242709,
          592355.2,
          361160,
          4201005
         ],
         "y": [
          "Geriatric Medicine",
          "Pain Management",
          "General Practice",
          "Anesthesiology",
          "Neurology",
          "Emergency Medicine",
          "Podiatry",
          "Nurse Practitioner",
          "Ambulance Service Provider",
          "Cardiology",
          "Physical Therapist",
          "Family Practice",
          "Ambulance Service Supplier",
          "Internal Medicine",
          "Clinical Laboratory"
         ]
        }
       ],
       "layout": {
        "annotations": [
         {
          "font": {
           "color": "rgb(255, 0, 0)",
           "family": "Arial",
           "size": 12
          },
          "showarrow": false,
          "text": "0.49%",
          "x": 110738563.3,
          "xref": "x",
          "y": "Geriatric Medicine",
          "yref": "y"
         },
         {
          "font": {
           "color": "rgb(255, 0, 0)",
           "family": "Arial",
           "size": 12
          },
          "showarrow": false,
          "text": "0.65%",
          "x": 114888967.2,
          "xref": "x",
          "y": "Pain Management",
          "yref": "y"
         },
         {
          "font": {
           "color": "rgb(255, 0, 0)",
           "family": "Arial",
           "size": 12
          },
          "showarrow": false,
          "text": "0.43%",
          "x": 126465791.89999999,
          "xref": "x",
          "y": "General Practice",
          "yref": "y"
         },
         {
          "font": {
           "color": "rgb(255, 0, 0)",
           "family": "Arial",
           "size": 12
          },
          "showarrow": false,
          "text": "0.42%",
          "x": 144806223.5,
          "xref": "x",
          "y": "Anesthesiology",
          "yref": "y"
         },
         {
          "font": {
           "color": "rgb(255, 0, 0)",
           "family": "Arial",
           "size": 12
          },
          "showarrow": false,
          "text": "0.2%",
          "x": 154613299.3,
          "xref": "x",
          "y": "Neurology",
          "yref": "y"
         },
         {
          "font": {
           "color": "rgb(255, 0, 0)",
           "family": "Arial",
           "size": 12
          },
          "showarrow": false,
          "text": "0.05%",
          "x": 205742606.39999992,
          "xref": "x",
          "y": "Emergency Medicine",
          "yref": "y"
         },
         {
          "font": {
           "color": "rgb(255, 0, 0)",
           "family": "Arial",
           "size": 12
          },
          "showarrow": false,
          "text": "0.14%",
          "x": 224854113.09999996,
          "xref": "x",
          "y": "Podiatry",
          "yref": "y"
         },
         {
          "font": {
           "color": "rgb(255, 0, 0)",
           "family": "Arial",
           "size": 12
          },
          "showarrow": false,
          "text": "0.04%",
          "x": 239310302.39999977,
          "xref": "x",
          "y": "Nurse Practitioner",
          "yref": "y"
         },
         {
          "font": {
           "color": "rgb(255, 0, 0)",
           "family": "Arial",
           "size": 12
          },
          "showarrow": false,
          "text": "0.14%",
          "x": 260572888.99999943,
          "xref": "x",
          "y": "Ambulance Service Provider",
          "yref": "y"
         },
         {
          "font": {
           "color": "rgb(255, 0, 0)",
           "family": "Arial",
           "size": 12
          },
          "showarrow": false,
          "text": "0.03%",
          "x": 325671178.6999998,
          "xref": "x",
          "y": "Cardiology",
          "yref": "y"
         },
         {
          "font": {
           "color": "rgb(255, 0, 0)",
           "family": "Arial",
           "size": 12
          },
          "showarrow": false,
          "text": "0.02%",
          "x": 361112972.39999986,
          "xref": "x",
          "y": "Physical Therapist",
          "yref": "y"
         },
         {
          "font": {
           "color": "rgb(255, 0, 0)",
           "family": "Arial",
           "size": 12
          },
          "showarrow": false,
          "text": "0.06%",
          "x": 519743408.50000304,
          "xref": "x",
          "y": "Family Practice",
          "yref": "y"
         },
         {
          "font": {
           "color": "rgb(255, 0, 0)",
           "family": "Arial",
           "size": 12
          },
          "showarrow": false,
          "text": "0.12%",
          "x": 580635459.9000008,
          "xref": "x",
          "y": "Ambulance Service Supplier",
          "yref": "y"
         },
         {
          "font": {
           "color": "rgb(255, 0, 0)",
           "family": "Arial",
           "size": 12
          },
          "showarrow": false,
          "text": "0.06%",
          "x": 745756019.2000034,
          "xref": "x",
          "y": "Internal Medicine",
          "yref": "y"
         },
         {
          "font": {
           "color": "rgb(255, 0, 0)",
           "family": "Arial",
           "size": 12
          },
          "showarrow": false,
          "text": "0.3%",
          "x": 1498109872.6999938,
          "xref": "x",
          "y": "Clinical Laboratory",
          "yref": "y"
         },
         {
          "font": {
           "color": "rgb(150,150,150)",
           "family": "Arial",
           "size": 10
          },
          "showarrow": false,
          "text": "Combined CMS and LEIE datato label the leading Fraudulent physician categories (15 Feb 2020)",
          "x": -0.2,
          "xref": "paper",
          "y": -0.109,
          "yref": "paper"
         }
        ],
        "barmode": "stack",
        "paper_bgcolor": "white",
        "plot_bgcolor": "white",
        "template": {
         "data": {
          "bar": [
           {
            "error_x": {
             "color": "#2a3f5f"
            },
            "error_y": {
             "color": "#2a3f5f"
            },
            "marker": {
             "line": {
              "color": "#E5ECF6",
              "width": 0.5
             }
            },
            "type": "bar"
           }
          ],
          "barpolar": [
           {
            "marker": {
             "line": {
              "color": "#E5ECF6",
              "width": 0.5
             }
            },
            "type": "barpolar"
           }
          ],
          "carpet": [
           {
            "aaxis": {
             "endlinecolor": "#2a3f5f",
             "gridcolor": "white",
             "linecolor": "white",
             "minorgridcolor": "white",
             "startlinecolor": "#2a3f5f"
            },
            "baxis": {
             "endlinecolor": "#2a3f5f",
             "gridcolor": "white",
             "linecolor": "white",
             "minorgridcolor": "white",
             "startlinecolor": "#2a3f5f"
            },
            "type": "carpet"
           }
          ],
          "choropleth": [
           {
            "colorbar": {
             "outlinewidth": 0,
             "ticks": ""
            },
            "type": "choropleth"
           }
          ],
          "contour": [
           {
            "colorbar": {
             "outlinewidth": 0,
             "ticks": ""
            },
            "colorscale": [
             [
              0,
              "#0d0887"
             ],
             [
              0.1111111111111111,
              "#46039f"
             ],
             [
              0.2222222222222222,
              "#7201a8"
             ],
             [
              0.3333333333333333,
              "#9c179e"
             ],
             [
              0.4444444444444444,
              "#bd3786"
             ],
             [
              0.5555555555555556,
              "#d8576b"
             ],
             [
              0.6666666666666666,
              "#ed7953"
             ],
             [
              0.7777777777777778,
              "#fb9f3a"
             ],
             [
              0.8888888888888888,
              "#fdca26"
             ],
             [
              1,
              "#f0f921"
             ]
            ],
            "type": "contour"
           }
          ],
          "contourcarpet": [
           {
            "colorbar": {
             "outlinewidth": 0,
             "ticks": ""
            },
            "type": "contourcarpet"
           }
          ],
          "heatmap": [
           {
            "colorbar": {
             "outlinewidth": 0,
             "ticks": ""
            },
            "colorscale": [
             [
              0,
              "#0d0887"
             ],
             [
              0.1111111111111111,
              "#46039f"
             ],
             [
              0.2222222222222222,
              "#7201a8"
             ],
             [
              0.3333333333333333,
              "#9c179e"
             ],
             [
              0.4444444444444444,
              "#bd3786"
             ],
             [
              0.5555555555555556,
              "#d8576b"
             ],
             [
              0.6666666666666666,
              "#ed7953"
             ],
             [
              0.7777777777777778,
              "#fb9f3a"
             ],
             [
              0.8888888888888888,
              "#fdca26"
             ],
             [
              1,
              "#f0f921"
             ]
            ],
            "type": "heatmap"
           }
          ],
          "heatmapgl": [
           {
            "colorbar": {
             "outlinewidth": 0,
             "ticks": ""
            },
            "colorscale": [
             [
              0,
              "#0d0887"
             ],
             [
              0.1111111111111111,
              "#46039f"
             ],
             [
              0.2222222222222222,
              "#7201a8"
             ],
             [
              0.3333333333333333,
              "#9c179e"
             ],
             [
              0.4444444444444444,
              "#bd3786"
             ],
             [
              0.5555555555555556,
              "#d8576b"
             ],
             [
              0.6666666666666666,
              "#ed7953"
             ],
             [
              0.7777777777777778,
              "#fb9f3a"
             ],
             [
              0.8888888888888888,
              "#fdca26"
             ],
             [
              1,
              "#f0f921"
             ]
            ],
            "type": "heatmapgl"
           }
          ],
          "histogram": [
           {
            "marker": {
             "colorbar": {
              "outlinewidth": 0,
              "ticks": ""
             }
            },
            "type": "histogram"
           }
          ],
          "histogram2d": [
           {
            "colorbar": {
             "outlinewidth": 0,
             "ticks": ""
            },
            "colorscale": [
             [
              0,
              "#0d0887"
             ],
             [
              0.1111111111111111,
              "#46039f"
             ],
             [
              0.2222222222222222,
              "#7201a8"
             ],
             [
              0.3333333333333333,
              "#9c179e"
             ],
             [
              0.4444444444444444,
              "#bd3786"
             ],
             [
              0.5555555555555556,
              "#d8576b"
             ],
             [
              0.6666666666666666,
              "#ed7953"
             ],
             [
              0.7777777777777778,
              "#fb9f3a"
             ],
             [
              0.8888888888888888,
              "#fdca26"
             ],
             [
              1,
              "#f0f921"
             ]
            ],
            "type": "histogram2d"
           }
          ],
          "histogram2dcontour": [
           {
            "colorbar": {
             "outlinewidth": 0,
             "ticks": ""
            },
            "colorscale": [
             [
              0,
              "#0d0887"
             ],
             [
              0.1111111111111111,
              "#46039f"
             ],
             [
              0.2222222222222222,
              "#7201a8"
             ],
             [
              0.3333333333333333,
              "#9c179e"
             ],
             [
              0.4444444444444444,
              "#bd3786"
             ],
             [
              0.5555555555555556,
              "#d8576b"
             ],
             [
              0.6666666666666666,
              "#ed7953"
             ],
             [
              0.7777777777777778,
              "#fb9f3a"
             ],
             [
              0.8888888888888888,
              "#fdca26"
             ],
             [
              1,
              "#f0f921"
             ]
            ],
            "type": "histogram2dcontour"
           }
          ],
          "mesh3d": [
           {
            "colorbar": {
             "outlinewidth": 0,
             "ticks": ""
            },
            "type": "mesh3d"
           }
          ],
          "parcoords": [
           {
            "line": {
             "colorbar": {
              "outlinewidth": 0,
              "ticks": ""
             }
            },
            "type": "parcoords"
           }
          ],
          "scatter": [
           {
            "marker": {
             "colorbar": {
              "outlinewidth": 0,
              "ticks": ""
             }
            },
            "type": "scatter"
           }
          ],
          "scatter3d": [
           {
            "line": {
             "colorbar": {
              "outlinewidth": 0,
              "ticks": ""
             }
            },
            "marker": {
             "colorbar": {
              "outlinewidth": 0,
              "ticks": ""
             }
            },
            "type": "scatter3d"
           }
          ],
          "scattercarpet": [
           {
            "marker": {
             "colorbar": {
              "outlinewidth": 0,
              "ticks": ""
             }
            },
            "type": "scattercarpet"
           }
          ],
          "scattergeo": [
           {
            "marker": {
             "colorbar": {
              "outlinewidth": 0,
              "ticks": ""
             }
            },
            "type": "scattergeo"
           }
          ],
          "scattergl": [
           {
            "marker": {
             "colorbar": {
              "outlinewidth": 0,
              "ticks": ""
             }
            },
            "type": "scattergl"
           }
          ],
          "scattermapbox": [
           {
            "marker": {
             "colorbar": {
              "outlinewidth": 0,
              "ticks": ""
             }
            },
            "type": "scattermapbox"
           }
          ],
          "scatterpolar": [
           {
            "marker": {
             "colorbar": {
              "outlinewidth": 0,
              "ticks": ""
             }
            },
            "type": "scatterpolar"
           }
          ],
          "scatterpolargl": [
           {
            "marker": {
             "colorbar": {
              "outlinewidth": 0,
              "ticks": ""
             }
            },
            "type": "scatterpolargl"
           }
          ],
          "scatterternary": [
           {
            "marker": {
             "colorbar": {
              "outlinewidth": 0,
              "ticks": ""
             }
            },
            "type": "scatterternary"
           }
          ],
          "surface": [
           {
            "colorbar": {
             "outlinewidth": 0,
             "ticks": ""
            },
            "colorscale": [
             [
              0,
              "#0d0887"
             ],
             [
              0.1111111111111111,
              "#46039f"
             ],
             [
              0.2222222222222222,
              "#7201a8"
             ],
             [
              0.3333333333333333,
              "#9c179e"
             ],
             [
              0.4444444444444444,
              "#bd3786"
             ],
             [
              0.5555555555555556,
              "#d8576b"
             ],
             [
              0.6666666666666666,
              "#ed7953"
             ],
             [
              0.7777777777777778,
              "#fb9f3a"
             ],
             [
              0.8888888888888888,
              "#fdca26"
             ],
             [
              1,
              "#f0f921"
             ]
            ],
            "type": "surface"
           }
          ],
          "table": [
           {
            "cells": {
             "fill": {
              "color": "#EBF0F8"
             },
             "line": {
              "color": "white"
             }
            },
            "header": {
             "fill": {
              "color": "#C8D4E3"
             },
             "line": {
              "color": "white"
             }
            },
            "type": "table"
           }
          ]
         },
         "layout": {
          "annotationdefaults": {
           "arrowcolor": "#2a3f5f",
           "arrowhead": 0,
           "arrowwidth": 1
          },
          "colorscale": {
           "diverging": [
            [
             0,
             "#8e0152"
            ],
            [
             0.1,
             "#c51b7d"
            ],
            [
             0.2,
             "#de77ae"
            ],
            [
             0.3,
             "#f1b6da"
            ],
            [
             0.4,
             "#fde0ef"
            ],
            [
             0.5,
             "#f7f7f7"
            ],
            [
             0.6,
             "#e6f5d0"
            ],
            [
             0.7,
             "#b8e186"
            ],
            [
             0.8,
             "#7fbc41"
            ],
            [
             0.9,
             "#4d9221"
            ],
            [
             1,
             "#276419"
            ]
           ],
           "sequential": [
            [
             0,
             "#0d0887"
            ],
            [
             0.1111111111111111,
             "#46039f"
            ],
            [
             0.2222222222222222,
             "#7201a8"
            ],
            [
             0.3333333333333333,
             "#9c179e"
            ],
            [
             0.4444444444444444,
             "#bd3786"
            ],
            [
             0.5555555555555556,
             "#d8576b"
            ],
            [
             0.6666666666666666,
             "#ed7953"
            ],
            [
             0.7777777777777778,
             "#fb9f3a"
            ],
            [
             0.8888888888888888,
             "#fdca26"
            ],
            [
             1,
             "#f0f921"
            ]
           ],
           "sequentialminus": [
            [
             0,
             "#0d0887"
            ],
            [
             0.1111111111111111,
             "#46039f"
            ],
            [
             0.2222222222222222,
             "#7201a8"
            ],
            [
             0.3333333333333333,
             "#9c179e"
            ],
            [
             0.4444444444444444,
             "#bd3786"
            ],
            [
             0.5555555555555556,
             "#d8576b"
            ],
            [
             0.6666666666666666,
             "#ed7953"
            ],
            [
             0.7777777777777778,
             "#fb9f3a"
            ],
            [
             0.8888888888888888,
             "#fdca26"
            ],
            [
             1,
             "#f0f921"
            ]
           ]
          },
          "colorway": [
           "#636efa",
           "#EF553B",
           "#00cc96",
           "#ab63fa",
           "#FFA15A",
           "#19d3f3",
           "#FF6692",
           "#B6E880",
           "#FF97FF",
           "#FECB52"
          ],
          "font": {
           "color": "#2a3f5f"
          },
          "geo": {
           "bgcolor": "white",
           "lakecolor": "white",
           "landcolor": "#E5ECF6",
           "showlakes": true,
           "showland": true,
           "subunitcolor": "white"
          },
          "hoverlabel": {
           "align": "left"
          },
          "hovermode": "closest",
          "mapbox": {
           "style": "light"
          },
          "paper_bgcolor": "white",
          "plot_bgcolor": "#E5ECF6",
          "polar": {
           "angularaxis": {
            "gridcolor": "white",
            "linecolor": "white",
            "ticks": ""
           },
           "bgcolor": "#E5ECF6",
           "radialaxis": {
            "gridcolor": "white",
            "linecolor": "white",
            "ticks": ""
           }
          },
          "scene": {
           "xaxis": {
            "backgroundcolor": "#E5ECF6",
            "gridcolor": "white",
            "gridwidth": 2,
            "linecolor": "white",
            "showbackground": true,
            "ticks": "",
            "zerolinecolor": "white"
           },
           "yaxis": {
            "backgroundcolor": "#E5ECF6",
            "gridcolor": "white",
            "gridwidth": 2,
            "linecolor": "white",
            "showbackground": true,
            "ticks": "",
            "zerolinecolor": "white"
           },
           "zaxis": {
            "backgroundcolor": "#E5ECF6",
            "gridcolor": "white",
            "gridwidth": 2,
            "linecolor": "white",
            "showbackground": true,
            "ticks": "",
            "zerolinecolor": "white"
           }
          },
          "shapedefaults": {
           "line": {
            "color": "#2a3f5f"
           }
          },
          "ternary": {
           "aaxis": {
            "gridcolor": "white",
            "linecolor": "white",
            "ticks": ""
           },
           "baxis": {
            "gridcolor": "white",
            "linecolor": "white",
            "ticks": ""
           },
           "bgcolor": "#E5ECF6",
           "caxis": {
            "gridcolor": "white",
            "linecolor": "white",
            "ticks": ""
           }
          },
          "title": {
           "x": 0.05
          },
          "xaxis": {
           "automargin": true,
           "gridcolor": "white",
           "linecolor": "white",
           "ticks": "",
           "zerolinecolor": "white",
           "zerolinewidth": 2
          },
          "yaxis": {
           "automargin": true,
           "gridcolor": "white",
           "linecolor": "white",
           "ticks": "",
           "zerolinecolor": "white",
           "zerolinewidth": 2
          }
         }
        },
        "title": {
         "text": "Biggest Fraudulent Categories"
        },
        "xaxis": {
         "domain": [
          0,
          0.9
         ],
         "showgrid": true,
         "showline": false,
         "showticklabels": true,
         "zeroline": false
        },
        "yaxis": {
         "domain": [
          0,
          0.9
         ],
         "showgrid": false,
         "showline": false,
         "showticklabels": true
        }
       }
      },
      "text/html": [
       "<div>\n",
       "        \n",
       "        \n",
       "            <div id=\"2a8eeca4-1abb-4b56-8cbc-cb821bbfdc07\" class=\"plotly-graph-div\" style=\"height:525px; width:100%;\"></div>\n",
       "            <script type=\"text/javascript\">\n",
       "                require([\"plotly\"], function(Plotly) {\n",
       "                    window.PLOTLYENV=window.PLOTLYENV || {};\n",
       "                    \n",
       "                if (document.getElementById(\"2a8eeca4-1abb-4b56-8cbc-cb821bbfdc07\")) {\n",
       "                    Plotly.newPlot(\n",
       "                        '2a8eeca4-1abb-4b56-8cbc-cb821bbfdc07',\n",
       "                        [{\"marker\": {\"color\": \"rgba(50, 171, 96, 0.6)\"}, \"name\": \"Non-fraud services\", \"orientation\": \"h\", \"type\": \"bar\", \"x\": [10686229.299999999, 14792789.2, 26351258.899999995, 44616280.500000015, 54505276.30000001, 105692523.39999992, 124675884.09999998, 139252530.39999977, 160343446.79999945, 225594588.69999984, 261064050.39999986, 419500699.50000304, 480043104.7000009, 645394859.2000034, 1393908867.6999938], \"y\": [\"Geriatric Medicine\", \"Pain Management\", \"General Practice\", \"Anesthesiology\", \"Neurology\", \"Emergency Medicine\", \"Podiatry\", \"Nurse Practitioner\", \"Ambulance Service Provider\", \"Cardiology\", \"Physical Therapist\", \"Family Practice\", \"Ambulance Service Supplier\", \"Internal Medicine\", \"Clinical Laboratory\"]}, {\"marker\": {\"color\": \"rgb(255, 0, 0)\"}, \"name\": \"Fraud services\", \"orientation\": \"h\", \"type\": \"bar\", \"x\": [52334.0, 96178.0, 114533.0, 189943.0, 108023.0, 50083.0, 178229.0, 57772.0, 229442.2, 76590.0, 48922.0, 242709.0, 592355.2, 361160.0, 4201005.0], \"y\": [\"Geriatric Medicine\", \"Pain Management\", \"General Practice\", \"Anesthesiology\", \"Neurology\", \"Emergency Medicine\", \"Podiatry\", \"Nurse Practitioner\", \"Ambulance Service Provider\", \"Cardiology\", \"Physical Therapist\", \"Family Practice\", \"Ambulance Service Supplier\", \"Internal Medicine\", \"Clinical Laboratory\"]}],\n",
       "                        {\"annotations\": [{\"font\": {\"color\": \"rgb(255, 0, 0)\", \"family\": \"Arial\", \"size\": 12}, \"showarrow\": false, \"text\": \"0.49%\", \"x\": 110738563.3, \"xref\": \"x\", \"y\": \"Geriatric Medicine\", \"yref\": \"y\"}, {\"font\": {\"color\": \"rgb(255, 0, 0)\", \"family\": \"Arial\", \"size\": 12}, \"showarrow\": false, \"text\": \"0.65%\", \"x\": 114888967.2, \"xref\": \"x\", \"y\": \"Pain Management\", \"yref\": \"y\"}, {\"font\": {\"color\": \"rgb(255, 0, 0)\", \"family\": \"Arial\", \"size\": 12}, \"showarrow\": false, \"text\": \"0.43%\", \"x\": 126465791.89999999, \"xref\": \"x\", \"y\": \"General Practice\", \"yref\": \"y\"}, {\"font\": {\"color\": \"rgb(255, 0, 0)\", \"family\": \"Arial\", \"size\": 12}, \"showarrow\": false, \"text\": \"0.42%\", \"x\": 144806223.5, \"xref\": \"x\", \"y\": \"Anesthesiology\", \"yref\": \"y\"}, {\"font\": {\"color\": \"rgb(255, 0, 0)\", \"family\": \"Arial\", \"size\": 12}, \"showarrow\": false, \"text\": \"0.2%\", \"x\": 154613299.3, \"xref\": \"x\", \"y\": \"Neurology\", \"yref\": \"y\"}, {\"font\": {\"color\": \"rgb(255, 0, 0)\", \"family\": \"Arial\", \"size\": 12}, \"showarrow\": false, \"text\": \"0.05%\", \"x\": 205742606.39999992, \"xref\": \"x\", \"y\": \"Emergency Medicine\", \"yref\": \"y\"}, {\"font\": {\"color\": \"rgb(255, 0, 0)\", \"family\": \"Arial\", \"size\": 12}, \"showarrow\": false, \"text\": \"0.14%\", \"x\": 224854113.09999996, \"xref\": \"x\", \"y\": \"Podiatry\", \"yref\": \"y\"}, {\"font\": {\"color\": \"rgb(255, 0, 0)\", \"family\": \"Arial\", \"size\": 12}, \"showarrow\": false, \"text\": \"0.04%\", \"x\": 239310302.39999977, \"xref\": \"x\", \"y\": \"Nurse Practitioner\", \"yref\": \"y\"}, {\"font\": {\"color\": \"rgb(255, 0, 0)\", \"family\": \"Arial\", \"size\": 12}, \"showarrow\": false, \"text\": \"0.14%\", \"x\": 260572888.99999943, \"xref\": \"x\", \"y\": \"Ambulance Service Provider\", \"yref\": \"y\"}, {\"font\": {\"color\": \"rgb(255, 0, 0)\", \"family\": \"Arial\", \"size\": 12}, \"showarrow\": false, \"text\": \"0.03%\", \"x\": 325671178.6999998, \"xref\": \"x\", \"y\": \"Cardiology\", \"yref\": \"y\"}, {\"font\": {\"color\": \"rgb(255, 0, 0)\", \"family\": \"Arial\", \"size\": 12}, \"showarrow\": false, \"text\": \"0.02%\", \"x\": 361112972.39999986, \"xref\": \"x\", \"y\": \"Physical Therapist\", \"yref\": \"y\"}, {\"font\": {\"color\": \"rgb(255, 0, 0)\", \"family\": \"Arial\", \"size\": 12}, \"showarrow\": false, \"text\": \"0.06%\", \"x\": 519743408.50000304, \"xref\": \"x\", \"y\": \"Family Practice\", \"yref\": \"y\"}, {\"font\": {\"color\": \"rgb(255, 0, 0)\", \"family\": \"Arial\", \"size\": 12}, \"showarrow\": false, \"text\": \"0.12%\", \"x\": 580635459.9000008, \"xref\": \"x\", \"y\": \"Ambulance Service Supplier\", \"yref\": \"y\"}, {\"font\": {\"color\": \"rgb(255, 0, 0)\", \"family\": \"Arial\", \"size\": 12}, \"showarrow\": false, \"text\": \"0.06%\", \"x\": 745756019.2000034, \"xref\": \"x\", \"y\": \"Internal Medicine\", \"yref\": \"y\"}, {\"font\": {\"color\": \"rgb(255, 0, 0)\", \"family\": \"Arial\", \"size\": 12}, \"showarrow\": false, \"text\": \"0.3%\", \"x\": 1498109872.6999938, \"xref\": \"x\", \"y\": \"Clinical Laboratory\", \"yref\": \"y\"}, {\"font\": {\"color\": \"rgb(150,150,150)\", \"family\": \"Arial\", \"size\": 10}, \"showarrow\": false, \"text\": \"Combined CMS and LEIE datato label the leading Fraudulent physician categories (15 Feb 2020)\", \"x\": -0.2, \"xref\": \"paper\", \"y\": -0.109, \"yref\": \"paper\"}], \"barmode\": \"stack\", \"paper_bgcolor\": \"white\", \"plot_bgcolor\": \"white\", \"template\": {\"data\": {\"bar\": [{\"error_x\": {\"color\": \"#2a3f5f\"}, \"error_y\": {\"color\": \"#2a3f5f\"}, \"marker\": {\"line\": {\"color\": \"#E5ECF6\", \"width\": 0.5}}, \"type\": \"bar\"}], \"barpolar\": [{\"marker\": {\"line\": {\"color\": \"#E5ECF6\", \"width\": 0.5}}, \"type\": \"barpolar\"}], \"carpet\": [{\"aaxis\": {\"endlinecolor\": \"#2a3f5f\", \"gridcolor\": \"white\", \"linecolor\": \"white\", \"minorgridcolor\": \"white\", \"startlinecolor\": \"#2a3f5f\"}, \"baxis\": {\"endlinecolor\": \"#2a3f5f\", \"gridcolor\": \"white\", \"linecolor\": \"white\", \"minorgridcolor\": \"white\", \"startlinecolor\": \"#2a3f5f\"}, \"type\": \"carpet\"}], \"choropleth\": [{\"colorbar\": {\"outlinewidth\": 0, \"ticks\": \"\"}, \"type\": \"choropleth\"}], \"contour\": [{\"colorbar\": {\"outlinewidth\": 0, \"ticks\": \"\"}, \"colorscale\": [[0.0, \"#0d0887\"], [0.1111111111111111, \"#46039f\"], [0.2222222222222222, \"#7201a8\"], [0.3333333333333333, \"#9c179e\"], [0.4444444444444444, \"#bd3786\"], [0.5555555555555556, \"#d8576b\"], [0.6666666666666666, \"#ed7953\"], [0.7777777777777778, \"#fb9f3a\"], [0.8888888888888888, \"#fdca26\"], [1.0, \"#f0f921\"]], \"type\": \"contour\"}], \"contourcarpet\": [{\"colorbar\": {\"outlinewidth\": 0, \"ticks\": \"\"}, \"type\": \"contourcarpet\"}], \"heatmap\": [{\"colorbar\": {\"outlinewidth\": 0, \"ticks\": \"\"}, \"colorscale\": [[0.0, \"#0d0887\"], [0.1111111111111111, \"#46039f\"], [0.2222222222222222, \"#7201a8\"], [0.3333333333333333, \"#9c179e\"], [0.4444444444444444, \"#bd3786\"], [0.5555555555555556, \"#d8576b\"], [0.6666666666666666, \"#ed7953\"], [0.7777777777777778, \"#fb9f3a\"], [0.8888888888888888, \"#fdca26\"], [1.0, \"#f0f921\"]], \"type\": \"heatmap\"}], \"heatmapgl\": [{\"colorbar\": {\"outlinewidth\": 0, \"ticks\": \"\"}, \"colorscale\": [[0.0, \"#0d0887\"], [0.1111111111111111, \"#46039f\"], [0.2222222222222222, \"#7201a8\"], [0.3333333333333333, \"#9c179e\"], [0.4444444444444444, \"#bd3786\"], [0.5555555555555556, \"#d8576b\"], [0.6666666666666666, \"#ed7953\"], [0.7777777777777778, \"#fb9f3a\"], [0.8888888888888888, \"#fdca26\"], [1.0, \"#f0f921\"]], \"type\": \"heatmapgl\"}], \"histogram\": [{\"marker\": {\"colorbar\": {\"outlinewidth\": 0, \"ticks\": \"\"}}, \"type\": \"histogram\"}], \"histogram2d\": [{\"colorbar\": {\"outlinewidth\": 0, \"ticks\": \"\"}, \"colorscale\": [[0.0, \"#0d0887\"], [0.1111111111111111, \"#46039f\"], [0.2222222222222222, \"#7201a8\"], [0.3333333333333333, \"#9c179e\"], [0.4444444444444444, \"#bd3786\"], [0.5555555555555556, \"#d8576b\"], [0.6666666666666666, \"#ed7953\"], [0.7777777777777778, \"#fb9f3a\"], [0.8888888888888888, \"#fdca26\"], [1.0, \"#f0f921\"]], \"type\": \"histogram2d\"}], \"histogram2dcontour\": [{\"colorbar\": {\"outlinewidth\": 0, \"ticks\": \"\"}, \"colorscale\": [[0.0, \"#0d0887\"], [0.1111111111111111, \"#46039f\"], [0.2222222222222222, \"#7201a8\"], [0.3333333333333333, \"#9c179e\"], [0.4444444444444444, \"#bd3786\"], [0.5555555555555556, \"#d8576b\"], [0.6666666666666666, \"#ed7953\"], [0.7777777777777778, \"#fb9f3a\"], [0.8888888888888888, \"#fdca26\"], [1.0, \"#f0f921\"]], \"type\": \"histogram2dcontour\"}], \"mesh3d\": [{\"colorbar\": {\"outlinewidth\": 0, \"ticks\": \"\"}, \"type\": \"mesh3d\"}], \"parcoords\": [{\"line\": {\"colorbar\": {\"outlinewidth\": 0, \"ticks\": \"\"}}, \"type\": \"parcoords\"}], \"scatter\": [{\"marker\": {\"colorbar\": {\"outlinewidth\": 0, \"ticks\": \"\"}}, \"type\": \"scatter\"}], \"scatter3d\": [{\"line\": {\"colorbar\": {\"outlinewidth\": 0, \"ticks\": \"\"}}, \"marker\": {\"colorbar\": {\"outlinewidth\": 0, \"ticks\": \"\"}}, \"type\": \"scatter3d\"}], \"scattercarpet\": [{\"marker\": {\"colorbar\": {\"outlinewidth\": 0, \"ticks\": \"\"}}, \"type\": \"scattercarpet\"}], \"scattergeo\": [{\"marker\": {\"colorbar\": {\"outlinewidth\": 0, \"ticks\": \"\"}}, \"type\": \"scattergeo\"}], \"scattergl\": [{\"marker\": {\"colorbar\": {\"outlinewidth\": 0, \"ticks\": \"\"}}, \"type\": \"scattergl\"}], \"scattermapbox\": [{\"marker\": {\"colorbar\": {\"outlinewidth\": 0, \"ticks\": \"\"}}, \"type\": \"scattermapbox\"}], \"scatterpolar\": [{\"marker\": {\"colorbar\": {\"outlinewidth\": 0, \"ticks\": \"\"}}, \"type\": \"scatterpolar\"}], \"scatterpolargl\": [{\"marker\": {\"colorbar\": {\"outlinewidth\": 0, \"ticks\": \"\"}}, \"type\": \"scatterpolargl\"}], \"scatterternary\": [{\"marker\": {\"colorbar\": {\"outlinewidth\": 0, \"ticks\": \"\"}}, \"type\": \"scatterternary\"}], \"surface\": [{\"colorbar\": {\"outlinewidth\": 0, \"ticks\": \"\"}, \"colorscale\": [[0.0, \"#0d0887\"], [0.1111111111111111, \"#46039f\"], [0.2222222222222222, \"#7201a8\"], [0.3333333333333333, \"#9c179e\"], [0.4444444444444444, \"#bd3786\"], [0.5555555555555556, \"#d8576b\"], [0.6666666666666666, \"#ed7953\"], [0.7777777777777778, \"#fb9f3a\"], [0.8888888888888888, \"#fdca26\"], [1.0, \"#f0f921\"]], \"type\": \"surface\"}], \"table\": [{\"cells\": {\"fill\": {\"color\": \"#EBF0F8\"}, \"line\": {\"color\": \"white\"}}, \"header\": {\"fill\": {\"color\": \"#C8D4E3\"}, \"line\": {\"color\": \"white\"}}, \"type\": \"table\"}]}, \"layout\": {\"annotationdefaults\": {\"arrowcolor\": \"#2a3f5f\", \"arrowhead\": 0, \"arrowwidth\": 1}, \"colorscale\": {\"diverging\": [[0, \"#8e0152\"], [0.1, \"#c51b7d\"], [0.2, \"#de77ae\"], [0.3, \"#f1b6da\"], [0.4, \"#fde0ef\"], [0.5, \"#f7f7f7\"], [0.6, \"#e6f5d0\"], [0.7, \"#b8e186\"], [0.8, \"#7fbc41\"], [0.9, \"#4d9221\"], [1, \"#276419\"]], \"sequential\": [[0.0, \"#0d0887\"], [0.1111111111111111, \"#46039f\"], [0.2222222222222222, \"#7201a8\"], [0.3333333333333333, \"#9c179e\"], [0.4444444444444444, \"#bd3786\"], [0.5555555555555556, \"#d8576b\"], [0.6666666666666666, \"#ed7953\"], [0.7777777777777778, \"#fb9f3a\"], [0.8888888888888888, \"#fdca26\"], [1.0, \"#f0f921\"]], \"sequentialminus\": [[0.0, \"#0d0887\"], [0.1111111111111111, \"#46039f\"], [0.2222222222222222, \"#7201a8\"], [0.3333333333333333, \"#9c179e\"], [0.4444444444444444, \"#bd3786\"], [0.5555555555555556, \"#d8576b\"], [0.6666666666666666, \"#ed7953\"], [0.7777777777777778, \"#fb9f3a\"], [0.8888888888888888, \"#fdca26\"], [1.0, \"#f0f921\"]]}, \"colorway\": [\"#636efa\", \"#EF553B\", \"#00cc96\", \"#ab63fa\", \"#FFA15A\", \"#19d3f3\", \"#FF6692\", \"#B6E880\", \"#FF97FF\", \"#FECB52\"], \"font\": {\"color\": \"#2a3f5f\"}, \"geo\": {\"bgcolor\": \"white\", \"lakecolor\": \"white\", \"landcolor\": \"#E5ECF6\", \"showlakes\": true, \"showland\": true, \"subunitcolor\": \"white\"}, \"hoverlabel\": {\"align\": \"left\"}, \"hovermode\": \"closest\", \"mapbox\": {\"style\": \"light\"}, \"paper_bgcolor\": \"white\", \"plot_bgcolor\": \"#E5ECF6\", \"polar\": {\"angularaxis\": {\"gridcolor\": \"white\", \"linecolor\": \"white\", \"ticks\": \"\"}, \"bgcolor\": \"#E5ECF6\", \"radialaxis\": {\"gridcolor\": \"white\", \"linecolor\": \"white\", \"ticks\": \"\"}}, \"scene\": {\"xaxis\": {\"backgroundcolor\": \"#E5ECF6\", \"gridcolor\": \"white\", \"gridwidth\": 2, \"linecolor\": \"white\", \"showbackground\": true, \"ticks\": \"\", \"zerolinecolor\": \"white\"}, \"yaxis\": {\"backgroundcolor\": \"#E5ECF6\", \"gridcolor\": \"white\", \"gridwidth\": 2, \"linecolor\": \"white\", \"showbackground\": true, \"ticks\": \"\", \"zerolinecolor\": \"white\"}, \"zaxis\": {\"backgroundcolor\": \"#E5ECF6\", \"gridcolor\": \"white\", \"gridwidth\": 2, \"linecolor\": \"white\", \"showbackground\": true, \"ticks\": \"\", \"zerolinecolor\": \"white\"}}, \"shapedefaults\": {\"line\": {\"color\": \"#2a3f5f\"}}, \"ternary\": {\"aaxis\": {\"gridcolor\": \"white\", \"linecolor\": \"white\", \"ticks\": \"\"}, \"baxis\": {\"gridcolor\": \"white\", \"linecolor\": \"white\", \"ticks\": \"\"}, \"bgcolor\": \"#E5ECF6\", \"caxis\": {\"gridcolor\": \"white\", \"linecolor\": \"white\", \"ticks\": \"\"}}, \"title\": {\"x\": 0.05}, \"xaxis\": {\"automargin\": true, \"gridcolor\": \"white\", \"linecolor\": \"white\", \"ticks\": \"\", \"zerolinecolor\": \"white\", \"zerolinewidth\": 2}, \"yaxis\": {\"automargin\": true, \"gridcolor\": \"white\", \"linecolor\": \"white\", \"ticks\": \"\", \"zerolinecolor\": \"white\", \"zerolinewidth\": 2}}}, \"title\": {\"text\": \"Biggest Fraudulent Categories\"}, \"xaxis\": {\"domain\": [0, 0.9], \"showgrid\": true, \"showline\": false, \"showticklabels\": true, \"zeroline\": false}, \"yaxis\": {\"domain\": [0, 0.9], \"showgrid\": false, \"showline\": false, \"showticklabels\": true}},\n",
       "                        {\"responsive\": true}\n",
       "                    ).then(function(){\n",
       "                            \n",
       "var gd = document.getElementById('2a8eeca4-1abb-4b56-8cbc-cb821bbfdc07');\n",
       "var x = new MutationObserver(function (mutations, observer) {{\n",
       "        var display = window.getComputedStyle(gd).display;\n",
       "        if (!display || display === 'none') {{\n",
       "            console.log([gd, 'removed!']);\n",
       "            Plotly.purge(gd);\n",
       "            observer.disconnect();\n",
       "        }}\n",
       "}});\n",
       "\n",
       "// Listen for the removal of the full notebook cells\n",
       "var notebookContainer = gd.closest('#notebook-container');\n",
       "if (notebookContainer) {{\n",
       "    x.observe(notebookContainer, {childList: true});\n",
       "}}\n",
       "\n",
       "// Listen for the clearing of the current output cell\n",
       "var outputEl = gd.closest('.output');\n",
       "if (outputEl) {{\n",
       "    x.observe(outputEl, {childList: true});\n",
       "}}\n",
       "\n",
       "                        })\n",
       "                };\n",
       "                });\n",
       "            </script>\n",
       "        </div>"
      ]
     },
     "metadata": {},
     "output_type": "display_data"
    }
   ],
   "source": [
    "fig = go.Figure()\n",
    "\n",
    "#dict for layout\n",
    "col_layout_dict = {'non_fraud_services_count': ['Non-fraud services','rgba(50, 171, 96, 0.6)'],\n",
    "                 'fraud_services_count': ['Fraud services','rgb(255, 0, 0)']}\n",
    "\n",
    "for col in ['non_fraud_services_count','fraud_services_count']:\n",
    "    fig.add_trace(go.Bar(\n",
    "        y=type_df['provider_type'],\n",
    "        x=type_df[col],\n",
    "        name=col_layout_dict[col][0],\n",
    "        marker=dict(\n",
    "            color=col_layout_dict[col][1],\n",
    "        ),\n",
    "        orientation='h',\n",
    "    ))\n",
    "\n",
    "fig.update_layout(\n",
    "    barmode = 'stack',\n",
    "    title = 'Biggest Fraudulent Categories',\n",
    "    paper_bgcolor='white',\n",
    "    plot_bgcolor='white',\n",
    "    yaxis=dict(\n",
    "        showgrid=False,\n",
    "        showline=False,\n",
    "        showticklabels=True,\n",
    "        domain=[0, 0.90],\n",
    "    ),\n",
    "    xaxis=dict(\n",
    "        zeroline=False,\n",
    "        showline=False,\n",
    "        showticklabels=True,\n",
    "        showgrid=True,\n",
    "        domain=[0, 0.90],\n",
    "    ),\n",
    ")\n",
    "\n",
    "#annotate with %\n",
    "annotations = []\n",
    "x   = type_df['fraud_services_count']+type_df['non_fraud_services_count']+100000000\n",
    "y_p = np.round(type_df['fraud_services_pct'].tolist(), decimals=2)\n",
    "\n",
    "for y_p, x, y in zip(y_p,x,type_df['provider_type']):\n",
    "    annotations.append(dict(xref='x1', yref='y1',\n",
    "                            y=y, x=x,\n",
    "                            text=str(y_p) + '%',\n",
    "                            font=dict(family='Arial', size=12,\n",
    "                                      color='rgb(255, 0, 0)'),\n",
    "                            showarrow=False))\n",
    "\n",
    "annotations.append(dict(xref='paper', yref='paper',\n",
    "                        x=-0.2, y=-0.109,\n",
    "                        text='Combined CMS and LEIE data' +\n",
    "                             'to label the leading Fraudulent physician categories (15 Feb 2020)',\n",
    "                        font=dict(family='Arial', size=10, color='rgb(150,150,150)'),\n",
    "                        showarrow=False))\n",
    "\n",
    "fig.update_layout(annotations=annotations)\n",
    "\n",
    "fig.show()"
   ]
  },
  {
   "cell_type": "code",
   "execution_count": 246,
   "metadata": {},
   "outputs": [
    {
     "data": {
      "text/plain": [
       "<zip at 0x284b63488>"
      ]
     },
     "execution_count": 246,
     "metadata": {},
     "output_type": "execute_result"
    }
   ],
   "source": [
    "zip(y_p,x,type_df['provider_type'])"
   ]
  },
  {
   "cell_type": "code",
   "execution_count": 163,
   "metadata": {},
   "outputs": [
    {
     "data": {
      "application/vnd.plotly.v1+json": {
       "config": {
        "plotlyServerURL": "https://plot.ly"
       },
       "data": [
        {
         "name": "male_fraud_count",
         "orientation": "h",
         "type": "bar",
         "x": [
          0,
          0,
          347352,
          235723,
          0,
          189501,
          152831,
          114464,
          108023,
          96178,
          76590,
          18534,
          52334,
          50083,
          22260
         ],
         "xaxis": "x",
         "y": [
          "Clinical Laboratory",
          "Ambulance Service Supplier",
          "Internal Medicine",
          "Family Practice",
          "Ambulance Service Provider",
          "Anesthesiology",
          "Podiatry",
          "General Practice",
          "Neurology",
          "Pain Management",
          "Cardiology",
          "Nurse Practitioner",
          "Geriatric Medicine",
          "Emergency Medicine",
          "Physical Therapist"
         ],
         "yaxis": "y"
        },
        {
         "name": "female_fraud_count",
         "orientation": "h",
         "type": "bar",
         "x": [
          0,
          0,
          13808,
          6986,
          0,
          442,
          25398,
          69,
          0,
          0,
          0,
          39238,
          0,
          0,
          26662
         ],
         "xaxis": "x",
         "y": [
          "Clinical Laboratory",
          "Ambulance Service Supplier",
          "Internal Medicine",
          "Family Practice",
          "Ambulance Service Provider",
          "Anesthesiology",
          "Podiatry",
          "General Practice",
          "Neurology",
          "Pain Management",
          "Cardiology",
          "Nurse Practitioner",
          "Geriatric Medicine",
          "Emergency Medicine",
          "Physical Therapist"
         ],
         "yaxis": "y"
        },
        {
         "name": "male_count",
         "orientation": "h",
         "type": "bar",
         "x": [
          995454,
          351885.5999999999,
          496518444.4000021,
          310728187.6000009,
          114019.3,
          38076787.900000006,
          102185081.69999999,
          22157422.799999993,
          43772659.400000006,
          13592885.499999998,
          208626591.0999999,
          16489416.1,
          6937719.1,
          83793020.09999995,
          144918628.29999995
         ],
         "xaxis": "x2",
         "y": [
          "Clinical Laboratory",
          "Ambulance Service Supplier",
          "Internal Medicine",
          "Family Practice",
          "Ambulance Service Provider",
          "Anesthesiology",
          "Podiatry",
          "General Practice",
          "Neurology",
          "Pain Management",
          "Cardiology",
          "Nurse Practitioner",
          "Geriatric Medicine",
          "Emergency Medicine",
          "Physical Therapist"
         ],
         "yaxis": "y2"
        },
        {
         "name": "female_count",
         "orientation": "h",
         "type": "bar",
         "x": [
          310080.2,
          203725.29999999996,
          149136304.79999986,
          98245766.89999984,
          36882.1,
          6729435.600000001,
          22668884.4,
          4296622.1,
          10840639.899999999,
          1296081.7,
          17042582.599999998,
          122816807.29999982,
          3800844.2,
          21949586.3,
          116148780.09999998
         ],
         "xaxis": "x2",
         "y": [
          "Clinical Laboratory",
          "Ambulance Service Supplier",
          "Internal Medicine",
          "Family Practice",
          "Ambulance Service Provider",
          "Anesthesiology",
          "Podiatry",
          "General Practice",
          "Neurology",
          "Pain Management",
          "Cardiology",
          "Nurse Practitioner",
          "Geriatric Medicine",
          "Emergency Medicine",
          "Physical Therapist"
         ],
         "yaxis": "y2"
        }
       ],
       "layout": {
        "barmode": "stack",
        "margin": {
         "b": 70,
         "l": 100,
         "r": 20,
         "t": 70
        },
        "paper_bgcolor": "white",
        "plot_bgcolor": "white",
        "template": {
         "data": {
          "bar": [
           {
            "error_x": {
             "color": "#2a3f5f"
            },
            "error_y": {
             "color": "#2a3f5f"
            },
            "marker": {
             "line": {
              "color": "#E5ECF6",
              "width": 0.5
             }
            },
            "type": "bar"
           }
          ],
          "barpolar": [
           {
            "marker": {
             "line": {
              "color": "#E5ECF6",
              "width": 0.5
             }
            },
            "type": "barpolar"
           }
          ],
          "carpet": [
           {
            "aaxis": {
             "endlinecolor": "#2a3f5f",
             "gridcolor": "white",
             "linecolor": "white",
             "minorgridcolor": "white",
             "startlinecolor": "#2a3f5f"
            },
            "baxis": {
             "endlinecolor": "#2a3f5f",
             "gridcolor": "white",
             "linecolor": "white",
             "minorgridcolor": "white",
             "startlinecolor": "#2a3f5f"
            },
            "type": "carpet"
           }
          ],
          "choropleth": [
           {
            "colorbar": {
             "outlinewidth": 0,
             "ticks": ""
            },
            "type": "choropleth"
           }
          ],
          "contour": [
           {
            "colorbar": {
             "outlinewidth": 0,
             "ticks": ""
            },
            "colorscale": [
             [
              0,
              "#0d0887"
             ],
             [
              0.1111111111111111,
              "#46039f"
             ],
             [
              0.2222222222222222,
              "#7201a8"
             ],
             [
              0.3333333333333333,
              "#9c179e"
             ],
             [
              0.4444444444444444,
              "#bd3786"
             ],
             [
              0.5555555555555556,
              "#d8576b"
             ],
             [
              0.6666666666666666,
              "#ed7953"
             ],
             [
              0.7777777777777778,
              "#fb9f3a"
             ],
             [
              0.8888888888888888,
              "#fdca26"
             ],
             [
              1,
              "#f0f921"
             ]
            ],
            "type": "contour"
           }
          ],
          "contourcarpet": [
           {
            "colorbar": {
             "outlinewidth": 0,
             "ticks": ""
            },
            "type": "contourcarpet"
           }
          ],
          "heatmap": [
           {
            "colorbar": {
             "outlinewidth": 0,
             "ticks": ""
            },
            "colorscale": [
             [
              0,
              "#0d0887"
             ],
             [
              0.1111111111111111,
              "#46039f"
             ],
             [
              0.2222222222222222,
              "#7201a8"
             ],
             [
              0.3333333333333333,
              "#9c179e"
             ],
             [
              0.4444444444444444,
              "#bd3786"
             ],
             [
              0.5555555555555556,
              "#d8576b"
             ],
             [
              0.6666666666666666,
              "#ed7953"
             ],
             [
              0.7777777777777778,
              "#fb9f3a"
             ],
             [
              0.8888888888888888,
              "#fdca26"
             ],
             [
              1,
              "#f0f921"
             ]
            ],
            "type": "heatmap"
           }
          ],
          "heatmapgl": [
           {
            "colorbar": {
             "outlinewidth": 0,
             "ticks": ""
            },
            "colorscale": [
             [
              0,
              "#0d0887"
             ],
             [
              0.1111111111111111,
              "#46039f"
             ],
             [
              0.2222222222222222,
              "#7201a8"
             ],
             [
              0.3333333333333333,
              "#9c179e"
             ],
             [
              0.4444444444444444,
              "#bd3786"
             ],
             [
              0.5555555555555556,
              "#d8576b"
             ],
             [
              0.6666666666666666,
              "#ed7953"
             ],
             [
              0.7777777777777778,
              "#fb9f3a"
             ],
             [
              0.8888888888888888,
              "#fdca26"
             ],
             [
              1,
              "#f0f921"
             ]
            ],
            "type": "heatmapgl"
           }
          ],
          "histogram": [
           {
            "marker": {
             "colorbar": {
              "outlinewidth": 0,
              "ticks": ""
             }
            },
            "type": "histogram"
           }
          ],
          "histogram2d": [
           {
            "colorbar": {
             "outlinewidth": 0,
             "ticks": ""
            },
            "colorscale": [
             [
              0,
              "#0d0887"
             ],
             [
              0.1111111111111111,
              "#46039f"
             ],
             [
              0.2222222222222222,
              "#7201a8"
             ],
             [
              0.3333333333333333,
              "#9c179e"
             ],
             [
              0.4444444444444444,
              "#bd3786"
             ],
             [
              0.5555555555555556,
              "#d8576b"
             ],
             [
              0.6666666666666666,
              "#ed7953"
             ],
             [
              0.7777777777777778,
              "#fb9f3a"
             ],
             [
              0.8888888888888888,
              "#fdca26"
             ],
             [
              1,
              "#f0f921"
             ]
            ],
            "type": "histogram2d"
           }
          ],
          "histogram2dcontour": [
           {
            "colorbar": {
             "outlinewidth": 0,
             "ticks": ""
            },
            "colorscale": [
             [
              0,
              "#0d0887"
             ],
             [
              0.1111111111111111,
              "#46039f"
             ],
             [
              0.2222222222222222,
              "#7201a8"
             ],
             [
              0.3333333333333333,
              "#9c179e"
             ],
             [
              0.4444444444444444,
              "#bd3786"
             ],
             [
              0.5555555555555556,
              "#d8576b"
             ],
             [
              0.6666666666666666,
              "#ed7953"
             ],
             [
              0.7777777777777778,
              "#fb9f3a"
             ],
             [
              0.8888888888888888,
              "#fdca26"
             ],
             [
              1,
              "#f0f921"
             ]
            ],
            "type": "histogram2dcontour"
           }
          ],
          "mesh3d": [
           {
            "colorbar": {
             "outlinewidth": 0,
             "ticks": ""
            },
            "type": "mesh3d"
           }
          ],
          "parcoords": [
           {
            "line": {
             "colorbar": {
              "outlinewidth": 0,
              "ticks": ""
             }
            },
            "type": "parcoords"
           }
          ],
          "scatter": [
           {
            "marker": {
             "colorbar": {
              "outlinewidth": 0,
              "ticks": ""
             }
            },
            "type": "scatter"
           }
          ],
          "scatter3d": [
           {
            "line": {
             "colorbar": {
              "outlinewidth": 0,
              "ticks": ""
             }
            },
            "marker": {
             "colorbar": {
              "outlinewidth": 0,
              "ticks": ""
             }
            },
            "type": "scatter3d"
           }
          ],
          "scattercarpet": [
           {
            "marker": {
             "colorbar": {
              "outlinewidth": 0,
              "ticks": ""
             }
            },
            "type": "scattercarpet"
           }
          ],
          "scattergeo": [
           {
            "marker": {
             "colorbar": {
              "outlinewidth": 0,
              "ticks": ""
             }
            },
            "type": "scattergeo"
           }
          ],
          "scattergl": [
           {
            "marker": {
             "colorbar": {
              "outlinewidth": 0,
              "ticks": ""
             }
            },
            "type": "scattergl"
           }
          ],
          "scattermapbox": [
           {
            "marker": {
             "colorbar": {
              "outlinewidth": 0,
              "ticks": ""
             }
            },
            "type": "scattermapbox"
           }
          ],
          "scatterpolar": [
           {
            "marker": {
             "colorbar": {
              "outlinewidth": 0,
              "ticks": ""
             }
            },
            "type": "scatterpolar"
           }
          ],
          "scatterpolargl": [
           {
            "marker": {
             "colorbar": {
              "outlinewidth": 0,
              "ticks": ""
             }
            },
            "type": "scatterpolargl"
           }
          ],
          "scatterternary": [
           {
            "marker": {
             "colorbar": {
              "outlinewidth": 0,
              "ticks": ""
             }
            },
            "type": "scatterternary"
           }
          ],
          "surface": [
           {
            "colorbar": {
             "outlinewidth": 0,
             "ticks": ""
            },
            "colorscale": [
             [
              0,
              "#0d0887"
             ],
             [
              0.1111111111111111,
              "#46039f"
             ],
             [
              0.2222222222222222,
              "#7201a8"
             ],
             [
              0.3333333333333333,
              "#9c179e"
             ],
             [
              0.4444444444444444,
              "#bd3786"
             ],
             [
              0.5555555555555556,
              "#d8576b"
             ],
             [
              0.6666666666666666,
              "#ed7953"
             ],
             [
              0.7777777777777778,
              "#fb9f3a"
             ],
             [
              0.8888888888888888,
              "#fdca26"
             ],
             [
              1,
              "#f0f921"
             ]
            ],
            "type": "surface"
           }
          ],
          "table": [
           {
            "cells": {
             "fill": {
              "color": "#EBF0F8"
             },
             "line": {
              "color": "white"
             }
            },
            "header": {
             "fill": {
              "color": "#C8D4E3"
             },
             "line": {
              "color": "white"
             }
            },
            "type": "table"
           }
          ]
         },
         "layout": {
          "annotationdefaults": {
           "arrowcolor": "#2a3f5f",
           "arrowhead": 0,
           "arrowwidth": 1
          },
          "colorscale": {
           "diverging": [
            [
             0,
             "#8e0152"
            ],
            [
             0.1,
             "#c51b7d"
            ],
            [
             0.2,
             "#de77ae"
            ],
            [
             0.3,
             "#f1b6da"
            ],
            [
             0.4,
             "#fde0ef"
            ],
            [
             0.5,
             "#f7f7f7"
            ],
            [
             0.6,
             "#e6f5d0"
            ],
            [
             0.7,
             "#b8e186"
            ],
            [
             0.8,
             "#7fbc41"
            ],
            [
             0.9,
             "#4d9221"
            ],
            [
             1,
             "#276419"
            ]
           ],
           "sequential": [
            [
             0,
             "#0d0887"
            ],
            [
             0.1111111111111111,
             "#46039f"
            ],
            [
             0.2222222222222222,
             "#7201a8"
            ],
            [
             0.3333333333333333,
             "#9c179e"
            ],
            [
             0.4444444444444444,
             "#bd3786"
            ],
            [
             0.5555555555555556,
             "#d8576b"
            ],
            [
             0.6666666666666666,
             "#ed7953"
            ],
            [
             0.7777777777777778,
             "#fb9f3a"
            ],
            [
             0.8888888888888888,
             "#fdca26"
            ],
            [
             1,
             "#f0f921"
            ]
           ],
           "sequentialminus": [
            [
             0,
             "#0d0887"
            ],
            [
             0.1111111111111111,
             "#46039f"
            ],
            [
             0.2222222222222222,
             "#7201a8"
            ],
            [
             0.3333333333333333,
             "#9c179e"
            ],
            [
             0.4444444444444444,
             "#bd3786"
            ],
            [
             0.5555555555555556,
             "#d8576b"
            ],
            [
             0.6666666666666666,
             "#ed7953"
            ],
            [
             0.7777777777777778,
             "#fb9f3a"
            ],
            [
             0.8888888888888888,
             "#fdca26"
            ],
            [
             1,
             "#f0f921"
            ]
           ]
          },
          "colorway": [
           "#636efa",
           "#EF553B",
           "#00cc96",
           "#ab63fa",
           "#FFA15A",
           "#19d3f3",
           "#FF6692",
           "#B6E880",
           "#FF97FF",
           "#FECB52"
          ],
          "font": {
           "color": "#2a3f5f"
          },
          "geo": {
           "bgcolor": "white",
           "lakecolor": "white",
           "landcolor": "#E5ECF6",
           "showlakes": true,
           "showland": true,
           "subunitcolor": "white"
          },
          "hoverlabel": {
           "align": "left"
          },
          "hovermode": "closest",
          "mapbox": {
           "style": "light"
          },
          "paper_bgcolor": "white",
          "plot_bgcolor": "#E5ECF6",
          "polar": {
           "angularaxis": {
            "gridcolor": "white",
            "linecolor": "white",
            "ticks": ""
           },
           "bgcolor": "#E5ECF6",
           "radialaxis": {
            "gridcolor": "white",
            "linecolor": "white",
            "ticks": ""
           }
          },
          "scene": {
           "xaxis": {
            "backgroundcolor": "#E5ECF6",
            "gridcolor": "white",
            "gridwidth": 2,
            "linecolor": "white",
            "showbackground": true,
            "ticks": "",
            "zerolinecolor": "white"
           },
           "yaxis": {
            "backgroundcolor": "#E5ECF6",
            "gridcolor": "white",
            "gridwidth": 2,
            "linecolor": "white",
            "showbackground": true,
            "ticks": "",
            "zerolinecolor": "white"
           },
           "zaxis": {
            "backgroundcolor": "#E5ECF6",
            "gridcolor": "white",
            "gridwidth": 2,
            "linecolor": "white",
            "showbackground": true,
            "ticks": "",
            "zerolinecolor": "white"
           }
          },
          "shapedefaults": {
           "line": {
            "color": "#2a3f5f"
           }
          },
          "ternary": {
           "aaxis": {
            "gridcolor": "white",
            "linecolor": "white",
            "ticks": ""
           },
           "baxis": {
            "gridcolor": "white",
            "linecolor": "white",
            "ticks": ""
           },
           "bgcolor": "#E5ECF6",
           "caxis": {
            "gridcolor": "white",
            "linecolor": "white",
            "ticks": ""
           }
          },
          "title": {
           "x": 0.05
          },
          "xaxis": {
           "automargin": true,
           "gridcolor": "white",
           "linecolor": "white",
           "ticks": "",
           "zerolinecolor": "white",
           "zerolinewidth": 2
          },
          "yaxis": {
           "automargin": true,
           "gridcolor": "white",
           "linecolor": "white",
           "ticks": "",
           "zerolinecolor": "white",
           "zerolinewidth": 2
          }
         }
        },
        "title": {
         "text": "Biggest Fraudulent Category by Gender"
        },
        "xaxis": {
         "anchor": "y",
         "domain": [
          0,
          0.42
         ],
         "showgrid": true,
         "showline": false,
         "showticklabels": true,
         "zeroline": false
        },
        "xaxis2": {
         "anchor": "y2",
         "domain": [
          0.47,
          1
         ],
         "showgrid": true,
         "showline": false,
         "showticklabels": true,
         "zeroline": false
        },
        "yaxis": {
         "anchor": "x",
         "domain": [
          0,
          0.85
         ],
         "showgrid": false,
         "showline": false,
         "showticklabels": true
        },
        "yaxis2": {
         "anchor": "x2",
         "domain": [
          0,
          0.85
         ],
         "linewidth": 2,
         "showgrid": false,
         "showline": false,
         "showticklabels": false
        }
       }
      },
      "text/html": [
       "<div>\n",
       "        \n",
       "        \n",
       "            <div id=\"07515b0f-812b-44da-88a7-cad78b5a842e\" class=\"plotly-graph-div\" style=\"height:525px; width:100%;\"></div>\n",
       "            <script type=\"text/javascript\">\n",
       "                require([\"plotly\"], function(Plotly) {\n",
       "                    window.PLOTLYENV=window.PLOTLYENV || {};\n",
       "                    \n",
       "                if (document.getElementById(\"07515b0f-812b-44da-88a7-cad78b5a842e\")) {\n",
       "                    Plotly.newPlot(\n",
       "                        '07515b0f-812b-44da-88a7-cad78b5a842e',\n",
       "                        [{\"name\": \"male_fraud_count\", \"orientation\": \"h\", \"type\": \"bar\", \"x\": [0.0, 0.0, 347352.0, 235723.0, 0.0, 189501.0, 152831.0, 114464.0, 108023.0, 96178.0, 76590.0, 18534.0, 52334.0, 50083.0, 22260.0], \"xaxis\": \"x\", \"y\": [\"Clinical Laboratory\", \"Ambulance Service Supplier\", \"Internal Medicine\", \"Family Practice\", \"Ambulance Service Provider\", \"Anesthesiology\", \"Podiatry\", \"General Practice\", \"Neurology\", \"Pain Management\", \"Cardiology\", \"Nurse Practitioner\", \"Geriatric Medicine\", \"Emergency Medicine\", \"Physical Therapist\"], \"yaxis\": \"y\"}, {\"name\": \"female_fraud_count\", \"orientation\": \"h\", \"type\": \"bar\", \"x\": [0.0, 0.0, 13808.0, 6986.0, 0.0, 442.0, 25398.0, 69.0, 0.0, 0.0, 0.0, 39238.0, 0.0, 0.0, 26662.0], \"xaxis\": \"x\", \"y\": [\"Clinical Laboratory\", \"Ambulance Service Supplier\", \"Internal Medicine\", \"Family Practice\", \"Ambulance Service Provider\", \"Anesthesiology\", \"Podiatry\", \"General Practice\", \"Neurology\", \"Pain Management\", \"Cardiology\", \"Nurse Practitioner\", \"Geriatric Medicine\", \"Emergency Medicine\", \"Physical Therapist\"], \"yaxis\": \"y\"}, {\"name\": \"male_count\", \"orientation\": \"h\", \"type\": \"bar\", \"x\": [995454.0, 351885.5999999999, 496518444.4000021, 310728187.6000009, 114019.3, 38076787.900000006, 102185081.69999999, 22157422.799999993, 43772659.400000006, 13592885.499999998, 208626591.0999999, 16489416.1, 6937719.1, 83793020.09999995, 144918628.29999995], \"xaxis\": \"x2\", \"y\": [\"Clinical Laboratory\", \"Ambulance Service Supplier\", \"Internal Medicine\", \"Family Practice\", \"Ambulance Service Provider\", \"Anesthesiology\", \"Podiatry\", \"General Practice\", \"Neurology\", \"Pain Management\", \"Cardiology\", \"Nurse Practitioner\", \"Geriatric Medicine\", \"Emergency Medicine\", \"Physical Therapist\"], \"yaxis\": \"y2\"}, {\"name\": \"female_count\", \"orientation\": \"h\", \"type\": \"bar\", \"x\": [310080.2, 203725.29999999996, 149136304.79999986, 98245766.89999984, 36882.1, 6729435.600000001, 22668884.4, 4296622.1, 10840639.899999999, 1296081.7, 17042582.599999998, 122816807.29999982, 3800844.2, 21949586.3, 116148780.09999998], \"xaxis\": \"x2\", \"y\": [\"Clinical Laboratory\", \"Ambulance Service Supplier\", \"Internal Medicine\", \"Family Practice\", \"Ambulance Service Provider\", \"Anesthesiology\", \"Podiatry\", \"General Practice\", \"Neurology\", \"Pain Management\", \"Cardiology\", \"Nurse Practitioner\", \"Geriatric Medicine\", \"Emergency Medicine\", \"Physical Therapist\"], \"yaxis\": \"y2\"}],\n",
       "                        {\"barmode\": \"stack\", \"margin\": {\"b\": 70, \"l\": 100, \"r\": 20, \"t\": 70}, \"paper_bgcolor\": \"white\", \"plot_bgcolor\": \"white\", \"template\": {\"data\": {\"bar\": [{\"error_x\": {\"color\": \"#2a3f5f\"}, \"error_y\": {\"color\": \"#2a3f5f\"}, \"marker\": {\"line\": {\"color\": \"#E5ECF6\", \"width\": 0.5}}, \"type\": \"bar\"}], \"barpolar\": [{\"marker\": {\"line\": {\"color\": \"#E5ECF6\", \"width\": 0.5}}, \"type\": \"barpolar\"}], \"carpet\": [{\"aaxis\": {\"endlinecolor\": \"#2a3f5f\", \"gridcolor\": \"white\", \"linecolor\": \"white\", \"minorgridcolor\": \"white\", \"startlinecolor\": \"#2a3f5f\"}, \"baxis\": {\"endlinecolor\": \"#2a3f5f\", \"gridcolor\": \"white\", \"linecolor\": \"white\", \"minorgridcolor\": \"white\", \"startlinecolor\": \"#2a3f5f\"}, \"type\": \"carpet\"}], \"choropleth\": [{\"colorbar\": {\"outlinewidth\": 0, \"ticks\": \"\"}, \"type\": \"choropleth\"}], \"contour\": [{\"colorbar\": {\"outlinewidth\": 0, \"ticks\": \"\"}, \"colorscale\": [[0.0, \"#0d0887\"], [0.1111111111111111, \"#46039f\"], [0.2222222222222222, \"#7201a8\"], [0.3333333333333333, \"#9c179e\"], [0.4444444444444444, \"#bd3786\"], [0.5555555555555556, \"#d8576b\"], [0.6666666666666666, \"#ed7953\"], [0.7777777777777778, \"#fb9f3a\"], [0.8888888888888888, \"#fdca26\"], [1.0, \"#f0f921\"]], \"type\": \"contour\"}], \"contourcarpet\": [{\"colorbar\": {\"outlinewidth\": 0, \"ticks\": \"\"}, \"type\": \"contourcarpet\"}], \"heatmap\": [{\"colorbar\": {\"outlinewidth\": 0, \"ticks\": \"\"}, \"colorscale\": [[0.0, \"#0d0887\"], [0.1111111111111111, \"#46039f\"], [0.2222222222222222, \"#7201a8\"], [0.3333333333333333, \"#9c179e\"], [0.4444444444444444, \"#bd3786\"], [0.5555555555555556, \"#d8576b\"], [0.6666666666666666, \"#ed7953\"], [0.7777777777777778, \"#fb9f3a\"], [0.8888888888888888, \"#fdca26\"], [1.0, \"#f0f921\"]], \"type\": \"heatmap\"}], \"heatmapgl\": [{\"colorbar\": {\"outlinewidth\": 0, \"ticks\": \"\"}, \"colorscale\": [[0.0, \"#0d0887\"], [0.1111111111111111, \"#46039f\"], [0.2222222222222222, \"#7201a8\"], [0.3333333333333333, \"#9c179e\"], [0.4444444444444444, \"#bd3786\"], [0.5555555555555556, \"#d8576b\"], [0.6666666666666666, \"#ed7953\"], [0.7777777777777778, \"#fb9f3a\"], [0.8888888888888888, \"#fdca26\"], [1.0, \"#f0f921\"]], \"type\": \"heatmapgl\"}], \"histogram\": [{\"marker\": {\"colorbar\": {\"outlinewidth\": 0, \"ticks\": \"\"}}, \"type\": \"histogram\"}], \"histogram2d\": [{\"colorbar\": {\"outlinewidth\": 0, \"ticks\": \"\"}, \"colorscale\": [[0.0, \"#0d0887\"], [0.1111111111111111, \"#46039f\"], [0.2222222222222222, \"#7201a8\"], [0.3333333333333333, \"#9c179e\"], [0.4444444444444444, \"#bd3786\"], [0.5555555555555556, \"#d8576b\"], [0.6666666666666666, \"#ed7953\"], [0.7777777777777778, \"#fb9f3a\"], [0.8888888888888888, \"#fdca26\"], [1.0, \"#f0f921\"]], \"type\": \"histogram2d\"}], \"histogram2dcontour\": [{\"colorbar\": {\"outlinewidth\": 0, \"ticks\": \"\"}, \"colorscale\": [[0.0, \"#0d0887\"], [0.1111111111111111, \"#46039f\"], [0.2222222222222222, \"#7201a8\"], [0.3333333333333333, \"#9c179e\"], [0.4444444444444444, \"#bd3786\"], [0.5555555555555556, \"#d8576b\"], [0.6666666666666666, \"#ed7953\"], [0.7777777777777778, \"#fb9f3a\"], [0.8888888888888888, \"#fdca26\"], [1.0, \"#f0f921\"]], \"type\": \"histogram2dcontour\"}], \"mesh3d\": [{\"colorbar\": {\"outlinewidth\": 0, \"ticks\": \"\"}, \"type\": \"mesh3d\"}], \"parcoords\": [{\"line\": {\"colorbar\": {\"outlinewidth\": 0, \"ticks\": \"\"}}, \"type\": \"parcoords\"}], \"scatter\": [{\"marker\": {\"colorbar\": {\"outlinewidth\": 0, \"ticks\": \"\"}}, \"type\": \"scatter\"}], \"scatter3d\": [{\"line\": {\"colorbar\": {\"outlinewidth\": 0, \"ticks\": \"\"}}, \"marker\": {\"colorbar\": {\"outlinewidth\": 0, \"ticks\": \"\"}}, \"type\": \"scatter3d\"}], \"scattercarpet\": [{\"marker\": {\"colorbar\": {\"outlinewidth\": 0, \"ticks\": \"\"}}, \"type\": \"scattercarpet\"}], \"scattergeo\": [{\"marker\": {\"colorbar\": {\"outlinewidth\": 0, \"ticks\": \"\"}}, \"type\": \"scattergeo\"}], \"scattergl\": [{\"marker\": {\"colorbar\": {\"outlinewidth\": 0, \"ticks\": \"\"}}, \"type\": \"scattergl\"}], \"scattermapbox\": [{\"marker\": {\"colorbar\": {\"outlinewidth\": 0, \"ticks\": \"\"}}, \"type\": \"scattermapbox\"}], \"scatterpolar\": [{\"marker\": {\"colorbar\": {\"outlinewidth\": 0, \"ticks\": \"\"}}, \"type\": \"scatterpolar\"}], \"scatterpolargl\": [{\"marker\": {\"colorbar\": {\"outlinewidth\": 0, \"ticks\": \"\"}}, \"type\": \"scatterpolargl\"}], \"scatterternary\": [{\"marker\": {\"colorbar\": {\"outlinewidth\": 0, \"ticks\": \"\"}}, \"type\": \"scatterternary\"}], \"surface\": [{\"colorbar\": {\"outlinewidth\": 0, \"ticks\": \"\"}, \"colorscale\": [[0.0, \"#0d0887\"], [0.1111111111111111, \"#46039f\"], [0.2222222222222222, \"#7201a8\"], [0.3333333333333333, \"#9c179e\"], [0.4444444444444444, \"#bd3786\"], [0.5555555555555556, \"#d8576b\"], [0.6666666666666666, \"#ed7953\"], [0.7777777777777778, \"#fb9f3a\"], [0.8888888888888888, \"#fdca26\"], [1.0, \"#f0f921\"]], \"type\": \"surface\"}], \"table\": [{\"cells\": {\"fill\": {\"color\": \"#EBF0F8\"}, \"line\": {\"color\": \"white\"}}, \"header\": {\"fill\": {\"color\": \"#C8D4E3\"}, \"line\": {\"color\": \"white\"}}, \"type\": \"table\"}]}, \"layout\": {\"annotationdefaults\": {\"arrowcolor\": \"#2a3f5f\", \"arrowhead\": 0, \"arrowwidth\": 1}, \"colorscale\": {\"diverging\": [[0, \"#8e0152\"], [0.1, \"#c51b7d\"], [0.2, \"#de77ae\"], [0.3, \"#f1b6da\"], [0.4, \"#fde0ef\"], [0.5, \"#f7f7f7\"], [0.6, \"#e6f5d0\"], [0.7, \"#b8e186\"], [0.8, \"#7fbc41\"], [0.9, \"#4d9221\"], [1, \"#276419\"]], \"sequential\": [[0.0, \"#0d0887\"], [0.1111111111111111, \"#46039f\"], [0.2222222222222222, \"#7201a8\"], [0.3333333333333333, \"#9c179e\"], [0.4444444444444444, \"#bd3786\"], [0.5555555555555556, \"#d8576b\"], [0.6666666666666666, \"#ed7953\"], [0.7777777777777778, \"#fb9f3a\"], [0.8888888888888888, \"#fdca26\"], [1.0, \"#f0f921\"]], \"sequentialminus\": [[0.0, \"#0d0887\"], [0.1111111111111111, \"#46039f\"], [0.2222222222222222, \"#7201a8\"], [0.3333333333333333, \"#9c179e\"], [0.4444444444444444, \"#bd3786\"], [0.5555555555555556, \"#d8576b\"], [0.6666666666666666, \"#ed7953\"], [0.7777777777777778, \"#fb9f3a\"], [0.8888888888888888, \"#fdca26\"], [1.0, \"#f0f921\"]]}, \"colorway\": [\"#636efa\", \"#EF553B\", \"#00cc96\", \"#ab63fa\", \"#FFA15A\", \"#19d3f3\", \"#FF6692\", \"#B6E880\", \"#FF97FF\", \"#FECB52\"], \"font\": {\"color\": \"#2a3f5f\"}, \"geo\": {\"bgcolor\": \"white\", \"lakecolor\": \"white\", \"landcolor\": \"#E5ECF6\", \"showlakes\": true, \"showland\": true, \"subunitcolor\": \"white\"}, \"hoverlabel\": {\"align\": \"left\"}, \"hovermode\": \"closest\", \"mapbox\": {\"style\": \"light\"}, \"paper_bgcolor\": \"white\", \"plot_bgcolor\": \"#E5ECF6\", \"polar\": {\"angularaxis\": {\"gridcolor\": \"white\", \"linecolor\": \"white\", \"ticks\": \"\"}, \"bgcolor\": \"#E5ECF6\", \"radialaxis\": {\"gridcolor\": \"white\", \"linecolor\": \"white\", \"ticks\": \"\"}}, \"scene\": {\"xaxis\": {\"backgroundcolor\": \"#E5ECF6\", \"gridcolor\": \"white\", \"gridwidth\": 2, \"linecolor\": \"white\", \"showbackground\": true, \"ticks\": \"\", \"zerolinecolor\": \"white\"}, \"yaxis\": {\"backgroundcolor\": \"#E5ECF6\", \"gridcolor\": \"white\", \"gridwidth\": 2, \"linecolor\": \"white\", \"showbackground\": true, \"ticks\": \"\", \"zerolinecolor\": \"white\"}, \"zaxis\": {\"backgroundcolor\": \"#E5ECF6\", \"gridcolor\": \"white\", \"gridwidth\": 2, \"linecolor\": \"white\", \"showbackground\": true, \"ticks\": \"\", \"zerolinecolor\": \"white\"}}, \"shapedefaults\": {\"line\": {\"color\": \"#2a3f5f\"}}, \"ternary\": {\"aaxis\": {\"gridcolor\": \"white\", \"linecolor\": \"white\", \"ticks\": \"\"}, \"baxis\": {\"gridcolor\": \"white\", \"linecolor\": \"white\", \"ticks\": \"\"}, \"bgcolor\": \"#E5ECF6\", \"caxis\": {\"gridcolor\": \"white\", \"linecolor\": \"white\", \"ticks\": \"\"}}, \"title\": {\"x\": 0.05}, \"xaxis\": {\"automargin\": true, \"gridcolor\": \"white\", \"linecolor\": \"white\", \"ticks\": \"\", \"zerolinecolor\": \"white\", \"zerolinewidth\": 2}, \"yaxis\": {\"automargin\": true, \"gridcolor\": \"white\", \"linecolor\": \"white\", \"ticks\": \"\", \"zerolinecolor\": \"white\", \"zerolinewidth\": 2}}}, \"title\": {\"text\": \"Biggest Fraudulent Category by Gender\"}, \"xaxis\": {\"anchor\": \"y\", \"domain\": [0, 0.42], \"showgrid\": true, \"showline\": false, \"showticklabels\": true, \"zeroline\": false}, \"xaxis2\": {\"anchor\": \"y2\", \"domain\": [0.47, 1], \"showgrid\": true, \"showline\": false, \"showticklabels\": true, \"zeroline\": false}, \"yaxis\": {\"anchor\": \"x\", \"domain\": [0, 0.85], \"showgrid\": false, \"showline\": false, \"showticklabels\": true}, \"yaxis2\": {\"anchor\": \"x2\", \"domain\": [0, 0.85], \"linewidth\": 2, \"showgrid\": false, \"showline\": false, \"showticklabels\": false}},\n",
       "                        {\"responsive\": true}\n",
       "                    ).then(function(){\n",
       "                            \n",
       "var gd = document.getElementById('07515b0f-812b-44da-88a7-cad78b5a842e');\n",
       "var x = new MutationObserver(function (mutations, observer) {{\n",
       "        var display = window.getComputedStyle(gd).display;\n",
       "        if (!display || display === 'none') {{\n",
       "            console.log([gd, 'removed!']);\n",
       "            Plotly.purge(gd);\n",
       "            observer.disconnect();\n",
       "        }}\n",
       "}});\n",
       "\n",
       "// Listen for the removal of the full notebook cells\n",
       "var notebookContainer = gd.closest('#notebook-container');\n",
       "if (notebookContainer) {{\n",
       "    x.observe(notebookContainer, {childList: true});\n",
       "}}\n",
       "\n",
       "// Listen for the clearing of the current output cell\n",
       "var outputEl = gd.closest('.output');\n",
       "if (outputEl) {{\n",
       "    x.observe(outputEl, {childList: true});\n",
       "}}\n",
       "\n",
       "                        })\n",
       "                };\n",
       "                });\n",
       "            </script>\n",
       "        </div>"
      ]
     },
     "metadata": {},
     "output_type": "display_data"
    }
   ],
   "source": [
    "# Plot side by side\n",
    "fig = make_subplots(rows=1, cols=2, specs=[[{}, {}]], shared_xaxes=True,\n",
    "                    shared_yaxes=False, vertical_spacing=0.001)\n",
    "\n",
    "# Add traces\n",
    "for col in ['male_fraud_count','female_fraud_count']:\n",
    "    fig.append_trace(go.Bar(\n",
    "        x = type_df[col],\n",
    "        y = type_df['provider_type'],\n",
    "        name = col,\n",
    "        orientation = 'h'\n",
    "    ), 1, 1)\n",
    "    \n",
    "for col in ['male_count','female_count']:\n",
    "    fig.append_trace(go.Bar(\n",
    "        x = type_df[col],\n",
    "        y = type_df['provider_type'],\n",
    "        name = col,\n",
    "        orientation = 'h'\n",
    "    ), 1, 2)\n",
    "\n",
    "fig.update_layout(\n",
    "    barmode = 'stack',\n",
    "    title = 'Biggest Fraudulent Category by Gender',\n",
    "    paper_bgcolor='white',\n",
    "    plot_bgcolor='white',\n",
    "    yaxis=dict(\n",
    "        showgrid=False,\n",
    "        showline=False,\n",
    "        showticklabels=True,\n",
    "        domain=[0, 0.85],\n",
    "    ),\n",
    "    yaxis2=dict(\n",
    "        showgrid=False,\n",
    "        showline=False,\n",
    "        showticklabels=False,\n",
    "        linewidth=2,\n",
    "        domain=[0, 0.85],\n",
    "    ),\n",
    "    xaxis=dict(\n",
    "        zeroline=False,\n",
    "        showline=False,\n",
    "        showticklabels=True,\n",
    "        showgrid=True,\n",
    "        domain=[0, 0.42],\n",
    "    ),\n",
    "    xaxis2=dict(\n",
    "        zeroline=False,\n",
    "        showline=False,\n",
    "        showticklabels=True,\n",
    "        showgrid=True,\n",
    "        domain=[0.47, 1],\n",
    "    ),\n",
    "    margin=dict(l=100, r=20, t=70, b=70),\n",
    "#     annotations=[dict(xref='paper', yref='paper',\n",
    "#                         text='OECD \"' +\n",
    "#                              '(2015), Household savings (indicator), ' +\n",
    "#                              'Household net worth (indicator). doi: ' +\n",
    "#                              '10.1787/cfc6f499-en (Accessed on 05 June 2015)')],\n",
    ")\n",
    "\n",
    "fig.show()"
   ]
  },
  {
   "cell_type": "markdown",
   "metadata": {},
   "source": [
    "### 5. Prep Data for Training"
   ]
  },
  {
   "cell_type": "markdown",
   "metadata": {},
   "source": [
    "- Aggregate data following paper's method\n",
    "- Normalize predictors\n",
    "- One hot encoding\n",
    "- Write data for training (excluding state, city, zip)"
   ]
  },
  {
   "cell_type": "code",
   "execution_count": null,
   "metadata": {},
   "outputs": [],
   "source": [
    "new_variables_to_keep = [\n",
    "    'year',\n",
    "    'npi',\n",
    "    'provider_type',\n",
    "    'nppes_provider_city',   #only keep for visualization\n",
    "    'nppes_provider_state',  #only keep for visualization\n",
    "    'nppes_provider_country',#only keep for visualization\n",
    "    'nppes_provider_gender',\n",
    "    'line_srvc_cnt',\n",
    "    'bene_unique_cnt',\n",
    "    'bene_day_srvc_cnt',\n",
    "    'average_submitted_chrg_amt',\n",
    "    'average_medicare_payment_amt',\n",
    "    'fraudulent'\n",
    "]"
   ]
  },
  {
   "cell_type": "code",
   "execution_count": null,
   "metadata": {},
   "outputs": [],
   "source": [
    "#group by\n",
    "temp_df = partB_df[new_variables_to_keep]\n",
    "\n",
    "#agg by npi - provider_type and get sum stats\n",
    "agg_partB_df = temp_df.groupby(by=['year','npi','provider_type','nppes_provider_city',\n",
    "                      'nppes_provider_state','nppes_provider_country','nppes_provider_gender']).agg(\n",
    "                    {\n",
    "                    'line_srvc_cnt':[\"mean\",\"median\",\"std\", min,max,sum],\n",
    "                    'bene_unique_cnt':[\"mean\",\"median\",\"std\", min,max,sum],\n",
    "                    'bene_day_srvc_cnt':[\"mean\",\"median\",\"std\", min,max,sum],\n",
    "                    'average_submitted_chrg_amt':[\"mean\",\"median\",\"std\", min,max,sum],\n",
    "                    'average_medicare_payment_amt':[\"mean\",\"median\",\"std\", min,max,sum],\n",
    "                    'fraudulent':[\"mean\"],\n",
    "                    }).reset_index()\n",
    "\n",
    "agg_partB_df.columns = [\"_\".join(x) for x in agg_partB_df.columns.ravel()] #unravel to get rid of multi-index column names"
   ]
  },
  {
   "cell_type": "code",
   "execution_count": 97,
   "metadata": {},
   "outputs": [
    {
     "data": {
      "text/html": [
       "<div>\n",
       "<style scoped>\n",
       "    .dataframe tbody tr th:only-of-type {\n",
       "        vertical-align: middle;\n",
       "    }\n",
       "\n",
       "    .dataframe tbody tr th {\n",
       "        vertical-align: top;\n",
       "    }\n",
       "\n",
       "    .dataframe thead th {\n",
       "        text-align: right;\n",
       "    }\n",
       "</style>\n",
       "<table border=\"1\" class=\"dataframe\">\n",
       "  <thead>\n",
       "    <tr style=\"text-align: right;\">\n",
       "      <th></th>\n",
       "      <th>year_</th>\n",
       "      <th>npi_</th>\n",
       "      <th>provider_type_</th>\n",
       "      <th>nppes_provider_city_</th>\n",
       "      <th>nppes_provider_state_</th>\n",
       "      <th>nppes_provider_country_</th>\n",
       "      <th>nppes_provider_gender_</th>\n",
       "      <th>line_srvc_cnt_mean</th>\n",
       "      <th>line_srvc_cnt_median</th>\n",
       "      <th>line_srvc_cnt_std</th>\n",
       "      <th>...</th>\n",
       "      <th>average_submitted_chrg_amt_min</th>\n",
       "      <th>average_submitted_chrg_amt_max</th>\n",
       "      <th>average_submitted_chrg_amt_sum</th>\n",
       "      <th>average_medicare_payment_amt_mean</th>\n",
       "      <th>average_medicare_payment_amt_median</th>\n",
       "      <th>average_medicare_payment_amt_std</th>\n",
       "      <th>average_medicare_payment_amt_min</th>\n",
       "      <th>average_medicare_payment_amt_max</th>\n",
       "      <th>average_medicare_payment_amt_sum</th>\n",
       "      <th>fraudulent_mean</th>\n",
       "    </tr>\n",
       "  </thead>\n",
       "  <tbody>\n",
       "    <tr>\n",
       "      <th>0</th>\n",
       "      <td>2012-01-01</td>\n",
       "      <td>1003000126</td>\n",
       "      <td>Internal Medicine</td>\n",
       "      <td>CUMBERLAND</td>\n",
       "      <td>MD</td>\n",
       "      <td>US</td>\n",
       "      <td>M</td>\n",
       "      <td>174.857143</td>\n",
       "      <td>111.0</td>\n",
       "      <td>166.951518</td>\n",
       "      <td>...</td>\n",
       "      <td>58.000000</td>\n",
       "      <td>291.000000</td>\n",
       "      <td>1060.000000</td>\n",
       "      <td>82.218697</td>\n",
       "      <td>81.390000</td>\n",
       "      <td>41.942570</td>\n",
       "      <td>30.720721</td>\n",
       "      <td>158.870000</td>\n",
       "      <td>575.530877</td>\n",
       "      <td>0</td>\n",
       "    </tr>\n",
       "    <tr>\n",
       "      <th>1</th>\n",
       "      <td>2012-01-01</td>\n",
       "      <td>1003000134</td>\n",
       "      <td>Pathology</td>\n",
       "      <td>EVANSTON</td>\n",
       "      <td>IL</td>\n",
       "      <td>US</td>\n",
       "      <td>M</td>\n",
       "      <td>959.125000</td>\n",
       "      <td>223.0</td>\n",
       "      <td>2076.546889</td>\n",
       "      <td>...</td>\n",
       "      <td>39.000000</td>\n",
       "      <td>263.000000</td>\n",
       "      <td>1065.000000</td>\n",
       "      <td>26.053306</td>\n",
       "      <td>25.187934</td>\n",
       "      <td>18.836154</td>\n",
       "      <td>7.815385</td>\n",
       "      <td>64.015735</td>\n",
       "      <td>208.426446</td>\n",
       "      <td>0</td>\n",
       "    </tr>\n",
       "    <tr>\n",
       "      <th>2</th>\n",
       "      <td>2012-01-01</td>\n",
       "      <td>1003000142</td>\n",
       "      <td>Anesthesiology</td>\n",
       "      <td>TOLEDO</td>\n",
       "      <td>OH</td>\n",
       "      <td>US</td>\n",
       "      <td>M</td>\n",
       "      <td>26.000000</td>\n",
       "      <td>26.0</td>\n",
       "      <td>2.828427</td>\n",
       "      <td>...</td>\n",
       "      <td>111.000000</td>\n",
       "      <td>216.571429</td>\n",
       "      <td>327.571429</td>\n",
       "      <td>88.930000</td>\n",
       "      <td>88.930000</td>\n",
       "      <td>48.295393</td>\n",
       "      <td>54.780000</td>\n",
       "      <td>123.080000</td>\n",
       "      <td>177.860000</td>\n",
       "      <td>0</td>\n",
       "    </tr>\n",
       "    <tr>\n",
       "      <th>3</th>\n",
       "      <td>2012-01-01</td>\n",
       "      <td>1003000381</td>\n",
       "      <td>Physical Therapist</td>\n",
       "      <td>LADY LAKE</td>\n",
       "      <td>FL</td>\n",
       "      <td>US</td>\n",
       "      <td>M</td>\n",
       "      <td>166.800000</td>\n",
       "      <td>137.0</td>\n",
       "      <td>159.703475</td>\n",
       "      <td>...</td>\n",
       "      <td>35.000000</td>\n",
       "      <td>96.956522</td>\n",
       "      <td>274.965652</td>\n",
       "      <td>24.315331</td>\n",
       "      <td>19.488837</td>\n",
       "      <td>19.937615</td>\n",
       "      <td>8.767883</td>\n",
       "      <td>58.643913</td>\n",
       "      <td>121.576654</td>\n",
       "      <td>0</td>\n",
       "    </tr>\n",
       "    <tr>\n",
       "      <th>4</th>\n",
       "      <td>2012-01-01</td>\n",
       "      <td>1003000407</td>\n",
       "      <td>Family Practice</td>\n",
       "      <td>PATTON</td>\n",
       "      <td>PA</td>\n",
       "      <td>US</td>\n",
       "      <td>M</td>\n",
       "      <td>154.437500</td>\n",
       "      <td>63.5</td>\n",
       "      <td>180.288276</td>\n",
       "      <td>...</td>\n",
       "      <td>55.214521</td>\n",
       "      <td>510.000000</td>\n",
       "      <td>2343.821257</td>\n",
       "      <td>77.469027</td>\n",
       "      <td>77.795000</td>\n",
       "      <td>35.981435</td>\n",
       "      <td>29.930000</td>\n",
       "      <td>153.106164</td>\n",
       "      <td>1239.504432</td>\n",
       "      <td>0</td>\n",
       "    </tr>\n",
       "  </tbody>\n",
       "</table>\n",
       "<p>5 rows × 38 columns</p>\n",
       "</div>"
      ],
      "text/plain": [
       "        year_        npi_      provider_type_ nppes_provider_city_  \\\n",
       "0  2012-01-01  1003000126   Internal Medicine           CUMBERLAND   \n",
       "1  2012-01-01  1003000134           Pathology             EVANSTON   \n",
       "2  2012-01-01  1003000142      Anesthesiology               TOLEDO   \n",
       "3  2012-01-01  1003000381  Physical Therapist            LADY LAKE   \n",
       "4  2012-01-01  1003000407     Family Practice               PATTON   \n",
       "\n",
       "  nppes_provider_state_ nppes_provider_country_ nppes_provider_gender_  \\\n",
       "0                    MD                      US                      M   \n",
       "1                    IL                      US                      M   \n",
       "2                    OH                      US                      M   \n",
       "3                    FL                      US                      M   \n",
       "4                    PA                      US                      M   \n",
       "\n",
       "   line_srvc_cnt_mean  line_srvc_cnt_median  line_srvc_cnt_std  ...  \\\n",
       "0          174.857143                 111.0         166.951518  ...   \n",
       "1          959.125000                 223.0        2076.546889  ...   \n",
       "2           26.000000                  26.0           2.828427  ...   \n",
       "3          166.800000                 137.0         159.703475  ...   \n",
       "4          154.437500                  63.5         180.288276  ...   \n",
       "\n",
       "   average_submitted_chrg_amt_min  average_submitted_chrg_amt_max  \\\n",
       "0                       58.000000                      291.000000   \n",
       "1                       39.000000                      263.000000   \n",
       "2                      111.000000                      216.571429   \n",
       "3                       35.000000                       96.956522   \n",
       "4                       55.214521                      510.000000   \n",
       "\n",
       "   average_submitted_chrg_amt_sum  average_medicare_payment_amt_mean  \\\n",
       "0                     1060.000000                          82.218697   \n",
       "1                     1065.000000                          26.053306   \n",
       "2                      327.571429                          88.930000   \n",
       "3                      274.965652                          24.315331   \n",
       "4                     2343.821257                          77.469027   \n",
       "\n",
       "   average_medicare_payment_amt_median  average_medicare_payment_amt_std  \\\n",
       "0                            81.390000                         41.942570   \n",
       "1                            25.187934                         18.836154   \n",
       "2                            88.930000                         48.295393   \n",
       "3                            19.488837                         19.937615   \n",
       "4                            77.795000                         35.981435   \n",
       "\n",
       "   average_medicare_payment_amt_min  average_medicare_payment_amt_max  \\\n",
       "0                         30.720721                        158.870000   \n",
       "1                          7.815385                         64.015735   \n",
       "2                         54.780000                        123.080000   \n",
       "3                          8.767883                         58.643913   \n",
       "4                         29.930000                        153.106164   \n",
       "\n",
       "   average_medicare_payment_amt_sum  fraudulent_mean  \n",
       "0                        575.530877                0  \n",
       "1                        208.426446                0  \n",
       "2                        177.860000                0  \n",
       "3                        121.576654                0  \n",
       "4                       1239.504432                0  \n",
       "\n",
       "[5 rows x 38 columns]"
      ]
     },
     "execution_count": 97,
     "metadata": {},
     "output_type": "execute_result"
    }
   ],
   "source": [
    "agg_partB_df.head()"
   ]
  },
  {
   "cell_type": "code",
   "execution_count": 56,
   "metadata": {},
   "outputs": [
    {
     "data": {
      "text/plain": [
       "0    3521673\n",
       "1        703\n",
       "Name: fraudulent_mean, dtype: int64"
      ]
     },
     "metadata": {},
     "output_type": "display_data"
    },
    {
     "name": "stdout",
     "output_type": "stream",
     "text": [
      "Fraudulent physicians are: 0.019962% of all data\n"
     ]
    }
   ],
   "source": [
    "a = agg_partB_df.fraudulent_mean.value_counts()\n",
    "display(a)\n",
    "print('Fraudulent physicians are: {0}% of all data'.format(str(np.round((a[1]/a[0])*100,decimals = 6)))) "
   ]
  },
  {
   "cell_type": "code",
   "execution_count": 6,
   "metadata": {},
   "outputs": [],
   "source": [
    "# Normalize predictors to [0,1] min-max scale\n",
    "from sklearn import preprocessing\n",
    "\n",
    "# first, get predictors (x's) scaled\n",
    "df = agg_partB_df.iloc[:,7:(agg_partB_df.shape[1]-1)] \n",
    "x  = df.values #returns a numpy array\n",
    "min_max_scaler = preprocessing.MinMaxScaler()\n",
    "x_scaled = min_max_scaler.fit_transform(x)\n",
    "df = pd.DataFrame(x_scaled, columns=df.columns, index=df.index)"
   ]
  },
  {
   "cell_type": "code",
   "execution_count": 7,
   "metadata": {},
   "outputs": [],
   "source": [
    "# merge back in with npi and label\n",
    "agg_partB_df['npi_'] = agg_partB_df['npi_'].astype(str)\n",
    "agg_partB_df['year_']=agg_partB_df['year_'].astype(str).str[:4]\n",
    "\n",
    "agg_partB_df = pd.concat([ agg_partB_df.iloc[:,[0,1,2,6,37]], df ], axis=1)"
   ]
  },
  {
   "cell_type": "code",
   "execution_count": 8,
   "metadata": {},
   "outputs": [],
   "source": [
    "# One-hot encoding\n",
    "for col in ['year_','nppes_provider_gender_','provider_type_']:\n",
    "    agg_partB_df = pd.concat([agg_partB_df, pd.get_dummies(agg_partB_df[col], drop_first= True)], axis=1)\n",
    "    agg_partB_df = agg_partB_df.drop(col, 1) #drop old column that's been encoded"
   ]
  },
  {
   "cell_type": "code",
   "execution_count": 9,
   "metadata": {},
   "outputs": [
    {
     "data": {
      "text/plain": [
       "(3522376, 147)"
      ]
     },
     "metadata": {},
     "output_type": "display_data"
    },
    {
     "name": "stdout",
     "output_type": "stream",
     "text": [
      "There are 146 predictors.\n"
     ]
    }
   ],
   "source": [
    "display(agg_partB_df.shape)\n",
    "print('There are {0} predictors.'.format(agg_partB_df.shape[1]-1)) "
   ]
  },
  {
   "cell_type": "code",
   "execution_count": 11,
   "metadata": {
    "scrolled": true
   },
   "outputs": [
    {
     "name": "stdout",
     "output_type": "stream",
     "text": [
      "6min 30s ± 6.28 s per loop (mean ± std. dev. of 7 runs, 1 loop each)\n"
     ]
    }
   ],
   "source": [
    "# Write data for training\n",
    "%timeit agg_partB_df.to_csv('labeled-data-training-v1')"
   ]
  },
  {
   "cell_type": "markdown",
   "metadata": {},
   "source": [
    "### 6. Deal with Class Imbalance"
   ]
  },
  {
   "cell_type": "code",
   "execution_count": null,
   "metadata": {},
   "outputs": [],
   "source": [
    "import types\n",
    "import pandas as pd\n",
    "import numpy as np\n",
    "from botocore.client import Config\n",
    "import ibm_boto3\n",
    "\n",
    "def __iter__(self): return 0\n",
    "\n",
    "# @hidden_cell\n",
    "# The following code accesses a file in your IBM Cloud Object Storage. It includes your credentials.\n",
    "# You might want to remove those credentials before you share the notebook.\n",
    "client_ = ibm_boto3.client(service_name='s3',\n",
    "    ibm_api_key_id='rixfgKn8meWFMo9bgKuWqszB1oKlUhKx-t1WnKbo-saT',\n",
    "    ibm_auth_endpoint=\"https://iam.ng.bluemix.net/identity/token\",\n",
    "    config=Config(signature_version='oauth'),\n",
    "    endpoint_url='https://s3.private.us-south.cloud-object-storage.appdomain.cloud')\n",
    "\n",
    "# Your data file was loaded into a botocore.response.StreamingBody object.\n",
    "# Please read the documentation of ibm_boto3 and pandas to learn more about the possibilities to load the data.\n",
    "# ibm_boto3 documentation: https://ibm.github.io/ibm-cos-sdk-python/\n",
    "# pandas documentation: http://pandas.pydata.org/\n",
    "streaming_body_1 = client_.get_object(Bucket='healthlock-ai-combined-data', Key='labeled-data-visualization-v1')['Body']\n",
    "# add missing __iter__ method, so pandas accepts body as file-like object\n",
    "if not hasattr(streaming_body_1, \"__iter__\"): streaming_body_1.__iter__ = types.MethodType( __iter__, streaming_body_1 ) "
   ]
  },
  {
   "cell_type": "code",
   "execution_count": null,
   "metadata": {},
   "outputs": [],
   "source": [
    "# Split data into fraud and not fraud  \n",
    "agg_partB_df_fraud = agg_partB_df.loc[agg_partB_df['fraudulent_mean'] == 1]\n",
    "agg_partB_df_fraud_filtered = agg_partB_df_fraud[~agg_partB_df_fraud.isnull().any(axis=1)]  # drop rows with any missing values\n",
    "agg_partB_df_not_fraud = agg_partB_df.loc[agg_partB_df['fraudulent_mean'] == 0]\n",
    "agg_partB_df_not_fraud_filtered = agg_partB_df_not_fraud[~agg_partB_df_not_fraud.isnull().any(axis=1)]  # drop rows with any missing values"
   ]
  },
  {
   "cell_type": "code",
   "execution_count": null,
   "metadata": {},
   "outputs": [],
   "source": [
    "# Sample data \n",
    "num_rows = 3200  # --> 20000 rows ~ 100 MB (limit on AutoAI)\n",
    "percent_fraud = 0.2  # TODO: Change this value to increase the percentage of AutoAI sample that is fraud \n",
    "n_fraud = min(int(num_rows * percent_fraud), agg_partB_df_fraud_filtered['fraudulent_mean'].count())\n",
    "random_state = np.random.RandomState(seed=0)\n",
    "auto_ai_df = pd.concat([agg_partB_df_fraud_filtered.sample(n=n_fraud, random_state=random_state),\n",
    "                       agg_partB_df_not_fraud_filtered.sample(n=(num_rows-n_fraud), random_state=random_state)])\n",
    "print(f'Sample breakdown: {n_fraud} ({100*(n_fraud/num_rows):.2f}%) Fraud & {num_rows-n_fraud} ({100*((num_rows-n_fraud)/num_rows):.2f}%) Not Fraud')\n",
    "auto_ai_df.head()"
   ]
  },
  {
   "cell_type": "code",
   "execution_count": null,
   "metadata": {},
   "outputs": [],
   "source": [
    "# Save auto_ai sample to project\n",
    "from project_lib import Project\n",
    "project = Project('healthlockai-donotdelete-pr-ogi4ydhjozwgjy', \"8c9fc83d-f281-4e14-b055-cfd23187bcd2\", \"p-e8118b231f6c482c8860583a28f33308fe6de9a8\")\n",
    "\n",
    "project.save_data(file_name = f'auto_ai_sample_rows-{num_rows}_nfraud-{n_fraud}.csv',\n",
    "                  data=auto_ai_df.to_csv(index=False, header=True), overwrite=True)"
   ]
  }
 ],
 "metadata": {
  "kernelspec": {
   "display_name": "Python 3",
   "language": "python",
   "name": "python3"
  },
  "language_info": {
   "codemirror_mode": {
    "name": "ipython",
    "version": 3
   },
   "file_extension": ".py",
   "mimetype": "text/x-python",
   "name": "python",
   "nbconvert_exporter": "python",
   "pygments_lexer": "ipython3",
   "version": "3.7.3"
  }
 },
 "nbformat": 4,
 "nbformat_minor": 2
}
